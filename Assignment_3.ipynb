{
  "cells": [
    {
      "cell_type": "markdown",
      "metadata": {
        "id": "MukJ1KeDs8p4"
      },
      "source": [
        "## Assignment 3: применение feature importance в процессной аналитике  ( max 15 pts.)"
      ]
    },
    {
      "cell_type": "markdown",
      "metadata": {
        "id": "IfH7SD7Bs8p-"
      },
      "source": [
        "Одна из основных задач process mining - сформировать список гипотез (\"инсайтов\", \"неэффективностей\"), оценить их важность и смоделировать что будет, если улучшить процесс по этим гипотезам"
      ]
    },
    {
      "cell_type": "markdown",
      "metadata": {
        "id": "OiUhy3XBs8p_"
      },
      "source": [
        "Такую работу можно выполнять разными способами - начиная от классических опросов и заканчивая подходами, основанными на данных - feature improtance, MCMC, reinforcement learning. <br>\n",
        "В этом задании вам предагается опробовать базовый метод, основанный на feature importance."
      ]
    },
    {
      "cell_type": "markdown",
      "metadata": {
        "id": "DOQDlLtws8qA"
      },
      "source": [
        "<b>Постановка задачи:</b> <ol> \n",
        "    <li> Для входных данных {id, status, datetime, document_type} расcчитать время выполнения процесса {id: total_time} </li>\n",
        "    <li> Для каждого id сформировать все возможные переходы по процессу {id: (st1, st), ..., (st_n-1, st_n)} </li>\n",
        "    <li> Натренировать любую модель машинного обучения, где фичи - все возможные переходы и атрибуты (в нашем случае - только document_type) </li>\n",
        "    <li> Оценить важность каждого перехода c помощью алгоритмов permutation importance и SHAP </li>\n",
        "    <li> Сделать вывод о том, какие переходы влияют больше всего на длительность процесса (список top-5)</li>\n",
        "    <li> Предположить на сколько снизится время процесса (в среднем), если их устранить - написать заключение в свободной форме </li>\n",
        " </ol>"
      ]
    },
    {
      "cell_type": "code",
      "execution_count": null,
      "metadata": {
        "id": "KG_2Emc-s8qB"
      },
      "outputs": [],
      "source": [
        "import warnings\n",
        "warnings.filterwarnings('ignore')"
      ]
    },
    {
      "cell_type": "code",
      "execution_count": null,
      "metadata": {
        "id": "wMaAsRXOs8qD"
      },
      "outputs": [],
      "source": [
        "import numpy as np\n",
        "import pandas as pd\n",
        "from sklearn.ensemble import RandomForestRegressor\n",
        "from sklearn.model_selection import cross_val_score\n",
        "from sklearn.metrics import accuracy_score, mean_squared_error\n",
        "import time\n",
        "import tqdm\n",
        "from datetime import timedelta\n",
        "from copy import deepcopy\n",
        "from matplotlib import pyplot as plt\n",
        "from matplotlib.pyplot import figure\n",
        "from sklearn.tree import export_graphviz, plot_tree\n",
        "%matplotlib inline"
      ]
    },
    {
      "cell_type": "code",
      "execution_count": null,
      "metadata": {
        "id": "PVBxCTWEs8qE"
      },
      "outputs": [],
      "source": [
        "from sklearn.preprocessing import LabelEncoder, LabelBinarizer, MinMaxScaler"
      ]
    },
    {
      "cell_type": "code",
      "execution_count": null,
      "metadata": {
        "id": "YL8EgHuIs8qF"
      },
      "outputs": [],
      "source": [
        "def zipsort_top(vals, labels, topk=5):\n",
        "    vals, labels = zip(*sorted(zip(vals, labels), key = lambda t: t[0]))\n",
        "    return vals[-topk:], labels[-topk:]"
      ]
    },
    {
      "cell_type": "markdown",
      "metadata": {
        "id": "YpaLC9wIs8qG"
      },
      "source": [
        "### 1. Загрузим данные и трансформируем датасет"
      ]
    },
    {
      "cell_type": "markdown",
      "metadata": {
        "id": "zWmUhTBcs8qH"
      },
      "source": [
        "##### Можно использовать оригинальный датасет"
      ]
    },
    {
      "cell_type": "code",
      "execution_count": null,
      "metadata": {
        "id": "w1SbuB73s8qI"
      },
      "outputs": [],
      "source": [
        "# df_raw = pd.read_csv('df_assignment2.csv', sep=';') # Читаем данные\n",
        "# df_raw['DataTime'] = pd.to_datetime(df_raw['DataTime']).fillna(0) # Дата должна быть датой\n",
        "# df_raw = df_raw.sort_values(['PID', 'DataTime', 'Status_Name']) # Сортируем от самых старых events к самым новым, доп. сортировка по status для стабильности"
      ]
    },
    {
      "cell_type": "markdown",
      "metadata": {
        "id": "TOQFI_R4s8qJ"
      },
      "source": [
        "##### Либо подготовленный"
      ]
    },
    {
      "cell_type": "code",
      "execution_count": null,
      "metadata": {
        "id": "GWctGfgQs8qJ"
      },
      "outputs": [],
      "source": [
        "df = pd.read_csv('df_2_processed.csv') # Читаем данные\n",
        "df_val = pd.read_csv('df_2_processed_val_public.csv') # Читаем данные\n",
        "#df_test = pd.read_csv('df_2_processed_val_private.csv')"
      ]
    },
    {
      "cell_type": "code",
      "execution_count": null,
      "metadata": {
        "id": "fahz88iDs8qK"
      },
      "outputs": [],
      "source": [
        "df = df[(df.TotalTime<300) & (df.TotalTime>0.01)]\n",
        "df_val = df_val[(df_val.TotalTime<300) & (df_val.TotalTime>0.01)]"
      ]
    },
    {
      "cell_type": "code",
      "execution_count": null,
      "metadata": {
        "id": "yqlzIzAjs8qL",
        "outputId": "94615f82-4616-4856-b9d3-e2093dbd78c7",
        "colab": {
          "base_uri": "https://localhost:8080/",
          "height": 282
        }
      },
      "outputs": [
        {
          "output_type": "execute_result",
          "data": {
            "text/plain": [
              "<matplotlib.axes._subplots.AxesSubplot at 0x7f1cad09af50>"
            ]
          },
          "metadata": {},
          "execution_count": 31
        },
        {
          "output_type": "display_data",
          "data": {
            "text/plain": [
              "<Figure size 432x288 with 1 Axes>"
            ],
            "image/png": "[encoded data removed]"
          },
          "metadata": {
            "needs_background": "light"
          }
        }
      ],
      "source": [
        "df.TotalTime.hist()"
      ]
    },
    {
      "cell_type": "code",
      "execution_count": null,
      "metadata": {
        "id": "EKZOm2TFs8qM"
      },
      "outputs": [],
      "source": [
        "df['TotStat'] = df.iloc[:, 5:-1].sum(axis=1)\n",
        "df_val['TotStat'] = df_val.iloc[:, 5:-1].sum(axis=1)"
      ]
    },
    {
      "cell_type": "markdown",
      "metadata": {
        "id": "Zae2Bj7fs8qM"
      },
      "source": [
        "### ПРИМЕР: Обучим RandomForestRegressor и посчитаем feature importance (gain)"
      ]
    },
    {
      "cell_type": "code",
      "execution_count": null,
      "metadata": {
        "id": "o5kOzLEVs8qM"
      },
      "outputs": [],
      "source": [
        "from sklearn.ensemble import RandomForestRegressor"
      ]
    },
    {
      "cell_type": "code",
      "execution_count": null,
      "metadata": {
        "id": "SkxsY4Oas8qN"
      },
      "outputs": [],
      "source": [
        "df_trees = deepcopy(df) \n",
        "for col in df_trees.columns:\n",
        "#     if df_trees[col].dtype == 'object':\n",
        "        le = LabelEncoder()\n",
        "        le_fit = le.fit(df_trees[col].append(df_val[col]))\n",
        "        df_trees[col] = le.transform(df_trees[col])\n",
        "        df_val[col] = le.transform(df_val[col])"
      ]
    },
    {
      "cell_type": "code",
      "execution_count": null,
      "metadata": {
        "id": "pcmt8mb7s8qN"
      },
      "outputs": [],
      "source": [
        "y = df_trees['TotalTime']\n",
        "X = df_trees.drop(['TotalTime', 'PID'], axis=1).fillna(-1)\n",
        "X_names = df_trees.drop(['TotalTime', 'PID'], axis=1).columns"
      ]
    },
    {
      "cell_type": "code",
      "execution_count": null,
      "metadata": {
        "id": "TOm_jvwvs8qO"
      },
      "outputs": [],
      "source": [
        "y_val = df_val['TotalTime']\n",
        "X_val = df_val.drop(['TotalTime', 'PID'], axis=1).fillna(-1)"
      ]
    },
    {
      "cell_type": "code",
      "execution_count": null,
      "metadata": {
        "id": "-zQjNGi4s8qO",
        "outputId": "d215a428-67af-4c73-fd60-41e9a70bedcb",
        "colab": {
          "base_uri": "https://localhost:8080/"
        }
      },
      "outputs": [
        {
          "output_type": "execute_result",
          "data": {
            "text/plain": [
              "RandomForestRegressor(max_depth=6, min_impurity_decrease=0.01)"
            ]
          },
          "metadata": {},
          "execution_count": 37
        }
      ],
      "source": [
        "rfr = RandomForestRegressor(n_estimators=100, min_impurity_decrease=0.01, max_depth=6)\n",
        "rfr.fit(X, y)"
      ]
    },
    {
      "cell_type": "code",
      "execution_count": null,
      "metadata": {
        "id": "PmBVUpzms8qO",
        "outputId": "77ec40a5-1e71-4f05-b328-8b79da348f5a",
        "colab": {
          "base_uri": "https://localhost:8080/"
        }
      },
      "outputs": [
        {
          "output_type": "stream",
          "name": "stdout",
          "text": [
            "RMSE for rfr: 5276.7171\n",
            "RMSE for rfr Val: 5281.6484\n"
          ]
        }
      ],
      "source": [
        "print(f'RMSE for rfr: {np.sqrt(mean_squared_error(y, rfr.predict(X))):.4f}')\n",
        "print(f'RMSE for rfr Val: {np.sqrt(mean_squared_error(y_val, rfr.predict(X_val))):.4f}')"
      ]
    },
    {
      "cell_type": "code",
      "execution_count": null,
      "metadata": {
        "id": "oPRM9OgTs8qP",
        "outputId": "d3152633-1719-4d5a-bb9a-a4230bb6ecdf",
        "colab": {
          "base_uri": "https://localhost:8080/",
          "height": 484
        }
      },
      "outputs": [
        {
          "output_type": "execute_result",
          "data": {
            "text/plain": [
              "<BarContainer object of 10 artists>"
            ]
          },
          "metadata": {},
          "execution_count": 39
        },
        {
          "output_type": "display_data",
          "data": {
            "text/plain": [
              "<Figure size 1600x640 with 1 Axes>"
            ],
            "image/png": "[encoded data removed]"
          },
          "metadata": {
            "needs_background": "light"
          }
        }
      ],
      "source": [
        "importances = rfr.feature_importances_\n",
        "importances, names_viz = zipsort_top(importances, X_names, 10)\n",
        "figure(figsize=(20, 8), dpi=80)\n",
        "plt.bar(names_viz, height=importances)"
      ]
    },
    {
      "cell_type": "markdown",
      "metadata": {
        "id": "DFTuh2Zus8qP"
      },
      "source": [
        "### ПРИМЕР: XGB и посчитаем feature importance (gain)"
      ]
    },
    {
      "cell_type": "code",
      "execution_count": null,
      "metadata": {
        "id": "TvNNQwnrs8qP"
      },
      "outputs": [],
      "source": [
        "import tqdm.auto\n",
        "import xgboost as xgb\n",
        "from sklearn.model_selection import GridSearchCV\n",
        "from sklearn.inspection import permutation_importance"
      ]
    },
    {
      "cell_type": "code",
      "execution_count": null,
      "metadata": {
        "id": "jX5Ss3f0s8qP",
        "outputId": "ed32f8a1-382e-4774-b8c4-debea12e8d8a",
        "colab": {
          "base_uri": "https://localhost:8080/"
        }
      },
      "outputs": [
        {
          "output_type": "stream",
          "name": "stdout",
          "text": [
            "[11:41:14] WARNING: /workspace/src/objective/regression_obj.cu:152: reg:linear is now deprecated in favor of reg:squarederror.\n"
          ]
        },
        {
          "output_type": "execute_result",
          "data": {
            "text/plain": [
              "XGBRegressor(n_estimators=300, reg_alpha=3, subsample=0.8)"
            ]
          },
          "metadata": {},
          "execution_count": 41
        }
      ],
      "source": [
        "gbm = xgb.XGBRegressor(n_estimators=300, learning_rate=0.1, reg_alpha=3, max_depth=3, subsample=0.8)\n",
        "gbm.fit(X, y)"
      ]
    },
    {
      "cell_type": "code",
      "execution_count": null,
      "metadata": {
        "id": "QlmR6Irws8qQ",
        "outputId": "82ed43ec-2b24-4ce8-bfbe-d960e59046e8",
        "colab": {
          "base_uri": "https://localhost:8080/"
        }
      },
      "outputs": [
        {
          "output_type": "stream",
          "name": "stdout",
          "text": [
            "RMSE for rfr: 4932.9861\n",
            "RMSE for rfr Val: 4984.8888\n"
          ]
        }
      ],
      "source": [
        "print(f'RMSE for rfr: {np.sqrt(mean_squared_error(y, gbm.predict(X))):.4f}')\n",
        "print(f'RMSE for rfr Val: {np.sqrt(mean_squared_error(y_val, gbm.predict(X_val))):.4f}')"
      ]
    },
    {
      "cell_type": "code",
      "execution_count": null,
      "metadata": {
        "id": "FOiW7Wifs8qQ",
        "outputId": "7f9c5e5a-fc9a-4bcf-a1e3-c44614b5196a",
        "colab": {
          "base_uri": "https://localhost:8080/",
          "height": 481
        }
      },
      "outputs": [
        {
          "output_type": "execute_result",
          "data": {
            "text/plain": [
              "<BarContainer object of 10 artists>"
            ]
          },
          "metadata": {},
          "execution_count": 43
        },
        {
          "output_type": "display_data",
          "data": {
            "text/plain": [
              "<Figure size 1600x640 with 1 Axes>"
            ],
            "image/png": "[encoded data removed]"
          },
          "metadata": {
            "needs_background": "light"
          }
        }
      ],
      "source": [
        "importances = gbm.feature_importances_\n",
        "importances, names_viz = zipsort_top(importances, X_names, 10)\n",
        "figure(figsize=(20, 8), dpi=80)\n",
        "plt.bar(names_viz, height=importances)"
      ]
    },
    {
      "cell_type": "markdown",
      "source": [
        "####Обучение модели"
      ],
      "metadata": {
        "id": "Bl3hvezU6msS"
      }
    },
    {
      "cell_type": "code",
      "source": [
        "df.head()"
      ],
      "metadata": {
        "colab": {
          "base_uri": "https://localhost:8080/",
          "height": 317
        },
        "id": "85jZBPVWr8op",
        "outputId": "20704bee-a8a1-474d-d0c0-1de36f3cde2c"
      },
      "execution_count": null,
      "outputs": [
        {
          "output_type": "execute_result",
          "data": {
            "text/plain": [
              "                   PID    Channel Product_Name      TID  Gender  \\\n",
              "0 -9223099799969338508  channel_1    product_2  tid_338     1.0   \n",
              "1 -9222779103723446344  channel_2    product_0  tid_290     1.0   \n",
              "2 -9222578230863541198  channel_1    product_2  tid_837     1.0   \n",
              "3 -9222555513019670885  channel_1    product_7  tid_364     0.0   \n",
              "4 -9222528699404486344  channel_1    product_0  tid_549     1.0   \n",
              "\n",
              "   ('status_6', nan)  ('status_4', 'status_5')  ('status_1', 'status_2')  \\\n",
              "0                  1                         1                         1   \n",
              "1                  1                         1                         1   \n",
              "2                  1                         1                         1   \n",
              "3                  1                         1                         1   \n",
              "4                  1                         1                         1   \n",
              "\n",
              "   ('status_5', 'status_6')  ('status_2', 'status_4')  ...  \\\n",
              "0                         1                         1  ...   \n",
              "1                         1                         1  ...   \n",
              "2                         1                         1  ...   \n",
              "3                         1                         1  ...   \n",
              "4                         1                         1  ...   \n",
              "\n",
              "   ('status_7', 'status_5')  ('status_4', 'status_6')  \\\n",
              "0                         0                         0   \n",
              "1                         0                         0   \n",
              "2                         0                         0   \n",
              "3                         0                         0   \n",
              "4                         0                         0   \n",
              "\n",
              "   ('status_9', 'status_6')  ('status_6', 'status_6')  \\\n",
              "0                         0                         0   \n",
              "1                         0                         0   \n",
              "2                         0                         0   \n",
              "3                         0                         0   \n",
              "4                         0                         0   \n",
              "\n",
              "   ('status_7', 'status_9')  ('status_8', 'status_4')  \\\n",
              "0                         0                         0   \n",
              "1                         0                         0   \n",
              "2                         0                         0   \n",
              "3                         0                         0   \n",
              "4                         0                         0   \n",
              "\n",
              "   ('status_7', 'status_3')  ('status_6', 'status_3')  TotalTime  TotStat  \n",
              "0                         0                         0     5.0153        7  \n",
              "1                         0                         0     0.1056        8  \n",
              "2                         0                         0     0.1924        7  \n",
              "3                         0                         0   246.8410        8  \n",
              "4                         0                         0    60.4507        7  \n",
              "\n",
              "[5 rows x 86 columns]"
            ],
            "text/html": [
              "\n",
              "  <div id=\"df-ec65c13a-4540-4cc8-afdc-74ba3d0fc959\">\n",
              "    <div class=\"colab-df-container\">\n",
              "      <div>\n",
              "<style scoped>\n",
              "    .dataframe tbody tr th:only-of-type {\n",
              "        vertical-align: middle;\n",
              "    }\n",
              "\n",
              "    .dataframe tbody tr th {\n",
              "        vertical-align: top;\n",
              "    }\n",
              "\n",
              "    .dataframe thead th {\n",
              "        text-align: right;\n",
              "    }\n",
              "</style>\n",
              "<table border=\"1\" class=\"dataframe\">\n",
              "  <thead>\n",
              "    <tr style=\"text-align: right;\">\n",
              "      <th></th>\n",
              "      <th>PID</th>\n",
              "      <th>Channel</th>\n",
              "      <th>Product_Name</th>\n",
              "      <th>TID</th>\n",
              "      <th>Gender</th>\n",
              "      <th>('status_6', nan)</th>\n",
              "      <th>('status_4', 'status_5')</th>\n",
              "      <th>('status_1', 'status_2')</th>\n",
              "      <th>('status_5', 'status_6')</th>\n",
              "      <th>('status_2', 'status_4')</th>\n",
              "      <th>...</th>\n",
              "      <th>('status_7', 'status_5')</th>\n",
              "      <th>('status_4', 'status_6')</th>\n",
              "      <th>('status_9', 'status_6')</th>\n",
              "      <th>('status_6', 'status_6')</th>\n",
              "      <th>('status_7', 'status_9')</th>\n",
              "      <th>('status_8', 'status_4')</th>\n",
              "      <th>('status_7', 'status_3')</th>\n",
              "      <th>('status_6', 'status_3')</th>\n",
              "      <th>TotalTime</th>\n",
              "      <th>TotStat</th>\n",
              "    </tr>\n",
              "  </thead>\n",
              "  <tbody>\n",
              "    <tr>\n",
              "      <th>0</th>\n",
              "      <td>-9223099799969338508</td>\n",
              "      <td>channel_1</td>\n",
              "      <td>product_2</td>\n",
              "      <td>tid_338</td>\n",
              "      <td>1.0</td>\n",
              "      <td>1</td>\n",
              "      <td>1</td>\n",
              "      <td>1</td>\n",
              "      <td>1</td>\n",
              "      <td>1</td>\n",
              "      <td>...</td>\n",
              "      <td>0</td>\n",
              "      <td>0</td>\n",
              "      <td>0</td>\n",
              "      <td>0</td>\n",
              "      <td>0</td>\n",
              "      <td>0</td>\n",
              "      <td>0</td>\n",
              "      <td>0</td>\n",
              "      <td>5.0153</td>\n",
              "      <td>7</td>\n",
              "    </tr>\n",
              "    <tr>\n",
              "      <th>1</th>\n",
              "      <td>-9222779103723446344</td>\n",
              "      <td>channel_2</td>\n",
              "      <td>product_0</td>\n",
              "      <td>tid_290</td>\n",
              "      <td>1.0</td>\n",
              "      <td>1</td>\n",
              "      <td>1</td>\n",
              "      <td>1</td>\n",
              "      <td>1</td>\n",
              "      <td>1</td>\n",
              "      <td>...</td>\n",
              "      <td>0</td>\n",
              "      <td>0</td>\n",
              "      <td>0</td>\n",
              "      <td>0</td>\n",
              "      <td>0</td>\n",
              "      <td>0</td>\n",
              "      <td>0</td>\n",
              "      <td>0</td>\n",
              "      <td>0.1056</td>\n",
              "      <td>8</td>\n",
              "    </tr>\n",
              "    <tr>\n",
              "      <th>2</th>\n",
              "      <td>-9222578230863541198</td>\n",
              "      <td>channel_1</td>\n",
              "      <td>product_2</td>\n",
              "      <td>tid_837</td>\n",
              "      <td>1.0</td>\n",
              "      <td>1</td>\n",
              "      <td>1</td>\n",
              "      <td>1</td>\n",
              "      <td>1</td>\n",
              "      <td>1</td>\n",
              "      <td>...</td>\n",
              "      <td>0</td>\n",
              "      <td>0</td>\n",
              "      <td>0</td>\n",
              "      <td>0</td>\n",
              "      <td>0</td>\n",
              "      <td>0</td>\n",
              "      <td>0</td>\n",
              "      <td>0</td>\n",
              "      <td>0.1924</td>\n",
              "      <td>7</td>\n",
              "    </tr>\n",
              "    <tr>\n",
              "      <th>3</th>\n",
              "      <td>-9222555513019670885</td>\n",
              "      <td>channel_1</td>\n",
              "      <td>product_7</td>\n",
              "      <td>tid_364</td>\n",
              "      <td>0.0</td>\n",
              "      <td>1</td>\n",
              "      <td>1</td>\n",
              "      <td>1</td>\n",
              "      <td>1</td>\n",
              "      <td>1</td>\n",
              "      <td>...</td>\n",
              "      <td>0</td>\n",
              "      <td>0</td>\n",
              "      <td>0</td>\n",
              "      <td>0</td>\n",
              "      <td>0</td>\n",
              "      <td>0</td>\n",
              "      <td>0</td>\n",
              "      <td>0</td>\n",
              "      <td>246.8410</td>\n",
              "      <td>8</td>\n",
              "    </tr>\n",
              "    <tr>\n",
              "      <th>4</th>\n",
              "      <td>-9222528699404486344</td>\n",
              "      <td>channel_1</td>\n",
              "      <td>product_0</td>\n",
              "      <td>tid_549</td>\n",
              "      <td>1.0</td>\n",
              "      <td>1</td>\n",
              "      <td>1</td>\n",
              "      <td>1</td>\n",
              "      <td>1</td>\n",
              "      <td>1</td>\n",
              "      <td>...</td>\n",
              "      <td>0</td>\n",
              "      <td>0</td>\n",
              "      <td>0</td>\n",
              "      <td>0</td>\n",
              "      <td>0</td>\n",
              "      <td>0</td>\n",
              "      <td>0</td>\n",
              "      <td>0</td>\n",
              "      <td>60.4507</td>\n",
              "      <td>7</td>\n",
              "    </tr>\n",
              "  </tbody>\n",
              "</table>\n",
              "<p>5 rows × 86 columns</p>\n",
              "</div>\n",
              "      <button class=\"colab-df-convert\" onclick=\"convertToInteractive('df-ec65c13a-4540-4cc8-afdc-74ba3d0fc959')\"\n",
              "              title=\"Convert this dataframe to an interactive table.\"\n",
              "              style=\"display:none;\">\n",
              "        \n",
              "  <svg xmlns=\"http://www.w3.org/2000/svg\" height=\"24px\"viewBox=\"0 0 24 24\"\n",
              "       width=\"24px\">\n",
              "    <path d=\"M0 0h24v24H0V0z\" fill=\"none\"/>\n",
              "    <path d=\"M18.56 5.44l.94 2.06.94-2.06 2.06-.94-2.06-.94-.94-2.06-.94 2.06-2.06.94zm-11 1L8.5 8.5l.94-2.06 2.06-.94-2.06-.94L8.5 2.5l-.94 2.06-2.06.94zm10 10l.94 2.06.94-2.06 2.06-.94-2.06-.94-.94-2.06-.94 2.06-2.06.94z\"/><path d=\"M17.41 7.96l-1.37-1.37c-.4-.4-.92-.59-1.43-.59-.52 0-1.04.2-1.43.59L10.3 9.45l-7.72 7.72c-.78.78-.78 2.05 0 2.83L4 21.41c.39.39.9.59 1.41.59.51 0 1.02-.2 1.41-.59l7.78-7.78 2.81-2.81c.8-.78.8-2.07 0-2.86zM5.41 20L4 18.59l7.72-7.72 1.47 1.35L5.41 20z\"/>\n",
              "  </svg>\n",
              "      </button>\n",
              "      \n",
              "  <style>\n",
              "    .colab-df-container {\n",
              "      display:flex;\n",
              "      flex-wrap:wrap;\n",
              "      gap: 12px;\n",
              "    }\n",
              "\n",
              "    .colab-df-convert {\n",
              "      background-color: #E8F0FE;\n",
              "      border: none;\n",
              "      border-radius: 50%;\n",
              "      cursor: pointer;\n",
              "      display: none;\n",
              "      fill: #1967D2;\n",
              "      height: 32px;\n",
              "      padding: 0 0 0 0;\n",
              "      width: 32px;\n",
              "    }\n",
              "\n",
              "    .colab-df-convert:hover {\n",
              "      background-color: #E2EBFA;\n",
              "      box-shadow: 0px 1px 2px rgba(60, 64, 67, 0.3), 0px 1px 3px 1px rgba(60, 64, 67, 0.15);\n",
              "      fill: #174EA6;\n",
              "    }\n",
              "\n",
              "    [theme=dark] .colab-df-convert {\n",
              "      background-color: #3B4455;\n",
              "      fill: #D2E3FC;\n",
              "    }\n",
              "\n",
              "    [theme=dark] .colab-df-convert:hover {\n",
              "      background-color: #434B5C;\n",
              "      box-shadow: 0px 1px 3px 1px rgba(0, 0, 0, 0.15);\n",
              "      filter: drop-shadow(0px 1px 2px rgba(0, 0, 0, 0.3));\n",
              "      fill: #FFFFFF;\n",
              "    }\n",
              "  </style>\n",
              "\n",
              "      <script>\n",
              "        const buttonEl =\n",
              "          document.querySelector('#df-ec65c13a-4540-4cc8-afdc-74ba3d0fc959 button.colab-df-convert');\n",
              "        buttonEl.style.display =\n",
              "          google.colab.kernel.accessAllowed ? 'block' : 'none';\n",
              "\n",
              "        async function convertToInteractive(key) {\n",
              "          const element = document.querySelector('#df-ec65c13a-4540-4cc8-afdc-74ba3d0fc959');\n",
              "          const dataTable =\n",
              "            await google.colab.kernel.invokeFunction('convertToInteractive',\n",
              "                                                     [key], {});\n",
              "          if (!dataTable) return;\n",
              "\n",
              "          const docLinkHtml = 'Like what you see? Visit the ' +\n",
              "            '<a target=\"_blank\" href=https://colab.research.google.com/notebooks/data_table.ipynb>data table notebook</a>'\n",
              "            + ' to learn more about interactive tables.';\n",
              "          element.innerHTML = '';\n",
              "          dataTable['output_type'] = 'display_data';\n",
              "          await google.colab.output.renderOutput(dataTable, element);\n",
              "          const docLink = document.createElement('div');\n",
              "          docLink.innerHTML = docLinkHtml;\n",
              "          element.appendChild(docLink);\n",
              "        }\n",
              "      </script>\n",
              "    </div>\n",
              "  </div>\n",
              "  "
            ]
          },
          "metadata": {},
          "execution_count": 45
        }
      ]
    },
    {
      "cell_type": "code",
      "source": [
        "df_val.head()"
      ],
      "metadata": {
        "colab": {
          "base_uri": "https://localhost:8080/",
          "height": 317
        },
        "id": "dsFK0t-rsx2K",
        "outputId": "32f2942f-8f17-4706-c1f2-b0325094ba33"
      },
      "execution_count": null,
      "outputs": [
        {
          "output_type": "execute_result",
          "data": {
            "text/plain": [
              "     PID  Channel  Product_Name  TID  Gender  ('status_6', nan)  \\\n",
              "0  59593        0             2   47       1                  1   \n",
              "1  59594        0             0   59       0                  1   \n",
              "2  59595        1             0   70       0                  1   \n",
              "3  59596        0             0   64       1                  1   \n",
              "4  59597        0             2   64       1                  1   \n",
              "\n",
              "   ('status_4', 'status_5')  ('status_1', 'status_2')  \\\n",
              "0                         1                         0   \n",
              "1                         1                         1   \n",
              "2                         1                         1   \n",
              "3                         1                         1   \n",
              "4                         1                         0   \n",
              "\n",
              "   ('status_5', 'status_6')  ('status_2', 'status_4')  ...  \\\n",
              "0                         1                         0  ...   \n",
              "1                         1                         1  ...   \n",
              "2                         1                         1  ...   \n",
              "3                         1                         1  ...   \n",
              "4                         1                         0  ...   \n",
              "\n",
              "   ('status_7', 'status_5')  ('status_4', 'status_6')  \\\n",
              "0                         0                         0   \n",
              "1                         0                         0   \n",
              "2                         0                         0   \n",
              "3                         0                         0   \n",
              "4                         0                         0   \n",
              "\n",
              "   ('status_9', 'status_6')  ('status_6', 'status_6')  \\\n",
              "0                         0                         0   \n",
              "1                         0                         0   \n",
              "2                         0                         0   \n",
              "3                         0                         0   \n",
              "4                         0                         0   \n",
              "\n",
              "   ('status_7', 'status_9')  ('status_8', 'status_4')  \\\n",
              "0                         0                         0   \n",
              "1                         0                         0   \n",
              "2                         0                         0   \n",
              "3                         0                         0   \n",
              "4                         0                         0   \n",
              "\n",
              "   ('status_7', 'status_3')  ('status_6', 'status_3')  TotalTime  TotStat  \n",
              "0                         0                         0       8227        2  \n",
              "1                         0                         0      11418        3  \n",
              "2                         0                         0         20        2  \n",
              "3                         0                         0        526        5  \n",
              "4                         0                         0         87        2  \n",
              "\n",
              "[5 rows x 86 columns]"
            ],
            "text/html": [
              "\n",
              "  <div id=\"df-db7b0cca-2473-477d-b027-6c5e4c9b467e\">\n",
              "    <div class=\"colab-df-container\">\n",
              "      <div>\n",
              "<style scoped>\n",
              "    .dataframe tbody tr th:only-of-type {\n",
              "        vertical-align: middle;\n",
              "    }\n",
              "\n",
              "    .dataframe tbody tr th {\n",
              "        vertical-align: top;\n",
              "    }\n",
              "\n",
              "    .dataframe thead th {\n",
              "        text-align: right;\n",
              "    }\n",
              "</style>\n",
              "<table border=\"1\" class=\"dataframe\">\n",
              "  <thead>\n",
              "    <tr style=\"text-align: right;\">\n",
              "      <th></th>\n",
              "      <th>PID</th>\n",
              "      <th>Channel</th>\n",
              "      <th>Product_Name</th>\n",
              "      <th>TID</th>\n",
              "      <th>Gender</th>\n",
              "      <th>('status_6', nan)</th>\n",
              "      <th>('status_4', 'status_5')</th>\n",
              "      <th>('status_1', 'status_2')</th>\n",
              "      <th>('status_5', 'status_6')</th>\n",
              "      <th>('status_2', 'status_4')</th>\n",
              "      <th>...</th>\n",
              "      <th>('status_7', 'status_5')</th>\n",
              "      <th>('status_4', 'status_6')</th>\n",
              "      <th>('status_9', 'status_6')</th>\n",
              "      <th>('status_6', 'status_6')</th>\n",
              "      <th>('status_7', 'status_9')</th>\n",
              "      <th>('status_8', 'status_4')</th>\n",
              "      <th>('status_7', 'status_3')</th>\n",
              "      <th>('status_6', 'status_3')</th>\n",
              "      <th>TotalTime</th>\n",
              "      <th>TotStat</th>\n",
              "    </tr>\n",
              "  </thead>\n",
              "  <tbody>\n",
              "    <tr>\n",
              "      <th>0</th>\n",
              "      <td>59593</td>\n",
              "      <td>0</td>\n",
              "      <td>2</td>\n",
              "      <td>47</td>\n",
              "      <td>1</td>\n",
              "      <td>1</td>\n",
              "      <td>1</td>\n",
              "      <td>0</td>\n",
              "      <td>1</td>\n",
              "      <td>0</td>\n",
              "      <td>...</td>\n",
              "      <td>0</td>\n",
              "      <td>0</td>\n",
              "      <td>0</td>\n",
              "      <td>0</td>\n",
              "      <td>0</td>\n",
              "      <td>0</td>\n",
              "      <td>0</td>\n",
              "      <td>0</td>\n",
              "      <td>8227</td>\n",
              "      <td>2</td>\n",
              "    </tr>\n",
              "    <tr>\n",
              "      <th>1</th>\n",
              "      <td>59594</td>\n",
              "      <td>0</td>\n",
              "      <td>0</td>\n",
              "      <td>59</td>\n",
              "      <td>0</td>\n",
              "      <td>1</td>\n",
              "      <td>1</td>\n",
              "      <td>1</td>\n",
              "      <td>1</td>\n",
              "      <td>1</td>\n",
              "      <td>...</td>\n",
              "      <td>0</td>\n",
              "      <td>0</td>\n",
              "      <td>0</td>\n",
              "      <td>0</td>\n",
              "      <td>0</td>\n",
              "      <td>0</td>\n",
              "      <td>0</td>\n",
              "      <td>0</td>\n",
              "      <td>11418</td>\n",
              "      <td>3</td>\n",
              "    </tr>\n",
              "    <tr>\n",
              "      <th>2</th>\n",
              "      <td>59595</td>\n",
              "      <td>1</td>\n",
              "      <td>0</td>\n",
              "      <td>70</td>\n",
              "      <td>0</td>\n",
              "      <td>1</td>\n",
              "      <td>1</td>\n",
              "      <td>1</td>\n",
              "      <td>1</td>\n",
              "      <td>1</td>\n",
              "      <td>...</td>\n",
              "      <td>0</td>\n",
              "      <td>0</td>\n",
              "      <td>0</td>\n",
              "      <td>0</td>\n",
              "      <td>0</td>\n",
              "      <td>0</td>\n",
              "      <td>0</td>\n",
              "      <td>0</td>\n",
              "      <td>20</td>\n",
              "      <td>2</td>\n",
              "    </tr>\n",
              "    <tr>\n",
              "      <th>3</th>\n",
              "      <td>59596</td>\n",
              "      <td>0</td>\n",
              "      <td>0</td>\n",
              "      <td>64</td>\n",
              "      <td>1</td>\n",
              "      <td>1</td>\n",
              "      <td>1</td>\n",
              "      <td>1</td>\n",
              "      <td>1</td>\n",
              "      <td>1</td>\n",
              "      <td>...</td>\n",
              "      <td>0</td>\n",
              "      <td>0</td>\n",
              "      <td>0</td>\n",
              "      <td>0</td>\n",
              "      <td>0</td>\n",
              "      <td>0</td>\n",
              "      <td>0</td>\n",
              "      <td>0</td>\n",
              "      <td>526</td>\n",
              "      <td>5</td>\n",
              "    </tr>\n",
              "    <tr>\n",
              "      <th>4</th>\n",
              "      <td>59597</td>\n",
              "      <td>0</td>\n",
              "      <td>2</td>\n",
              "      <td>64</td>\n",
              "      <td>1</td>\n",
              "      <td>1</td>\n",
              "      <td>1</td>\n",
              "      <td>0</td>\n",
              "      <td>1</td>\n",
              "      <td>0</td>\n",
              "      <td>...</td>\n",
              "      <td>0</td>\n",
              "      <td>0</td>\n",
              "      <td>0</td>\n",
              "      <td>0</td>\n",
              "      <td>0</td>\n",
              "      <td>0</td>\n",
              "      <td>0</td>\n",
              "      <td>0</td>\n",
              "      <td>87</td>\n",
              "      <td>2</td>\n",
              "    </tr>\n",
              "  </tbody>\n",
              "</table>\n",
              "<p>5 rows × 86 columns</p>\n",
              "</div>\n",
              "      <button class=\"colab-df-convert\" onclick=\"convertToInteractive('df-db7b0cca-2473-477d-b027-6c5e4c9b467e')\"\n",
              "              title=\"Convert this dataframe to an interactive table.\"\n",
              "              style=\"display:none;\">\n",
              "        \n",
              "  <svg xmlns=\"http://www.w3.org/2000/svg\" height=\"24px\"viewBox=\"0 0 24 24\"\n",
              "       width=\"24px\">\n",
              "    <path d=\"M0 0h24v24H0V0z\" fill=\"none\"/>\n",
              "    <path d=\"M18.56 5.44l.94 2.06.94-2.06 2.06-.94-2.06-.94-.94-2.06-.94 2.06-2.06.94zm-11 1L8.5 8.5l.94-2.06 2.06-.94-2.06-.94L8.5 2.5l-.94 2.06-2.06.94zm10 10l.94 2.06.94-2.06 2.06-.94-2.06-.94-.94-2.06-.94 2.06-2.06.94z\"/><path d=\"M17.41 7.96l-1.37-1.37c-.4-.4-.92-.59-1.43-.59-.52 0-1.04.2-1.43.59L10.3 9.45l-7.72 7.72c-.78.78-.78 2.05 0 2.83L4 21.41c.39.39.9.59 1.41.59.51 0 1.02-.2 1.41-.59l7.78-7.78 2.81-2.81c.8-.78.8-2.07 0-2.86zM5.41 20L4 18.59l7.72-7.72 1.47 1.35L5.41 20z\"/>\n",
              "  </svg>\n",
              "      </button>\n",
              "      \n",
              "  <style>\n",
              "    .colab-df-container {\n",
              "      display:flex;\n",
              "      flex-wrap:wrap;\n",
              "      gap: 12px;\n",
              "    }\n",
              "\n",
              "    .colab-df-convert {\n",
              "      background-color: #E8F0FE;\n",
              "      border: none;\n",
              "      border-radius: 50%;\n",
              "      cursor: pointer;\n",
              "      display: none;\n",
              "      fill: #1967D2;\n",
              "      height: 32px;\n",
              "      padding: 0 0 0 0;\n",
              "      width: 32px;\n",
              "    }\n",
              "\n",
              "    .colab-df-convert:hover {\n",
              "      background-color: #E2EBFA;\n",
              "      box-shadow: 0px 1px 2px rgba(60, 64, 67, 0.3), 0px 1px 3px 1px rgba(60, 64, 67, 0.15);\n",
              "      fill: #174EA6;\n",
              "    }\n",
              "\n",
              "    [theme=dark] .colab-df-convert {\n",
              "      background-color: #3B4455;\n",
              "      fill: #D2E3FC;\n",
              "    }\n",
              "\n",
              "    [theme=dark] .colab-df-convert:hover {\n",
              "      background-color: #434B5C;\n",
              "      box-shadow: 0px 1px 3px 1px rgba(0, 0, 0, 0.15);\n",
              "      filter: drop-shadow(0px 1px 2px rgba(0, 0, 0, 0.3));\n",
              "      fill: #FFFFFF;\n",
              "    }\n",
              "  </style>\n",
              "\n",
              "      <script>\n",
              "        const buttonEl =\n",
              "          document.querySelector('#df-db7b0cca-2473-477d-b027-6c5e4c9b467e button.colab-df-convert');\n",
              "        buttonEl.style.display =\n",
              "          google.colab.kernel.accessAllowed ? 'block' : 'none';\n",
              "\n",
              "        async function convertToInteractive(key) {\n",
              "          const element = document.querySelector('#df-db7b0cca-2473-477d-b027-6c5e4c9b467e');\n",
              "          const dataTable =\n",
              "            await google.colab.kernel.invokeFunction('convertToInteractive',\n",
              "                                                     [key], {});\n",
              "          if (!dataTable) return;\n",
              "\n",
              "          const docLinkHtml = 'Like what you see? Visit the ' +\n",
              "            '<a target=\"_blank\" href=https://colab.research.google.com/notebooks/data_table.ipynb>data table notebook</a>'\n",
              "            + ' to learn more about interactive tables.';\n",
              "          element.innerHTML = '';\n",
              "          dataTable['output_type'] = 'display_data';\n",
              "          await google.colab.output.renderOutput(dataTable, element);\n",
              "          const docLink = document.createElement('div');\n",
              "          docLink.innerHTML = docLinkHtml;\n",
              "          element.appendChild(docLink);\n",
              "        }\n",
              "      </script>\n",
              "    </div>\n",
              "  </div>\n",
              "  "
            ]
          },
          "metadata": {},
          "execution_count": 47
        }
      ]
    },
    {
      "cell_type": "markdown",
      "source": [
        "Будем обучать XGBRegressor, оптимизируя глубину дерева. На сетке не стал делать, т.к. обучалось долго"
      ],
      "metadata": {
        "id": "OPfvp7nws2u8"
      }
    },
    {
      "cell_type": "code",
      "source": [
        "df = pd.read_csv('df_2_processed.csv')\n",
        "df_val = pd.read_csv('df_2_processed_val_public.csv')"
      ],
      "metadata": {
        "id": "qoLovR3yU_8N"
      },
      "execution_count": null,
      "outputs": []
    },
    {
      "cell_type": "code",
      "execution_count": null,
      "metadata": {
        "id": "CQq3u4Zx3eZK"
      },
      "outputs": [],
      "source": [
        "y2 = df['TotalTime'].to_numpy()\n",
        "X2 = df.iloc[:, 5:-2].fillna(0).to_numpy()\n",
        "X_names2 = df.iloc[:, 5:-2].columns"
      ]
    },
    {
      "cell_type": "code",
      "execution_count": null,
      "metadata": {
        "id": "G6KbbDw83eZK"
      },
      "outputs": [],
      "source": [
        "y_val2 = df_val['TotalTime'].to_numpy()\n",
        "X_val2 = df_val.iloc[:, 5:-2].fillna(0).to_numpy()"
      ]
    },
    {
      "cell_type": "code",
      "source": [
        "'''xgb1 = xgb.XGBRegressor()\n",
        "parameters = { \n",
        "              'reg_alpha':[1, 3],\n",
        "              'learning_rate': [.05, .07], \n",
        "              'max_depth': np.arange(4,7),\n",
        "              'n_estimators': np.arange(200, 401, 100)\n",
        "              }\n",
        "\n",
        "xgb_grid = GridSearchCV(xgb1,\n",
        "                        parameters,\n",
        "                        cv = 4,\n",
        "                        n_jobs = 4,\n",
        "                        verbose=True)\n",
        "\n",
        "xgb_grid.fit(X2, y2)\n",
        "\n",
        "print(xgb_grid.best_score_)\n",
        "print(xgb_grid.best_params_)'''"
      ],
      "metadata": {
        "colab": {
          "base_uri": "https://localhost:8080/",
          "height": 88
        },
        "id": "nHl9moCkzC0O",
        "outputId": "c7ceb5ca-3fa2-4378-aa2a-73a098aed8a6"
      },
      "execution_count": null,
      "outputs": [
        {
          "output_type": "execute_result",
          "data": {
            "text/plain": [
              "\"xgb1 = xgb.XGBRegressor()\\nparameters = { \\n              'reg_alpha':[1, 3],\\n              'learning_rate': [.05, .07], \\n              'max_depth': np.arange(4,7),\\n              'n_estimators': np.arange(200, 401, 100)\\n              }\\n\\nxgb_grid = GridSearchCV(xgb1,\\n                        parameters,\\n                        cv = 4,\\n                        n_jobs = 4,\\n                        verbose=True)\\n\\nxgb_grid.fit(X2, y2)\\n\\nprint(xgb_grid.best_score_)\\nprint(xgb_grid.best_params_)\""
            ],
            "application/vnd.google.colaboratory.intrinsic+json": {
              "type": "string"
            }
          },
          "metadata": {},
          "execution_count": 111
        }
      ]
    },
    {
      "cell_type": "code",
      "source": [
        "train_loss = []\n",
        "test_loss = []\n",
        "for depth in tqdm.tqdm(range(4,8)):\n",
        "    gbm = xgb.XGBRegressor(n_estimators=300, learning_rate=0.1, reg_alpha=3, max_depth=depth, subsample=0.8, n_jobs=4)\n",
        "    gbm.fit(X2,y2)\n",
        "    train_loss.append(np.sqrt(mean_squared_error(y2, gbm.predict(X2))))\n",
        "    test_loss.append(np.sqrt(mean_squared_error(y_val2, gbm.predict(X_val2))))"
      ],
      "metadata": {
        "colab": {
          "base_uri": "https://localhost:8080/"
        },
        "id": "IY485ioOMUTT",
        "outputId": "285c4085-5991-4237-88a4-2353ff2c0d0b"
      },
      "execution_count": null,
      "outputs": [
        {
          "output_type": "stream",
          "name": "stderr",
          "text": [
            "\r  0%|          | 0/4 [00:00<?, ?it/s]"
          ]
        },
        {
          "output_type": "stream",
          "name": "stdout",
          "text": [
            "[14:47:12] WARNING: /workspace/src/objective/regression_obj.cu:152: reg:linear is now deprecated in favor of reg:squarederror.\n"
          ]
        },
        {
          "output_type": "stream",
          "name": "stderr",
          "text": [
            "\r 25%|██▌       | 1/4 [00:42<02:07, 42.55s/it]"
          ]
        },
        {
          "output_type": "stream",
          "name": "stdout",
          "text": [
            "[14:47:55] WARNING: /workspace/src/objective/regression_obj.cu:152: reg:linear is now deprecated in favor of reg:squarederror.\n"
          ]
        },
        {
          "output_type": "stream",
          "name": "stderr",
          "text": [
            "\r 50%|█████     | 2/4 [01:40<01:43, 51.68s/it]"
          ]
        },
        {
          "output_type": "stream",
          "name": "stdout",
          "text": [
            "[14:48:53] WARNING: /workspace/src/objective/regression_obj.cu:152: reg:linear is now deprecated in favor of reg:squarederror.\n"
          ]
        },
        {
          "output_type": "stream",
          "name": "stderr",
          "text": [
            "\r 75%|███████▌  | 3/4 [02:55<01:02, 62.21s/it]"
          ]
        },
        {
          "output_type": "stream",
          "name": "stdout",
          "text": [
            "[14:50:08] WARNING: /workspace/src/objective/regression_obj.cu:152: reg:linear is now deprecated in favor of reg:squarederror.\n"
          ]
        },
        {
          "output_type": "stream",
          "name": "stderr",
          "text": [
            "100%|██████████| 4/4 [04:07<00:00, 61.99s/it]\n"
          ]
        }
      ]
    },
    {
      "cell_type": "code",
      "source": [
        "plt.figure(figsize=(16, 8))\n",
        "plt.plot(np.arange(4,8), train_loss, label='train loss')\n",
        "plt.plot(np.arange(4,8), test_loss, label='test loss')\n",
        "plt.legend()\n",
        "plt.show()"
      ],
      "metadata": {
        "colab": {
          "base_uri": "https://localhost:8080/",
          "height": 483
        },
        "id": "11Zzc65INWHn",
        "outputId": "e7758265-bd0d-4f67-e0ea-dac458c0fdcd"
      },
      "execution_count": null,
      "outputs": [
        {
          "output_type": "display_data",
          "data": {
            "text/plain": [
              "<Figure size 1152x576 with 1 Axes>"
            ],
            "image/png": "[encoded data removed]"
          },
          "metadata": {
            "needs_background": "light"
          }
        }
      ]
    },
    {
      "cell_type": "code",
      "source": [
        "np.argmin(test_loss)"
      ],
      "metadata": {
        "colab": {
          "base_uri": "https://localhost:8080/"
        },
        "id": "XfXn_Ka4UuAn",
        "outputId": "8cb1c0ab-df2c-474d-b89c-4e29cc1e83d3"
      },
      "execution_count": null,
      "outputs": [
        {
          "output_type": "execute_result",
          "data": {
            "text/plain": [
              "0"
            ]
          },
          "metadata": {},
          "execution_count": 116
        }
      ]
    },
    {
      "cell_type": "code",
      "source": [
        "model = xgb.XGBRegressor(n_estimators=300, learning_rate=0.1, reg_alpha=3, max_depth=4, subsample=0.8, n_jobs=4)\n",
        "model.fit(X2,y2)\n",
        "print(f'RMSE for rfr: {np.sqrt(mean_squared_error(y2, model.predict(X2))):.4f}')\n",
        "print(f'RMSE for rfr Val: {np.sqrt(mean_squared_error(y_val2, model.predict(X_val2))):.4f}')\n"
      ],
      "metadata": {
        "colab": {
          "base_uri": "https://localhost:8080/"
        },
        "id": "7BIl6qppYagz",
        "outputId": "a5dab98a-7dbd-46f0-e78f-117f5d55e989"
      },
      "execution_count": null,
      "outputs": [
        {
          "output_type": "stream",
          "name": "stdout",
          "text": [
            "[15:01:07] WARNING: /workspace/src/objective/regression_obj.cu:152: reg:linear is now deprecated in favor of reg:squarederror.\n",
            "RMSE for rfr: 50.6312\n",
            "RMSE for rfr Val: 52.7041\n"
          ]
        }
      ]
    },
    {
      "cell_type": "markdown",
      "source": [
        "####Feature importance"
      ],
      "metadata": {
        "id": "t5GewBnF8Znc"
      }
    },
    {
      "cell_type": "markdown",
      "source": [
        "Оценим  permutation importance признаков модели и также выделим топ-10\n"
      ],
      "metadata": {
        "id": "BEGkGSHs6hSs"
      }
    },
    {
      "cell_type": "code",
      "source": [
        "perm_res = sorted(zip(permutation_importance(model, X_val2, y_val2)[\"importances_mean\"], X_names2), reverse=True)\n"
      ],
      "metadata": {
        "id": "dwVgftEI1_nV"
      },
      "execution_count": null,
      "outputs": []
    },
    {
      "cell_type": "code",
      "source": [
        "perm_res[:10]"
      ],
      "metadata": {
        "colab": {
          "base_uri": "https://localhost:8080/"
        },
        "id": "K8_hEoFcb0PF",
        "outputId": "667d8519-7375-4a9c-9c8e-de0f8758f220"
      },
      "execution_count": null,
      "outputs": [
        {
          "output_type": "execute_result",
          "data": {
            "text/plain": [
              "[(0.10748529929550514, \"('status_0', 'status_1')\"),\n",
              " (0.08964684714648388, \"('status_6', 'status_4')\"),\n",
              " (0.07974999457199095, \"('status_6', nan)\"),\n",
              " (0.060503725505340264, \"('status_6', 'status_0')\"),\n",
              " (0.044964946809441096, \"('status_7', 'status_4')\"),\n",
              " (0.0368766305099711, \"('status_2', 'status_3')\"),\n",
              " (0.0316020378978636, \"('status_7', 'status_1')\"),\n",
              " (0.030135123293248432, \"('status_9', 'status_4')\"),\n",
              " (0.028298592562536105, \"('status_7', 'status_0')\"),\n",
              " (0.021328169440887935, \"('status_3', nan)\")]"
            ]
          },
          "metadata": {},
          "execution_count": 132
        }
      ]
    },
    {
      "cell_type": "code",
      "source": [
        "figure(figsize=(20, 8), dpi=80)\n",
        "plt.bar(list(x[1] for x in perm_res[:10]), height=list(x[0] for x in perm_res[:10])) #height"
      ],
      "metadata": {
        "colab": {
          "base_uri": "https://localhost:8080/",
          "height": 481
        },
        "id": "FiLAEAqfbFpA",
        "outputId": "389e2384-45a9-4b40-af1f-fb6722a92525"
      },
      "execution_count": null,
      "outputs": [
        {
          "output_type": "execute_result",
          "data": {
            "text/plain": [
              "<BarContainer object of 10 artists>"
            ]
          },
          "metadata": {},
          "execution_count": 134
        },
        {
          "output_type": "display_data",
          "data": {
            "text/plain": [
              "<Figure size 1600x640 with 1 Axes>"
            ],
            "image/png": "[encoded data removed]"
          },
          "metadata": {
            "needs_background": "light"
          }
        }
      ]
    },
    {
      "cell_type": "markdown",
      "source": [
        "Посмотрим также на SHAP"
      ],
      "metadata": {
        "id": "VuzL6Avj7G2l"
      }
    },
    {
      "cell_type": "code",
      "source": [
        "import shap"
      ],
      "metadata": {
        "id": "FkC-3jCu7-YD"
      },
      "execution_count": null,
      "outputs": []
    },
    {
      "cell_type": "code",
      "source": [
        "shap_res = shap.TreeExplainer(model).shap_values(X_val2)"
      ],
      "metadata": {
        "id": "VJjEqtpZ-En5"
      },
      "execution_count": null,
      "outputs": []
    },
    {
      "cell_type": "code",
      "source": [
        "shap_res2 = sorted(zip(np.mean(abs(shap_res), axis=0), X_names2), reverse=True)"
      ],
      "metadata": {
        "id": "gZswSo1a-Elf"
      },
      "execution_count": null,
      "outputs": []
    },
    {
      "cell_type": "code",
      "source": [
        "figure(figsize=(20, 8), dpi=80)\n",
        "plt.bar(list(x[1] for x in shap_res2[:10]), height=list(x[0] for x in shap_res2[:10]))"
      ],
      "metadata": {
        "colab": {
          "base_uri": "https://localhost:8080/",
          "height": 485
        },
        "id": "IxGbQkkdPLp3",
        "outputId": "42b9c949-9144-499d-b297-5568a4404af6"
      },
      "execution_count": null,
      "outputs": [
        {
          "output_type": "execute_result",
          "data": {
            "text/plain": [
              "<BarContainer object of 10 artists>"
            ]
          },
          "metadata": {},
          "execution_count": 146
        },
        {
          "output_type": "display_data",
          "data": {
            "text/plain": [
              "<Figure size 1600x640 with 1 Axes>"
            ],
            "image/png": "[encoded data removed]"
          },
          "metadata": {
            "needs_background": "light"
          }
        }
      ]
    },
    {
      "cell_type": "markdown",
      "source": [
        "Наиболее значимые переходы находим,сравнивая суммы полученных значений pemutation и shap"
      ],
      "metadata": {
        "id": "3L2bfYQ7P0zJ"
      }
    },
    {
      "cell_type": "code",
      "source": [
        "hardest = {}\n",
        "for el in shap_res2:\n",
        "    hardest[el[1]] = 0\n",
        "\n",
        "\n",
        "for el in perm_res:\n",
        "    hardest[el[1]] = 0\n",
        "\n",
        "for elem in perm_res:\n",
        "    hardest[elem[1]] += elem[0]\n",
        "\n",
        "for elem in shap_res2:\n",
        "    hardest[elem[1]] += elem[0]"
      ],
      "metadata": {
        "id": "4TKoyHDJ-Edg"
      },
      "execution_count": null,
      "outputs": []
    },
    {
      "cell_type": "code",
      "source": [
        "hard5 = zipsort_top(list(hardest.values()), list(hardest.keys()))\n",
        "hard5"
      ],
      "metadata": {
        "colab": {
          "base_uri": "https://localhost:8080/"
        },
        "id": "8Lgdengc-EP6",
        "outputId": "aa6d2170-6e9c-4c49-a647-967e7f568570"
      },
      "execution_count": null,
      "outputs": [
        {
          "output_type": "execute_result",
          "data": {
            "text/plain": [
              "((3.965107471841308,\n",
              "  5.413399188082066,\n",
              "  5.679726534183807,\n",
              "  6.876070928300498,\n",
              "  13.408208375162204),\n",
              " (\"('status_6', 'status_4')\",\n",
              "  \"('status_9', 'status_4')\",\n",
              "  \"('status_6', nan)\",\n",
              "  \"('status_2', 'status_3')\",\n",
              "  \"('status_0', 'status_1')\"))"
            ]
          },
          "metadata": {},
          "execution_count": 166
        }
      ]
    },
    {
      "cell_type": "markdown",
      "source": [
        "####Ускорение процесса"
      ],
      "metadata": {
        "id": "XndYTDC6SqYq"
      }
    },
    {
      "cell_type": "code",
      "source": [
        "X_new = df.iloc[:, 5:-2].fillna(0).drop([str(x) for x in hard5[1]], axis=1).to_numpy()  #X2.drop([hard5[1]], axis=1)\n",
        "X_val_new = df_val.iloc[:, 5:-2].fillna(0).drop([str(x) for x in hard5[1]], axis=1).to_numpy()\n",
        "y_new = y2\n",
        "y_val_new = y_val2"
      ],
      "metadata": {
        "id": "KAO3tszkSRzJ"
      },
      "execution_count": null,
      "outputs": []
    },
    {
      "cell_type": "code",
      "source": [
        "model = xgb.XGBRegressor(n_estimators=300, learning_rate=0.1, reg_alpha=3, max_depth=4, subsample=0.8, n_jobs=4)\n",
        "model.fit(X_new,y_new)\n",
        "print(f'RMSE for rfr: {np.sqrt(mean_squared_error(y_new, model.predict(X_new))):.4f}')\n",
        "print(f'RMSE for rfr Val: {np.sqrt(mean_squared_error(y_val_new, model.predict(X_val_new))):.4f}')"
      ],
      "metadata": {
        "colab": {
          "base_uri": "https://localhost:8080/"
        },
        "id": "9X06emadV1Ap",
        "outputId": "764523da-6401-477f-d614-b7da8fc889a0"
      },
      "execution_count": null,
      "outputs": [
        {
          "output_type": "stream",
          "name": "stdout",
          "text": [
            "[15:40:25] WARNING: /workspace/src/objective/regression_obj.cu:152: reg:linear is now deprecated in favor of reg:squarederror.\n",
            "RMSE for rfr: 53.0620\n",
            "RMSE for rfr Val: 55.4824\n"
          ]
        }
      ]
    },
    {
      "cell_type": "code",
      "source": [
        "print(f\"При удалении 5 самых длительных процессов в среднем время процесса снизится на \\\n",
        "{np.mean(df_val['TotalTime'] - model.predict(X_val_new))}\")"
      ],
      "metadata": {
        "colab": {
          "base_uri": "https://localhost:8080/"
        },
        "id": "UXJJdYIOV0-e",
        "outputId": "f45e14f9-6deb-4796-de77-85936ef3dff6"
      },
      "execution_count": null,
      "outputs": [
        {
          "output_type": "stream",
          "name": "stdout",
          "text": [
            "При удалении 5 самых длительных процессов в среднем время процесса снизится на 0.8419878207400885\n"
          ]
        }
      ]
    },
    {
      "cell_type": "markdown",
      "source": [
        "Заключение"
      ],
      "metadata": {
        "id": "5pHQQQejV0DV"
      }
    },
    {
      "cell_type": "markdown",
      "source": [
        "С помощью feature importance(permutation и SHAP) удалось найти наиболее затратные по времени участки процесса. Подобные инсайты можно использовать для оптимизации различных бизнес-процессов(путем удаления таких участков или некоторой реорганизации)"
      ],
      "metadata": {
        "id": "VX45Yi3kW0Dg"
      }
    },
    {
      "cell_type": "code",
      "source": [],
      "metadata": {
        "id": "VgymzZfPWwpJ"
      },
      "execution_count": null,
      "outputs": []
    }
  ],
  "metadata": {
    "kernelspec": {
      "display_name": "py39",
      "language": "python",
      "name": "python3"
    },
    "language_info": {
      "codemirror_mode": {
        "name": "ipython",
        "version": 3
      },
      "file_extension": ".py",
      "mimetype": "text/x-python",
      "name": "python",
      "nbconvert_exporter": "python",
      "pygments_lexer": "ipython3",
      "version": "3.9.7"
    },
    "colab": {
      "provenance": []
    }
  },
  "nbformat": 4,
  "nbformat_minor": 0
}