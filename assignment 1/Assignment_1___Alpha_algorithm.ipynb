{
  "cells": [
    {
      "cell_type": "markdown",
      "metadata": {
        "id": "uigOkNMHx7iO"
      },
      "source": [
        "## Assignment 1 - Alpha algorithm"
      ]
    },
    {
      "cell_type": "markdown",
      "metadata": {
        "id": "a2WR71rIx7iS"
      },
      "source": [
        "##### Input - list of tuples of str's: [(str1, ..., strL), (strJ,...strK), ..., (strM,...,strN)]\n",
        "##### Output - set of tuples of tuples str's {((str1,...,strI), (strL,...,strK)),...}"
      ]
    },
    {
      "cell_type": "code",
      "execution_count": 256,
      "metadata": {
        "id": "bqqLQCznx7iS"
      },
      "outputs": [],
      "source": [
        "from petri_net import PetriNet\n",
        "from subprocess import check_call"
      ]
    },
    {
      "cell_type": "code",
      "execution_count": 257,
      "metadata": {
        "id": "rxNK8otpx7iT"
      },
      "outputs": [],
      "source": [
        "log = [('a', 'b', 'c', 'd'), ('a', 'c', 'b', 'd'), ('a', 'e', 'd')]"
      ]
    },
    {
      "cell_type": "markdown",
      "metadata": {
        "id": "d47G_bPyx7iU"
      },
      "source": [
        "#### Step 1. Make set of events"
      ]
    },
    {
      "cell_type": "code",
      "execution_count": 258,
      "metadata": {
        "colab": {
          "base_uri": "https://localhost:8080/"
        },
        "id": "OieMWRylx7iU",
        "outputId": "cd1cf9b6-8bdf-42be-b77d-636845b1e199"
      },
      "outputs": [
        {
          "output_type": "execute_result",
          "data": {
            "text/plain": [
              "{'a', 'b', 'c', 'd', 'e'}"
            ]
          },
          "metadata": {},
          "execution_count": 258
        }
      ],
      "source": [
        "#expected output: set of str's\n",
        "def all_events(log):\n",
        "    tl = set()\n",
        "    for item in log:\n",
        "        for i in item:\n",
        "            tl.add(i)\n",
        "    return tl\n",
        "\n",
        "events = all_events(log)\n",
        "\n",
        "events"
      ]
    },
    {
      "cell_type": "markdown",
      "metadata": {
        "id": "td-9C9MBx7iV"
      },
      "source": [
        "#### Step 2. Get all start events"
      ]
    },
    {
      "cell_type": "code",
      "execution_count": 259,
      "metadata": {
        "colab": {
          "base_uri": "https://localhost:8080/"
        },
        "id": "mCvhO2pMx7iW",
        "outputId": "7d05c816-3c11-463d-b1cc-ca6eb13fb2f2"
      },
      "outputs": [
        {
          "output_type": "execute_result",
          "data": {
            "text/plain": [
              "{'a'}"
            ]
          },
          "metadata": {},
          "execution_count": 259
        }
      ],
      "source": [
        "#expected output: set of str's\n",
        "def get_start_nodes(log):\n",
        "    tl = set()\n",
        "    for item in log:\n",
        "        tl.add(item[0])\n",
        "    return tl\n",
        "\n",
        "start_nodes = get_start_nodes(log)\n",
        "\n",
        "start_nodes"
      ]
    },
    {
      "cell_type": "markdown",
      "metadata": {
        "id": "iOFEDn-mx7iX"
      },
      "source": [
        "#### Step 3. Get all end events"
      ]
    },
    {
      "cell_type": "code",
      "execution_count": 260,
      "metadata": {
        "colab": {
          "base_uri": "https://localhost:8080/"
        },
        "id": "bA7gX5dux7iX",
        "outputId": "2f63dc6c-0873-4584-ecb4-eb2bca23cd67"
      },
      "outputs": [
        {
          "output_type": "execute_result",
          "data": {
            "text/plain": [
              "{'d'}"
            ]
          },
          "metadata": {},
          "execution_count": 260
        }
      ],
      "source": [
        "#expected output: set of str's\n",
        "def get_end_nodes(log):\n",
        "    tl = set()\n",
        "    for item in log:\n",
        "        tl.add(item[-1])\n",
        "    return tl\n",
        "\n",
        "end_nodes = get_end_nodes(log)\n",
        "\n",
        "end_nodes"
      ]
    },
    {
      "cell_type": "markdown",
      "metadata": {
        "id": "yg50bdtyx7iY"
      },
      "source": [
        "#### Step 4. Make dataset"
      ]
    },
    {
      "cell_type": "markdown",
      "metadata": {
        "id": "MEjNZ1htx7iY"
      },
      "source": [
        "1. Define functions for causality, parallel and unrelated pairs<br>\n",
        "2. Create footprint matrix<br>\n",
        "3. Create pairs of events<br>\n",
        "4. Iterate until no non-maximal pairs available"
      ]
    },
    {
      "cell_type": "code",
      "source": [
        ""
      ],
      "metadata": {
        "id": "eMgnWE07G_mz"
      },
      "execution_count": 260,
      "outputs": []
    },
    {
      "cell_type": "code",
      "source": [
        "def footprint(log):\n",
        "    t = {i: '#' for i in all_events(log)}\n",
        "    matr = {i: t.copy() for i in all_events(log)}\n",
        "    for item in log:\n",
        "        for i in range(len(item) - 1):\n",
        "            if item[i] == item[i + 1]:\n",
        "                matr[item[i]][item[i]] = '||'\n",
        "\n",
        "            elif matr[item[i]][item[i + 1]] == '#':\n",
        "                matr[item[i]][item[i + 1]] = '->'\n",
        "                matr[item[i + 1]][item[i]] = '<-'\n",
        "\n",
        "            elif matr[item[i]][item[i + 1]] == '<-':\n",
        "                matr[item[i]][item[i + 1]] = '||'\n",
        "                matr[item[i + 1]][item[i]] = '||'\n",
        "\n",
        "    return matr"
      ],
      "metadata": {
        "id": "WBadV4MgGa7w"
      },
      "execution_count": 262,
      "outputs": []
    },
    {
      "cell_type": "code",
      "source": [
        "def comb(matr):\n",
        "    #matr = footprint(log)\n",
        "    nod0 = set()\n",
        "    for i in matr:\n",
        "        for j in matr[i]:\n",
        "            if matr[i][j] == '->':\n",
        "                nod0.add((tuple(i), tuple(j)))\n",
        "    #return nod\n",
        "    while True:\n",
        "        n = len(nod0)\n",
        "        check = [0]*n\n",
        "        new_nod = set()\n",
        "        nod = list(nod0)\n",
        "       # print(nod)\n",
        "        for i in range(n - 1):\n",
        "            for j in range(i + 1, n):\n",
        "                #print(i, j, n)\n",
        "                s = True\n",
        "                \n",
        "                for beg1 in nod[i][0]:\n",
        "                   for beg2 in nod[j][0]:\n",
        "                       if matr[beg1][beg2] != '#':\n",
        "                          # print('#', nod[i], nod[j], matr[beg1][beg2])\n",
        "                           s = False\n",
        "                           break\n",
        "                   if not s:\n",
        "                        break\n",
        "                if not s:\n",
        "                    continue\n",
        "                \n",
        "                for end1 in nod[i][1]:\n",
        "                   for end2 in nod[j][1]:\n",
        "                       if matr[end1][end2] != '#':\n",
        "                           #print('#', nod[i], nod[j], matr[end1][end2])\n",
        "                           s = False\n",
        "                           break\n",
        "                   if not s:\n",
        "                        break\n",
        "                if not s:\n",
        "                    continue\n",
        "                \n",
        "                for beg1 in nod[i][0]:\n",
        "                   for end2 in nod[j][1]:\n",
        "                       if matr[beg1][end2] != '->':\n",
        "                           #print('->', nod[i], nod[j], matr[beg1][end2])\n",
        "                           s = False\n",
        "                           break\n",
        "                   if not s:\n",
        "                        break\n",
        "                if not s:\n",
        "                    continue\n",
        "                \n",
        "                for beg2 in nod[j][0]:\n",
        "                   for end1 in nod[i][1]:\n",
        "                       if matr[beg2][end1] != '->':\n",
        "                           #print('->', nod[j], nod[i], matr[beg2][end1])\n",
        "                           s = False\n",
        "                           break\n",
        "                   if not s:\n",
        "                        break\n",
        "                if not s:\n",
        "                    continue\n",
        "                \n",
        "                t1, t2 = list(nod[i][0]), list(nod[i][1])\n",
        "                t1.extend(nod[j][0])\n",
        "                t2.extend(nod[j][1])\n",
        "                new_one = (tuple(set(t1)), tuple(set(t2)))\n",
        "                #new_one = (tuple(set(dict(nod[i][0]).extend(nod[j][0]))), tuple(set(dict(nod[i][1]).extend(nod[j][2]))))\n",
        "                new_nod.add(new_one)\n",
        "                check[i], check[j] = 1, 1\n",
        "        \n",
        "        for i in range(n):\n",
        "            if check[i] == 0:\n",
        "                new_nod.add(nod[i])\n",
        "        nod0 = new_nod\n",
        "        #print(check, nod0)\n",
        "        if check == [0]*n:\n",
        "            break\n",
        "    return nod0     "
      ],
      "metadata": {
        "id": "2bmWpD8UGaoS"
      },
      "execution_count": 263,
      "outputs": []
    },
    {
      "cell_type": "code",
      "source": [
        "def result(log):\n",
        "    matr = footprint(log)\n",
        "    res = comb(matr)\n",
        "    return res"
      ],
      "metadata": {
        "id": "fn54xvQnLxAh"
      },
      "execution_count": 264,
      "outputs": []
    },
    {
      "cell_type": "code",
      "execution_count": 266,
      "metadata": {
        "colab": {
          "base_uri": "https://localhost:8080/"
        },
        "id": "ex_BzD-Kx7iZ",
        "outputId": "c046b4c7-56a5-4e4b-bd48-733e6d2ec2b0"
      },
      "outputs": [
        {
          "output_type": "execute_result",
          "data": {
            "text/plain": [
              "{(('a',), ('e', 'b')),\n",
              " (('a',), ('e', 'c')),\n",
              " (('e', 'b'), ('d',)),\n",
              " (('e', 'c'), ('d',))}"
            ]
          },
          "metadata": {},
          "execution_count": 266
        }
      ],
      "source": [
        "#expected output: set of tuples of tules of str's\n",
        "dataset = result(log)\n",
        "dataset"
      ]
    },
    {
      "cell_type": "markdown",
      "metadata": {
        "id": "VYfUlzWgx7iZ"
      },
      "source": [
        "Expected output (order irrelevant): {(('a',), ('c', 'e')),\n",
        " (('a',), ('e', 'b')),\n",
        " (('c', 'e'), ('d',)),\n",
        " (('e', 'b'), ('d',))} "
      ]
    },
    {
      "cell_type": "markdown",
      "metadata": {
        "id": "3C5e3Ejnx7iZ"
      },
      "source": [
        "#### Let's check the result with PetriNet drawer"
      ]
    },
    {
      "cell_type": "code",
      "execution_count": 267,
      "metadata": {
        "colab": {
          "base_uri": "https://localhost:8080/"
        },
        "id": "VrKgelXxx7iZ",
        "outputId": "3d15d420-d1ad-4f90-f9eb-9abcde955fd9"
      },
      "outputs": [
        {
          "output_type": "execute_result",
          "data": {
            "text/plain": [
              "0"
            ]
          },
          "metadata": {},
          "execution_count": 267
        }
      ],
      "source": [
        "pn = PetriNet()\n",
        "filename = 'my_first_alpha_miner'\n",
        "pn.generate_with_alpha(tl=events,\n",
        "                       ti=start_nodes,\n",
        "                       to=end_nodes,\n",
        "                       yl=dataset,\n",
        "                       dotfile=\"{}.dot\".format(filename))\n",
        "check_call([\"dot\", \"-Tpng\", \"{}.dot\".format(filename),\"-o\", \"{}.png\".format(filename)])"
      ]
    },
    {
      "cell_type": "markdown",
      "source": [
        "![image.png](data:image/png;base64,iVBORw0KGgoAAAANSUhEUgAABBwAAAGtCAYAAAC1NWdyAAAgAElEQVR4nOzdd1iTZ//+8TNhC1YUqKgVwVkHqKCogKMVcWutiqNK60CrtuKs1om2Wq36uG3ds1IVWy3iKk6WAk4coCi4ceBgz9y/P/qDb62LYJKLJOfrODyO57nNeMfGGD7XPWSSJEkgIiIiIiIiIlIhuegAIiIiIiIiItI9HDgQERERERERkcpx4EBEREREREREKmcoOoCIiIiISN1ycnKQkpKC7OxspKenIy8vDwDw7NkzyGQyWFpaAgCMjY1hbm4OMzMzWFlZwdjYWGQ2EZFW48CBiIiIiLRaWloarl+/jqSkJCQmJiIpKQlJSUl48OABnjx5gpSUFKSnp5foscuWLQsrKyvY2NjA1tYWDg4OcHBwgL29Pezt7VGrVi2Ym5ur+BUREekGGa9SQURERETa4s6dOzh9+jRiY2Nx8eJFXLx4EYmJiZAkCTKZDJUqVSoaClSqVAk2NjawtraGlZUVrKysYGpqig8++AAGBgYAAEtLS0iShBcvXgAA8vPzkZaWhqysLKSkpODJkydFv+7fv1800Hjw4AEAQC6Xo0aNGnBycir65erqisqVKwv7MyIiKi04cCAiUlJ6ejpSUlLw+PFjPHnypOiLaXZ2NgAgNTUVBQUFMDc3L9oVt3z58jAyMir6wlv4y9CQO5oREb2JQqHA+fPnERYWhoiICISHh+Pu3bswMDBAzZo1i37Ad3R0RN26dVGtWjWYmJhopC07OxuJiYm4cuUKYmNjiwYgN2/ehEKhgL29Pdzd3eHm5oaWLVuiQYMGkMlkGmkjIiotOHAgIvqPvLw8xMXF4fLly7h582bRrrlJSUm4ffs2cnJyXrlPmTJlir7kli1bFoaGhi8dI/zixQsoFIpX7mdjY1O0W27hrzp16sDJyQk2NjbqfaFERKXQ48ePcfjwYRw8eBCHDh3C48ePUaFCBbRo0QJubm5wd3dH06ZNUaZMGdGpr5Weno7Tp08jPDwcERERiIyMRGpqKipVqoQOHTqgQ4cOaNeuHcqXLy86lYhI7ThwICK9lpeXhzNnziAyMhLnzp1DbGwsrly5gtzcXBgZGaFq1aqvDASsrKxgbW0Na2tr2NjYoGzZssV+rsLdc1NSUpCSkoJ79+69NNBITEzEs2fPAAC2trZwdHREw4YN4erqCnd3d+6iS0Q66e7duwgMDMTOnTtx+vRpGBoawt3dHR07dkSHDh20eu+AgoICnD9/HocOHcKBAwdw6tQpSJIEDw8P9O7dG7169ULFihVFZxIRqQUHDkSkV7Kzs3Hy5EkcO3YM4eHhiImJQVZWFmxsbODi4lK0a27h7rkizk6enJxctGtubGwsLly4gEuXLiE/P79oF10PDw+0b98eDg4OGu8jIlKFJ0+eICAgADt37kRERAQ++OADdO/eHZ999hnatm1b7GGutnn27BlCQkLw559/IigoCFlZWWjdujW8vb3Rp0+foqtlEBHpAg4ciEjn3bx5EwcOHMCBAwdw7NgxZGZmol69ekW75rq5uaF27dqiM9/q37voRkZGIjw8HGlpaahTp07RCmDr1q1hamoqOpWI6I0kScLRo0exdu1a7NmzByYmJujWrRu8vb3h5eWlsfMvlBZZWVnYv38/du7ciX379kGSJPTu3Ru+vr7w8PAQnUdE9N44cCAinXT79m38+eef2LVrFyIiIlCmTBm0aNECXbp0QY8ePWBnZyc68b0U7qIbFBSEffv24ezZszAzM0Pnzp0xcOBAtG/fnteOJ6JS4/nz51izZg3WrFmDGzduwM3NDb6+vvD29i6152LQtNTUVAQEBGDt2rU4c+YM6tati6+//hqDBw+GhYWF6DwiohLhwIGIdMazZ8+wbds2bNu2DVFRUbCyssLnn38Ob29vtG7dGkZGRqIT1ebOnTv4448/sHPnTkRGRsLS0hI9evTA4MGD4e7uLjqPiPRUUlISlixZgg0bNkAmk+Grr77CsGHDUL9+fdFppdrZs2exdu1abN26FUZGRhg+fDhGjx7N8/gQkdbhwIGItF5oaCjWrl2LXbt2wdDQEL169ULfvn3Rtm1bvbzs5O3bt7Fr1y789ttvOHfuHOrVqwdfX18MHDgQVlZWovOISA9cunQJP/74IwIDA1GlShWMHj0avr6++OCDD0SnaZWnT5/i119/xYoVK5CSkoJ+/fph6tSpqFWrlug0IqJi4cCBiLRSdnY2tm7diiVLluDKlSto0qQJfH190a9fP5090VhJxMTEYN26dQgICEBubi769u2LcePGwdHRUXQaEemg+Ph4zJo1Czt27ECDBg0wefJk9O7dWy+Hv6qUk5OD7du3Y/78+bhx4wZ8fHwwffp02Nvbi04jInorDhyISKs8fvwYq1atwqpVq/DixQsMGDAA33zzDRo1aiQ6rVTLyMhAQEAAFi9ejKtXr8LLywvjx49Hu3btRKcRkQ64desWZs6ciW3btqFOnTrw9/dHz549IZfLRafplIKCAvz222+YPXs27ty5g8GDB2PmzJmwtbUVnUZE9Fr8V4CItMKjR48wbtw4VKtWDcuXL8ewYcOQlJSEdevWcdhQDObm5hg6dCguXbqEffv2IS8vD15eXnBxccG+fftE5xGRlsrIyMCMGTNQt25dhIeHY9OmTYiNjUXv3r05bFADAwMD+Pj44OrVq1ixYgWCg4NRu3ZtzJ8/Hzk5OaLziIhewT0ciKhUS0lJwcKFC7F8+XKULVsWkydPhq+vL89qrgJnz57F7Nmz8ddff8HV1RWzZ8+Gl5eX6Cwi0gKSJCEwMBATJ05ESkoKxo8fj++//17vLmspWlZWFpYtW4Y5c+bA0tISP/74I3x8fERnEREV4eiZiEql7OxszJ07F9WrV8f69evh7++PGzduwM/Pj8MGFXF2dsaePXsQFRWFChUqoH379mjdujXOnj0rOo2ISrEbN26gXbt26Nu3L1q1aoWEhAT4+/tz2CCAmZkZJk2ahLi4OHTs2BGDBg1Cp06dcOvWLdFpREQAOHAgolIoMDAQ9erVw9y5czFx4kTcvHkTEyZM4KBBTZo0aYL9+/cjIiIC+fn5aNq0KYYOHYqHDx+KTiOiUiQvLw8//fQTGjRogKdPnyI6OhpbtmxBxYoVRafpvcqVK2P16tU4ceIEEhMT0aBBAyxbtgwKhUJ0GhHpOQ4ciKjUiI2NRZs2beDt7Q0PDw/Ex8dj2rRpsLCwEJ2mF1q0aIGwsDBs27YNhw8fRu3atbFw4ULk5+eLTiMiwc6dO4emTZvihx9+wKxZsxAVFQVnZ2fRWfQfHh4eOH/+PMaOHYsJEybA3d0dcXFxorOISI9x4EBEwuXk5GDGjBlwcXFBVlYWTp06hS1btqBKlSqi0/SOTCZDv379EBcXh7Fjx2L69OlwdXXlYRZEekqhUGDBggVo3rw5LC0tcfHiRXz33Xe8zGUpZmJigtmzZ+PMmTMoKCiAi4sLVq9eLTqLiPQUBw5EJFRERAScnZ2xaNEi/PDDD4iIiICrq6voLL1XpkwZ+Pv749KlS6hQoQKaNWsGPz8/pKeni04jIg1JTk5G586dMWXKFHz//fc4cuQIatasKTqLisnR0RERERGYOHEiRo0ahQ4dOiA5OVl0FhHpGQ4ciEiInJwcTJw4ES1btoSdnR2uXLmCSZMmwcDAQHQa/UuNGjXw999/Y8WKFdi8eTOcnZ0RHR0tOouI1Gzfvn2oX78+kpKScOrUKfj7+/PzWQsZGhrC398fR48eRVxcHJydnXHixAnRWUSkRzhwICKNu3LlCpo3b47Vq1dj3bp1OHDgAKpVqyY6i95AJpNh+PDhuHz5Muzt7eHu7o65c+eioKBAdBoRqZhCoYC/vz+6d++Obt264cyZM3BxcRGdRe+pVatWOH/+PFq0aAFPT08sXrxYdBIR6QkOHIhIo1atWoUmTZrA1NQU586dw6BBg0QnUTFVqVIFhw4dwrx58zB79mx8+umnuH37tugsIlKR1NRU9OzZE/PmzcP//vc/bNy4kVcH0iGWlpYIDAzEwoUL8d133+Gzzz5Damqq6Cwi0nEySZIk0RFEpPsyMjIwdOhQ7Nq1C1OmTMGMGTN40jEtduHCBfTv3x+PHj1CQEAAPD09RScR0Xu4du0aOnfujOzsbOzatQvNmzcXnURqFBISgn79+qFSpUrYt28f7OzsRCcRkY7iHg5EpHYJCQlo0aIF/v77b+zfvx+zZ8/msEHLNWzYEDExMejSpQs6dOgAf39/Xu+dSEuFhobCzc0NVlZWiImJ4bBBD3h6eiImJgaSJKF58+a8EhERqQ0HDkSkVsHBwWjatClMTExw9uxZeHl5iU4iFTEzM8PGjRuxcOFCzJkzB7179+ZVLIi0TGBgINq3b49WrVrh6NGjqFixougk0pBq1aohMjISjRs3RqtWrRAUFCQ6iYh0EAcORKQ2y5cvR/fu3dGjRw+EhoZyl00dNWbMGBw5cgRhYWFo1aoV7t+/LzqJiIph4cKF8Pb2xogRIxAYGMjzNeghCwsL7NmzB3379kWPHj2wdu1a0UlEpGM4cCAilZMkCf7+/vDz88O0adOwYcMGmJqais4iNWrVqhVOnTqF7OxsNG3aFOfOnROdRERv4e/vj++++w6LFy/GokWLIJfzK6G+MjIywrp16zB9+nQMHz4cS5YsEZ1ERDqEJ40kIpXKyspC//79cfDgQWzatAl9+vQRnUQa9OzZM3z++ec4e/YsAgMD0a5dO9FJRPQf06dPx9y5c7FmzRoMGTJEdA6VIitXrsS3336L7777DvPmzROdQ0Q6gGdtIyKVSU9PR9euXXHx4kWEhITA3d1ddBJpWPny5XHo0CEMGTIEXbp0QUBAAD7//HPRWUSEf/Y++/bbb7F69Wps3boV/fv3F51EpcyoUaNgYGCAUaNGQS6XY+7cuaKTiEjLceBARCrx/PlzdO7cGTdu3MCxY8fg5OQkOokEMTY2xpYtW2BtbQ1vb2+sW7cOX331legsIr03fvx4rFmzBjt37kSPHj1E51Ap9fXXX8PMzAyDBw+GiYkJZs6cKTqJiLQYBw5E9N6ePHkCLy8vPH78GCdOnECdOnVEJ5FgMpkMixcvhrGxMYYMGYKcnBwMHz5cdBaR3po+fTqWLVuGrVu3cthA7/Tll19CoVBgyJAhMDMzw3fffSc6iYi0FAcORPRenj17Bk9PT6SlpeHkyZNwcHAQnUSlyPz582Fubo4RI0ZALpfD19dXdBKR3lm8eDHmzJmD1atXo1+/fqJzSEsMGjQI6enp8PPzQ9myZTFixAjRSUSkhThwIKISy8jIQLdu3ZCSksJhA73RjBkzoFAo8PXXX6NMmTL44osvRCcR6Y0NGzZg/PjxWL58OQd+pLRvv/0WL168wDfffIOKFSvynDxEpDQOHIioRLKystClSxdcu3YNJ06c4LCB3srf3x/Z2dn48ssvYWxsjN69e4tOItJ5x48fx4gRIzBt2jSMGjVKdA5pqWnTpuHhw4cYMGAAjhw5ghYtWohOIiItwstiEpHS8vPz0bVrV8TExOD48eOoX7++6CTSApIkYdSoUdiwYQP279+PTz/9VHQSkc66cuUK3N3d0b59ewQEBEAmk4lOIi1WUFCAnj17Ijw8HJGRkahZs6boJCLSEhw4EJHShg0bhu3bt+P48eNo0qSJ6BzSIgqFAv3798ehQ4cQHh6OevXqiU4i0jnJyclo1qwZ7O3tcfjwYZiYmIhOIh2Qnp6OVq1aISsrC5GRkbC0tBSdRERagAMHIlLKTz/9hGnTpmH37t347LPPROeQFsrNzUWHDh2QmJiIyMhI2Nraik4i0hl5eXnw9PTE/fv3cfr0aVSoUEF0EumQ+/fvo2nTpnBxccGePXsgl8tFJxFRKcdPCSIqth07dmDq1KlYsmQJhw1UYsbGxti1axeMjIzQtWtXZGRkiE4i0hkTJ05EdHQ0du7cyWEDqVzlypWxe/duHDp0CHPmzBGdQ0RagHs4EFGxnD9/Hm5ubhg2bBiWLFkiOod0QEJCApo3bw4vLy9s375ddA6R1gsICED//v2xefNm+Pj4iM4hHbZy5UqMHj0aQUFB6NSpk+gcIirFOHAgond69uwZmjRpgmrVquHw4cMwNOQFbkg1jhw5gvbt22PhwoUYM2aM6BwirRUXF4cmTZpg2LBh+N///ic6h/SAj48PgoODcf78eVStWlV0DhGVUhw4ENFbKRQKdOnSBZcuXcKZM2dgY2MjOol0zE8//YQZM2YgJCQErVu3Fp1DpHVyc3PRokULGBkZISwsjENh0ojMzEw0adIEH374IY4ePcrzORDRa/GTgYjeatasWTh69CgCAwM5bCC1mDx5Mrp27Yq+ffsiOTlZdA6R1pk2bRri4+OxZcsWDhtIY8qUKYOdO3fi9OnT+Pnnn0XnEFEpxT0ciOiNwsLC0KZNGyxbtgwjR44UnUM6LDU1Fc7OzqhVqxb2798PmUwmOolIK5w8eRKffvop1q5di0GDBonOIT20YMECTJkyBWFhYWjWrJnoHCIqZThwIKLXevHiBRo1aoS6desiODiYPwCS2kVHR8Pd3R0LFiyAn5+f6ByiUi8tLQ3169eHq6srAgMDReeQnlIoFPDy8sL9+/dx7tw5mJiYiE4iolKEh1QQ0WuNHDkSmZmZ2LhxI4cNpBFNmzbFtGnTMGnSJFy4cEF0DlGp9/333yMzMxOrVq0SnUJ6TC6XY8OGDbh79y7mzp0rOoeIShnu4UBEr9i5cyf69u2L4OBgdOzYUXQO6ZGCggK0adMGqampiImJgZGRkegkolLp1KlTcHd3x+bNmzFgwADROURYunQpJkyYgOjoaDRq1Eh0DhGVEhw4ENFLUlJSUL9+fXTv3h2rV68WnUN66MaNG3BycsL333+PadOmic4hKnVyc3PRuHFj2NnZ4cCBA6JziAD8c2hFq1atkJeXh4iICBgYGIhOIqJSgIdUENFLxo0bB7lcjnnz5olOIT1Vo0YNzJw5Ez/++COuXLkiOoeo1FmwYAFu3bqFX375RXQKURG5XI5ff/0V58+fx5o1a0TnEFEpwT0ciKjI0aNH4enpid27d6NHjx6ic0iP5efno3nz5jA2NkZYWBiv7070/927dw8ff/wxvv/+e0yZMkV0DtErJkyYgI0bN+LatWuwsrISnUNEgnHgQEQAgOzsbNSvXx/Ozs7YtWuX6BwinDt3Dq6urvjll18wdOhQ0TlEpYKPjw+OHz+OuLg4lClTRnQO0SvS0tJQu3Zt9OnTB0uWLBGdQ0SCccmIiAAAixcvxoMHD7Bo0SLRKUQAgMaNG2PkyJGYOnUqXrx4ITqHSLgzZ87gt99+w//+9z8OG6jUKlu2LGbNmoWVK1fi8uXLonOISDDu4UBEePjwIWrXro0JEyZg+vTponOIijx79gy1a9fGV199hQULFojOIRKqZcuWkMvlOHHihOgUorcqKCiAi4sL7Ozs8Ndff4nOISKBOHAgIgwaNAhHjhzhLrpUKq1cuRLjxo1DbGwsateuLTqHSIiDBw+iY8eOiIyMRPPmzUXnEL3TgQMH0KlTJ75nifQcBw5Eeu7ChQtwdnbG9u3b0adPH9E5RK/Iz89H48aNUbt2bezevVt0DpEQzZs3h7W1Nfbt2yc6hajYWrVqBTMzMxw6dEh0ChEJwoEDkZ7r1q0b7t27h5iYGMhkMtE5RK/1119/4bPPPsPp06fRtGlT0TlEGsX3P2mrI0eOwNPTE8ePH0fr1q1F5xCRABw4EOmxM2fOoGnTpti3bx86deokOoforbjCS/rK2dkZ9vb2+OOPP0SnECntk08+gVwux5EjR0SnEJEAHDgQ6bGOHTsiJSUFp0+f5t4NVOrxGHbSR3///Te8vLxw5swZODs7i84hUtrRo0fRtm1bREdHo0mTJqJziEjDOHAg0lORkZFwc3PD4cOH0a5dO9E5RMXi4eEBCwsLHDx4UHQKkUZ06NAB+fn5CAkJEZ1CVGIuLi6oXbs2AgICRKcQkYZx4ECkp3r27Il79+7h1KlTolOIiu3gwYPo1KkTzp07h4YNG4rOIVKrS5cuwcnJCcHBwejYsaPoHKIS2759O3x8fHDt2jVUr15ddA4RaRAHDkR66ObNm6hduzZ+//139OrVS3QOkVIaNWqEhg0bYvPmzaJTiNRq8ODBOH36NC5dusTD3kir5eXloWbNmvj888+xePFi0TlEpEFy0QFEpHmLFi2CnZ0devToITqFSGl+fn4ICAjAnTt3RKcQqc3Tp08REBCAMWPGcNhAWs/IyAjffPMNNm7ciMzMTNE5RKRBHDgQ6ZmnT59i8+bNGDNmDAwMDETnECntiy++gI2NDVauXCk6hUhttmzZAkNDQ/Tt21d0CpFKDBo0CNnZ2QgMDBSdQkQaxIEDkZ7ZvHkzDAwMMHjwYNEpRCVibGyMESNGYP369cjJyRGdQ6QW69atQ//+/VG2bFnRKUQqYW1tjW7dumHt2rWiU4hIgzhwINIz69evR//+/WFhYSE6hajEhg4diufPn2PPnj2iU4hULiIiApcvX4avr6/oFCKVGjp0KMLCwnDlyhXRKUSkIRw4EOmRsLAwfoklnWBra4uOHTti3bp1olOIVG7Dhg1o3LgxmjRpIjqFSKU8PT3h4OCATZs2iU4hIg3hwIFIj6xduxYNGzaEs7Oz6BSi9+br64sjR44gISFBdAqRyuTl5eHPP//EgAEDRKcQqZxcLke/fv3w+++/gxfKI9IPHDgQ6Yn09HQEBgZi+PDholOIVKJjx46oVKkStm7dKjqFSGUOHTqEZ8+eoWfPnqJTiNSiT58+uHPnDk6dOiU6hYg0gAMHIj0RFBSE3Nxc9OrVS3QKkUoYGhrC29sbO3bsEJ1CpDI7d+5EixYtUK1aNdEpRGrh5OSEevXq8bObSE9w4ECkJ3bs2AFPT0/Y2NiITiFSGW9vb8THx+PChQuiU4jeW05ODv766y/07t1bdAqRWvXu3Ru7du2CQqEQnUJEasaBA5EeSEtLw6FDh+Dt7S06hUilmjdvDnt7e+zcuVN0CtF7O378OF68eMHDKUjn9ezZE/fv30dMTIzoFCJSMw4ciPTA3r17oVAo8Nlnn4lOIVIpmUyGXr16ceBAOuHgwYNwdHRE1apVRacQqZWjoyPs7Oxw8OBB0SlEpGYcOBDpgX379qF169YoX7686BQilevRowcSEhIQFxcnOoXovRw4cAAdO3YUnUGkEV5eXhw4EOkBDhyIdFxBQQFCQkLQqVMn0SlEatGsWTNUqFCBX1xJqyUmJiI+Ph4dOnQQnUKkER07dkRUVBRSUlJEpxCRGnHgQKTjTp8+jZSUFH6JJZ1lYGAAT09PDhxIqx06dAhly5aFu7u76BQijfD09IRcLkdISIjoFCJSI0PRAUSkXgcOHIC9vT0+/vhj0SlEatOxY0eMGDECmZmZKFOmjOgclcjKykJGRobojFLNwMBAZw4VO3HiBDw8PGBsbCw6hUgjPvjgA7i4uODkyZPo06eP6BwiUhMOHIh03N9//829G0jntW/fHjk5OQgNDUX79u1F56jEokWLMH36dNEZpVqtWrVw7do10RkqERERgWHDhonOINIod3d37uFApOM4cCDSYVlZWTh37hzGjBkjOoVIrSpVqoRatWohLCxMZwYOAPDRRx9h8+bNojNKpW3btiEsLEx0hkrcu3cPt2/fhpubm+gUIo1yd3fH4sWL8eLFC5QrV050DhGpAQcORDosKioKubm5/BJLesHd3R3h4eGiM1TKzMwMn376qeiMUikiIkJnBg5hYWEwNDRE06ZNRacQaZS7uzsUCgVOnz4NLy8v0TlEpAY8aSSRDgsPD0eVKlVgZ2cnOoVI7dzd3XHq1Cnk5uaKTiFSyunTp9GwYUNYWFiITiHSqA8//BA1atRAZGSk6BQiUhMOHIh0WEREBDw8PERnEGmEu7s7srKycOHCBdEpREo5f/48GjduLDqDSIjGjRvj4sWLojOISE04cCDSYTExMXB1dRWdQaQRderUQfny5REdHS06hUgpsbGxcHR0FJ1BJISjoyMHDkQ6jAMHIh2VnJyMhw8fomHDhqJTiDRCJpPB0dERsbGxolOIiu3evXt48uQJnJycRKcQCeHo6IibN28iPT1ddAoRqQEHDkQ6qvCHLq6akT7hShlpm8L3Kz+rSV85OjpCoVDg8uXLolOISA04cCDSURcvXoStrS0+/PBD0SlEGlO4h4MkSaJTiIolLi4Otra2sLKyEp1CJET16tVhZmaGq1evik4hIjXgwIFIR126dIkrZqR3HB0dkZaWhqSkJNEpRMWSmJiI6tWri84gEkYul8Pe3h6JiYmiU4hIDThwINJR169fR506dURnEGlU4Xs+ISFBcAlR8SQmJsLBwUF0BpFQDg4OHDgQ6SgOHIh0VFJSEuzt7UVnEGmUlZUVypYtyz0cSGvws5oI3MOBSIdx4ECkg3JycvDgwQN+iSW9ZG9vz4EDaY1bt27xs5r0HvdwINJdHDgQ6aBbt25BoVBwN13SS/ziStri+fPnSEtLQ9WqVUWnEAllZ2eHBw8eoKCgQHQKEakYBw5EOujWrVsAgGrVqgkuIdI8BwcH7uFAWuHJkycAwKsJkd6zsbGBQqHAs2fPRKcQkYpx4ECkgx4+fAhjY2NUqFBBdAqRxlWsWBEPHz4UnUH0ToUDB9GXxNy9ezeqV68OmUxW9MvIyAhVqlTBF1988dbLFYaEhOD7779XevuNGzcgk8kwYcKEd/Ypc9uS3Offt/3rr78wf/58la20F/f1Dh06FGXLloVMJsP58+eL9Rre1Krs9tKg8O9A4d8JItIdHDgQ6aAnT57AysoKMplMdAqRxllbWyMlJUV0BtE7Fb5Pra2thXb07NkTN2/eRI0aNVCuXDlIkoTnz5/j119/RVhYGFxdXREfH2Idj8cAACAASURBVP/K/WbOnIlly5ZhypQpSm+3t7eHkZERatWq9c4+ZW5bkvv8+7bdunWDqakp2rZti+fPnxf7+V5Hmde7bt06rF27VqnX8KZWZbeXBoV/B/jZTaR7OHAg0kEpKSnCv8AC2r9qJmqlS5nG971PcVb2tG21zMrKCi9evEBubq7oFKK3evLkCczMzFCmTBnRKa8wNzdH165dsXTpUqSnp2P58uUv/f68efPw+++/Y+fOnShbtqzS2w0MDFCtWrViDQSUuW1J7vPf2/r5+aFhw4bo1KkT8vPzi/2c//Y+r1eZ1/CmVmW3i8Y9HIh0FwcORDqotAwctH3VTNRKlzKN73uf4qzsadtqWeF7/+nTp4JLSF9cv34dx44dU3r4lpaWhnLlyqmpSjVcXV0BAJcuXSralpCQgOnTp2PWrFkwNTUt8fZatWqhZs2axepQ5raqeHx/f3+cP38eS5YsUeo5gZK/3tftlVic1/CmVmW3i2RiYgIzMzO8ePFCdAoRqRgHDkQ66NmzZ6X2/A3atmomeqWrtKzsadNqWeFKWWkZOJw5cwYtW7bEqlWr8PjxY9E5pAbx8fH49NNPUbFiRYwePRrh4eGQJOmd98vOzoaJiYkGCkuu8O/1vzuXLVsGSZLQrVu3l26r7Pb9+/fDzs4OAFBQUIAZM2bAzs4OZmZmcHJywo4dO1572+L67322bt2KJk2awNTUFObm5rC3t8cPP/zw2tuWL18erVu3xpIlS4r131LZ1ytJEhYsWIA6derAxMQE5cqVw8SJE9/5Gl7nTa3KbhfN2NiYe6YR6SAOHIh0UGZmZqncRffftGnVTMRKl7KN73Of4q7sactqmZmZGYB/fpgrDRQKBcLCwvDtt9/C1tYWXl5e2Lp1K9LS0kSnkYrI5f98nUpJScGvv/4KDw8P2NraYsKECYiOjn7j/XJzc2FsbKypzBI5efIkAKBhw4ZF24KDg1GnTp1X/p1Rdvu/TZ48GT///DMWL16MBw8eoGvXrujfvz9iYmJU8jqWLFkCHx8f9OrVC/fv38fdu3cxZcqU1+5lV6hx48a4d+8eLly4oNRzFef1Tp8+HZMmTcLw4cPx8OFDJCcnY/LkyUo9T3Fald0ukomJCXJyckRnEJGKceBApIO04UusplbNQkNDUa9ePZQrVw6mpqZwdHTEoUOHXnvbN1H3Spe2rOxpy2pZ4XuqtH1xVSgUUCgUOHr0KL766itYWVmhU6dO2LJlCzIzM0XnvdXb3j/08q7weXl5AIBHjx5h2bJlcHV1ReXKleHn54ewsLCX7leaP6szMjKwe/duTJgwAR9++CH8/PyKticmJqJGjRqv3F6Z7f+WnZ2NVatWoUePHujZsycsLS0xbdo0GBkZYePGje/9WvLy8jBr1ix88sknmDx5MipUqIDy5ctjyJAhaNq06RvvV7jnV2xsbLGfqzivNysrC4sXL4anpyfGjRsHS0tLmJmZvdeeiW9qVXa7SNzDgUg3ceBApINK85fYQppaNXv48CH69OmDpKQk3L9/HxYWFvjiiy+U7lXnSpc2rexpw2pZ4Xu/tA0cChUUFEChUCAvLw8hISH46quvYGNjg4EDByIoKKjUHJpSqCTvH31TuIfDfxUOHx48eIBff/0VLVu2RNWqVTF58mRcvXq1VH5Wv3jxAjKZDOXKlYOfnx86deqEqKgoVKlSBcA/gxRJkl75TFN2+7/Fx8cjMzMTDRo0KNpmZmYGW1tbxMXFvfdrunjxIp4/f4727du/tN3AwKBokPI6hc3KXGa3OK83ISEBmZmZaNu2bbEf913e1KrsdpGMjY1L7ec2EZWcoegAIlK9nJycUvcltlBGRgYOHjz4xlWzLl26vHJ7Zbb/V69evdCrV6+i/9+tWzdMmTIFjx8/ho2NTbG7/70a1KhRo2LdpziN/13ZA4Bp06Zh0aJF2LhxI5o0aVLsxtf578peoSFDhiArK+uN93vT61V2uwiFezikpKTg2bNnQlsAvPXQicIfSDMzM/H7779j27ZtqFChAgYMGFAqDgkp6ftHU7KysrBr1y4AKDop7bu8ePECCoXirbdJS0t75+AnIyOjaDX23r1773zewtvevXsXixYtwvz582FlZQVTU1MkJibCwcHhnY+hCeXKlXvrn2Ph+/K/555Qdvu/ZWRkAPjns2/atGkv/V6lSpWKWf5mqampAABLS0ul7leSw7OK83rv3r0LAEr9G/Qub2pVdrtIhoaGpe6qR0T0/jhwINJBeXl5MDQsXX+9C1fNDAwMYGtri06dOmHmzJlqXTV7HSMjIwBQ+kuNula6tG1lTxtWywr/G/970KQNCn/Affr0KZYtWwbgnxW/iIgIuLm5CWkq6ftHU549ewZvb++i/29ubv7OYauZmdlL51N5HRMTk3d+thgZGcHCwgJAyU5QKpPJin4oLe1Xqvi3wh9U//sZquz2fyv8wXvx4sUYM2aMyloLVa5cGYDyl1wsHBIVvobiKM7rLXz/qXI1/02tym4XqTQvlhBRyZWun0iISCVK4yqBiFUz4J9DGhYsWIDLly8jNTW1aEVZWepa6dK2lT1tWC0r/MF97ty5bz0+W1Pi4+PxzTffvPN2hQO5goICuLm5wdraGrGxscKGDUDJ3z+aUrlyZVy7dk10Bo4dO4ZPP/30rbcxMjJCXl4eqlevjoEDB2LAgAEICAjA9u3bS+1VhV7nww8/hEwme+Xyhcpu/7eqVavC1NQU58+fV0uzvb09KlSogMOHD2Pq1KnFvl9hc8WKFYt9n+K83gYNGkAul+PEiRMYMWJEsR/7bd7Uqux2kXJzc0v9VVuISHkcOBDpIBMTE6078ZI6Vs1u376NHj164PPPP8eGDRtQuXJlLF++HN99953Sfepa6dK2lT1tWC0rXDVs3rw5PvnkE8E17169NjQ0RH5+PmrWrIn+/fvjyy+/hIODA3788UdcuXJFQ5WvV9L3j7550zkcCv/blitXDn369MHAgQPh4eFR9PvaeJK8MmXKoHr16kWHBZR0+7+Zmppi0KBBWL9+PVxdXTFgwACYm5vjwYMHMDAweGX42rdvXxw7dgwHDhyAs7PzO5tNTEwwZcoUTJgwAaNHj8akSZNQqVIlZGRk4M6dO6hXr95r71fY7OjoWOznLc7rtbGxQc+ePREYGIj169ejd+/eSEpKwpo1a976Ot72/P9tLel2kThwINJNPGkkkQ7Sxi+x6lg1i42NRV5eHkaOHInq1avD1NT0pbPJK0NdK12aXNlThjavlhW+90vzF9fCwz6qVKmC8ePHIy4uDteuXYO/v3+pOZYfKPn7R98YGBi89L9lMhlMTU3Rp08fHDx4ECkpKVi9evVLwwag9HxWR0REoE6dOrhx4wZevHiBypUrv3Soyn917twZly9ffuU8Hspu/7clS5Zg7NixRee2qFSpEsaMGfPa87Dk5ubi0aNH2Lt3b7Ff4/jx47FixQocP34cNWvWhLm5OVq3bo3jx4+/8T7R0dGoUqUKnJyclHre4rzeDRs2YNCgQZg0aRKqVKmCUaNGoWXLlgCArl274uLFi6/c523P/9/Wkm4XiYdUEOkmDhyIdFBp+RKrDHWsmhVe6jEkJATZ2dm4fv06Tp8+/cbb9+3bFxUrVsTZs2df+b3XrXS96bbKNBau7AUEBGDVqlVITU1FQUEB7t69iwcPHijV+DqFK3snT57E6NGjce/ePSgUCqSlpb119VybV8sK93AobQOHwvOq2NjYYPTo0Thz5gzu3r2LefPmoU6dOoLrXq+k7x99U7iHg4GBATw9PbFt2zakpKRg27ZtaN++/UsDiX8zNzcvFZdEdXNzQ3x8PCRJgiRJuH//Pnbu3PnG23/77beQJAm7d+9+r+3/ZmxsjHnz5uHWrVvIy8vDo0ePEBgY+Nq9DwIDA9GyZUtUq1ZNqdc5atQoXLx4EVlZWcjKysLZs2cxcuTI1942JSUFR44cwdixY4sG1cV93uK8XgsLC6xduxZPnjxBWloaQkNDMWvWLEiShDt37rx2EPCm539da0m2iyRJErKzs0vFXnJEpFocOBDpIFNT01JxBnnRq2aOjo6YNGkSVq5ciUqVKmHq1Klo06YNAMDDwwN37tx56fbKrB6pcqVLG1b2SrpdhNI4cChfvjwGDx6M48ePIzk5GQsXLizWruClQUneP/rmww8/xLJly3D//n0cPHgQ/fv3L9YJbStUqIDnz5+XunPuvEvNmjUxe/ZszJ49G+np6SXeXhIFBQXYs2cP0tLS0Ldv3/d6rLfx9/dHo0aNMHr0aKWfV5Wvt9Dbnv+/rSXdLtLz58+Rn58Pa2tr0SlEpGoSEemc4cOHS23bthWdobTr169LhoaG0tatW99re0kVFBRILVu2lNavX//S9idPnkimpqbSwoUL33nb/9JUoyq97vWWZLsoYWFhEgDp3r17olMkSZKkrKwsKTc3V+n7/fDDD1KtWrXUUKQbdOHP59ixYxIA6dGjR6JTSmTKlClS586dpefPn7/XdmWEhIRI/fv3lx48eFDix3iXRYsWSR4eHtLTp0/f63lV8Xrf9fyvay3JdtGuXbsmAZDOnTsnOoWIVIwDByIdNGXKFKlRo0aiM0pk7ty5Uq1ataS0tLT32q6s/Px8affu3VKjRo2kjIyMl37vm2++kZo3b170Q+PbbqvMa1Jloyr99/WWdLsoe/bskQBI2dnZolPeiy78QK1OuvDnc/HiRQmAdOXKFdEpJXbo0CFp0qRJ7729tNizZ480d+5cKT8/XyWPp87X+6ZWZbeXBhERERIA6fbt26JTiEjFOHAg0kGLFi2SPvroI9EZJVaaVs1K00qXqJW9kmwXad26dVLZsmVFZ7w3XfiBWp104c/n3r17EgApNDRUdAqRUEFBQRIAtQ7TiUgMnsOBSAdZW1tr9WXs5syZg9GjR+Onn356r+3KaNu2LX777TfY2toWbdu7dy9ycnJw/PhxlC9f/q23fRd1NarSm16vsttFe/LkCaysrERnEL2TtbU15HI5kpOTRacQCfXw4UNYWFgU69wnRKRdDEUHEJHq2djYIDs7G6mpqfjggw9E55SIl5cXvLy83nv7++jevTu6d++ussdTR6Mqven1KrtdtMePH/PEY6QVjI2NUalSJSQlJYlOIRIqMTER9vb2ojOISA24hwORDiq8HOStW7cElxBpXlJSEr+4ktZwcHDgwIH0XmJiIhwcHERnEJEacOBApIMKf9jil1jSRxw4kDaxt7fnZzXpPe7hQKS7OHAg0kHm5uawsbFBYmKi6BQijeMXV9ImDg4O/Kwmvcc9HIh0FwcORDrK3t6eh1SQ3klLS8PTp0/5xZW0Rs2aNXHz5k3k5+eLTiESIjU1FQ8fPkTNmjVFpxCRGnDgQKSjatasiWvXronOINKo69evAwCqV68uuISoeBwdHZGdnc3Pa9JbsbGxkCQJTk5OolOISA04cCDSUQ0aNEBsbKzoDCKNunDhAszMzFCrVi3RKUTFUq9ePRgZGeHixYuiU4iEuHjxIsqVK1d0wmsi0i0cOBDpKCcnJ9y+fRvPnz8XnUKkMbGxsahXrx4MDAxEpxAVi4mJCWrXrs0BMemt2NhYODo6QiaTiU4hIjXgwIFIRzk5OUGSJFy6dEl0CpHGxMbGcrdc0jpOTk7cw4H01qVLl9CgQQPRGUSkJhw4EOmoqlWrwtLSkl9iSa/wiytpIxcXF0RHR4vOINK4/Px8nD17Fi4uLqJTiEhNOHAg0lEymQzOzs78Ekt64/bt20hOToazs7PoFCKluLm54eHDh0hISBCdQqRR586dQ0ZGBjw8PESnEJGacOBApMPc3NwQHh4uOoNII8LCwmBkZARXV1fRKURKcXFxgZmZGT+vSe+Eh4fDysoKderUEZ1CRGrCgQORDnN3d0dCQgIePXokOoVI7cLDw+Hi4oIyZcqITiFSirGxMVxcXBARESE6hUijwsPD4ebmxhNGEukwQ9EBRKQ+bm5ukMvliIyMRPfu3UXnEKlVeHg4PD09RWeolEKhwJMnT0RnlEqZmZmiE1TK3d0dQUFBojOINEaSJISHh8PPz090ChGpEQcORDrsgw8+QL169RAaGsqBA+m058+f49KlS5gxY4boFJW6ceMGbGxsRGeUWrVq1RKdoDJt27bF/Pnzcfv2bdjZ2YnOIVK72NhYPHjwAG3bthWdQkRqxIEDkY5r27YtDh8+LDqDSK1CQkIAAG3atBFcojoDBw6Em5ub6IxSTZcOn2nVqhUsLCxw6NAh+Pr6is4hUrsDBw7AxsaGJ/ol0nEySZIk0RFEpD6HDx9G+/btcevWLa6akc4aMmQI4uPjERYWJjqFqMS6dOkCY2Nj/PHHH6JTiNTuk08+QdWqVbFlyxbRKUSkRjxpJJGOa926NczNzbmXA+ksSZJw6NAhdOjQQXQK0Xvp2LEjQkJCkJubKzqFSK3S0tIQERHBz20iPcCBA5GOMzExQevWrXHgwAHRKURqERsbi3v37vGLK2m9Tp06IS0tDSdOnBCdQqRWBw8eREFBAby8vESnEJGaceBApAe6dOmCw4cPIysrS3QKkcrt3bsXtra2PA6YtJ6DgwNcXFywc+dO0SlEavX777/jk08+gbW1tegUIlIzDhyI9ECvXr2QnZ2N4OBg0SlEKrdjxw706tULcjn/SSPt5+3tjd27d/OwCtJZ6enpOHDgAPr06SM6hYg0gN/OiPSAjY0NWrVqxVUz0jlxcXG4fPkyv7iSzujbty+eP3+Oo0ePik4hUou//voL+fn56NGjh+gUItIADhyI9IS3tzeCg4ORnp4uOoVIZQICAlC5cmVePpJ0hp2dHVxdXbFjxw7RKURqsWPHDnh6esLKykp0ChFpAAcORHqiZ8+eyM3NRVBQkOgUIpXZsWMHvL29eTgF6ZQBAwYgMDAQaWlpolOIVCo5ORkHDhzAF198ITqFiDSE39CI9IS1tTU6duyI9evXi04hUomwsDDEx8fDx8dHdAqRSg0YMAAKhQIBAQGiU4hUatOmTTA3N8fnn38uOoWINIQDByI94uvri6NHjyIhIUF0CtF7W7t2LVxcXNC4cWPRKUQqZWlpiZ49e2Lt2rWiU4hURpIkbNiwAT4+PjAzMxOdQ0QawoEDkR7p1KkTqlatig0bNohOIXovL168QGBgIIYOHSo6hUgtfH19ERMTg7Nnz4pOIVKJ48eP4/r16xg8eLDoFCLSIA4ciPSIgYEBvvzyS2zatAl5eXmic4hK7LfffoNMJkO/fv1EpxCphYeHB+rWrYtVq1aJTiFSiVWrVqF58+Zo2LCh6BQi0iAOHIj0zNChQ/H48WPs2rVLdApRiUiShOXLl6Nv374oV66c6BwitZDJZBgzZgy2bduGBw8eiM4hei+JiYn4888/MXbsWNEpRKRhHDgQ6Rk7Ozv06tULP//8MyRJEp1DpLSgoCDEx8dj3LhxolOI1OrLL79E+fLluZcDab1FixahatWqPFkkkR7iwIFID02YMAEXLlzAsWPHRKcQKW3RokXo3Lkz6tWrJzqFSK1MTEzw9ddfY9WqVUhPTxedQ1QiT58+xaZNmzB27FgYGhqKziEiDePAgUgPubi4oHXr1li0aJHoFCKlxMTE4OTJkxg/frzoFCKNGDlyJLKysniyX9Jay5cvh7GxMU8WSaSnZBL3qSbSS/v27UO3bt1w5swZXlaQtEaPHj1w584dxMTEiE4h0pixY8dix44dSEhIQJkyZUTnEBXb8+fPUb16dYwdOxbTp08XnUNEAnAPByI91aVLFzRt2hT+/v6iU4iK5cyZM9i7dy/fs6R3pkyZgrS0NPzyyy+iU4iUsmDBAsjlcvj5+YlOISJBuIcDkR7bv38/OnfujFOnTqFZs2aic4jeqnPnznj06BGioqIgk8lE5xBp1KRJk7BhwwbcvHkTZcuWFZ1D9E5PnjxB9erVMXXqVEyaNEl0DhEJwoEDkZ5r1aoVzM3NceDAAdEpRG8UHR2NZs2a4eDBg/Dy8hKdQ6RxhT+8TZo0CVOnThWdQ/ROEyZMwNatW3Hz5k2Ym5uLziEiQThwINJzISEhaNeuHY4dO4Y2bdqIziF6rTZt2qCgoAChoaGiU4iEmT17NhYuXIj4+HhUqlRJdA7RGyUkJKBBgwZYsGABvv32W9E5RCQQBw5EhE6dOuH+/fs4c+YMDAwMROcQvSQwMBDe3t6IjIzkoT+k17KyslCvXj20adMGGzduFJ1D9Ebdu3fH9evXceHCBRgZGYnOISKBOHAgIsTFxcHJyQkrVqzAsGHDROcQFcnOzka9evXQsmVLbN68WXQOkXA7duxA//79ERkZCVdXV9E5RK84evQo2rZti4MHD6J9+/aic4hIMF6lgohgb2+Pnj17Yvz48RgyZAgeP34sOokIALBo0SI8fvwYP/30k+gUIuGys7NRtWpV2Nvbo0uXLjh79qzoJKKX5OXlwc/PD82aNeOwgYgAAIaiA4hIs/Lz83HlyhVER0cjJiYGYWFhuHr1KgoKCgAAycnJsLGxEVxJBNy6dQvz5s2DlZUV5s+fj9mzZ6NcuXKis4g0QqFQ4OrVq4iKikJ0dDRCQ0Nf+qyWy+WIjo6Gs7Oz4FKi/7No0SJcv34deXl58PT0xIoVK/Dxxx+LziIigXhIBZGOu379etFwITIyEufPn0d2djYMDAwgl8uRl5dXdNvPP/8ce/bswcmTJ+Hu7i6wmgjo1q0brl27hokTJ2LKlCmQy+WYP38+Bg4cyMtiks65c+cOoqKiEBUVhYiICJw9exaZmZkwMDCAgYEBcnNzAQAymQze3t6ws7PD6tWrcfnyZXz00UeC64n++b7RsGFDzJw5E56enhg5ciTOnTuHESNG4Mcff+TlXIn0FAcORDomMzMTc+bMwenTpxEVFYW0tDTI5XIYGxsjOzv7tfcxNDREz549ERAQgA4dOuD27ds4f/48TExMNFxP9I/ffvsNPj4+OHHiBDw8PPDs2TP4+/tj5cqVcHd3x4oVK+Do6Cg6k+i9LF26FCEhITh9+jQeP34MmUwGY2Nj5Obm4nVfz4yMjFC/fn1EREQAAJycnPDxxx8jKChI0+lEL5EkCe3atcPjx48RExMDIyMjKBQKbNu2DePGjYOpqSnmzp0LHx8f0alEpGE8hwORjilTpgyuXLmCI0eOIC0tDcA/u+a+adhgZGQER0dHbNy4ETKZDGvWrMHdu3cxf/58TWYTFUlJScG4cePw9ddfw8PDAwBQvnx5LF26FNHR0cjLy4OzszP8/PyQmpoquJao5PLy8rBv376i8+ZIkoScnJzXDhsMDAxgaWmJffv2wczMDGZmZli9ejWCg4Oxa9cuTacTvWTt2rU4fvw41q9fX3RVCrlcDh8fH8THx6Nz58746quv4Onpibi4OMG1RKRJ3MOBSAfduXMHtWvXfuOQoZChoSEsLS1x7ty5l3bJXbx4MSZPnoxTp06hcePG6s4lekmfPn0QERGBy5cv44MPPnjl9yVJwtatWzFhwgQYGhpi3rx5PMyCtFJ+fj6cnJxw7dq1onMzvImRkRFCQ0NfuTTs8OHDsXv3bly4cAFVqlRRZy7Ra12/fh3Ozs4YNWoU5s2b98bbhYaGYtSoUYiPj8fYsWPh7+8PU1NTDZYSkQgcOBDpqLlz52LGjBlv/BIrk8mKvsD+99JqCoUC7dq1w4MHDxATE4MyZcpoIpkImzZtwuDBgxEcHIyOHTu+9bb/Pcxi5cqVaNCggYZKiVQjNDQUrVu3fu1eDYVkMhm2bt2KL7744pXfy8jIgIuLC2xtbXH06FHI5dx5lTQnPz8fHh4eyMvLQ2RkJIyNjd95+5UrV2LGjBmwtrbGsmXL0LlzZw3VEpEI/FeJSEdNmDAB1apVg4GBwRtvs2nTptdex10ul2Pz5s14+PAhJk6cqM5MoiI3b96En58fxo8f/85hA/B/h1lERUUhNzcXjRs35mEWpHVatmyJXr16Fe2G/l9yuRyTJk167bABAMzNzbF9+3ZERkZi8eLF6kwlesWMGTMQGxuL33777Z3DBuCfPSv9/PwQFxcHd3d3dOnSBV27dkVSUpIGaolIBA4ciHRQcnIyhgwZAgMDg9fu4SCXyzFjxgz069fvjY/x0Ucf4ZdffsEvv/zCE5KR2uXl5aF///6oUaMGfvzxR6Xu6+zsjIiICKxfvx4BAQH4+OOPsWXLlreuGBOVBllZWZg5cyb+/vvv1/6wZmRkhLZt277z74SzszP8/f0xdepUxMTEqCuX6CVHjhzB/PnzsXjxYqUvfVmpUiVs2bIFx44dw82bN1GvXj34+/sjJydHTbVEJAoPqSDSIYW7Ks6cORMWFhaYO3cu9u7di6CgoKLLXxoaGqJz5874888/i3XM++DBg7F3717ExMTAwcFB3S+B9NSYMWOwbt06REdHo27duiV+nH8fZuHh4YEVK1bwMAsqlY4cOYJRo0bh7t27mDBhAiwtLTF+/HgoFAoA/wwbqlWrhpiYGJQrV+6dj6dQKNChQwdcu3YNMTExsLa2VvdLID12584duLi44JNPPsGOHTve67Hy8vKwatUqTJs2DZUqVcLy5cvRvn17FZUSkWgcOBDpiNDQUHzzzTe4evUqRowYgTlz5sDCwuKlE0gaGhqibt26OHXqVLHPy5CdnQ13d3fk5+cjMjKS53MglQsICED//v2xefNmlV0y7ezZsxg1ahRiYmIwcuRI/PDDD689ASWRpt27dw/ff/89tm7dii5dumDlypWws7NDQUEBGjVqhLi4OEiShLJly+LMmTOoXr16sR/76dOnaNKkCRwcHHD48OG3HlJHVFI5OTlo2bIlUlNTERUVpbLP1jf93SAi7cZDKoi0XEpKCvz8/NCmTRtYW1vjwoULWLp0KSwsLAAAVatWhb+/PwDA0tIS+/fvV2poaaCA1wAAIABJREFUYGpqij/++AP37t3DsGHD1PIaSH/FxsbC19cXY8aMUen12Z2dnREeHo7169dj+/btPMyChMvLy8PSpUvx8ccf49SpUzh48CCCgoKKfqAyMDDAmjVrig6D+/PPP5UaNgBAhQoV8McffyAyMhLTpk1T+WsgAoBvvvkGcXFx+PPPP1U6yK1SpQq2bNmCkJAQJCQkFB1mkZubq7LnICIBJCLSSgUFBdLmzZslKysrqUqVKtLmzZvfeNucnBypUaNG0qlTp0r8fMHBwZJcLpeWLl1a4scg+reUlBSpZs2aUsuWLaXc3Fy1Ps/o0aMluVwutW7dWrp06ZLanovodY4dOybVq1dPKlOmjDRz5kwpOzv7jbcdMmSI9Msvv7zX861fv16SyWTStm3b3utxiP5r+fLlkkwmk/744w+1Pk9mZqY0c+ZMydTUVKpTp470999/q/X5iEh9OHAg0kJRUVFS06ZNJSMjI2n06NFSWlraO++TkZHx3s87Z84cycDAQAoKCnrvxyL9lp2dLbVs2VKys7OTHjx4oJHnjImJkZo1a1b09yY1NVUjz0v66/79+9LAgQMlAFKXLl2kxMTEd94nKytLJc89fvx4ydjYWDpy5IhKHo8oODhYMjQ0lObMmaOx50xISJA6deokyWQyaeDAgVJycrLGnpuIVIOHVBBpkcLDJ5o3bw4LCwucP3/+pcMn3kYV516YMmUKfH190adPH0RFRb3345F+kiQJvr6+uHDhAoKCgmBra6uR53VxcUFERATWrVv30mEWRKqWn59fdPhEREQEgoODERQUBHt7+3fe19TUVCUNP//8M7p06YLevXsjPj5eJY9J+uvs2bPo06cPfHx8MGXKFI09b40aNRAcHIy9e/ciNDQUH3/8MZYuXfraK3ARUenEk0YSaQGFQoFt27Zh3LhxMDU1xdy5c1V6vLsy8vLy0LlzZ1y6dAmnTp3iCZ1IaVOnTsWCBQuwf/9+eHp6Cml4+vQpZs2ahRUrVqBVq1ZYsWIF6tevL6SFdEtoaChGjRqF+Ph4jB07Fv7+/iobIigrKysLn376KR4/fozw8HBUrFhRSAdpt6SkJLi5uaFBgwYIDg6GkZGRkI7MzEz8/PPPmDdvHurWrYtVq1ahRYsWQlqIqPi4hwNRKRcTE4MWLVpg6NCh+OKLL3D16lVhwwbgn0u1BQYGwtraGu3bt8ejR4+EtZD2Wbp0KX766SesXr1a2LAB+OfkekuXLkVUVBQyMzPRuHFj+Pn5IS0tTVgTabfk5GT4+Pig9f9j787jakz//4G/Tue0p1LaaLGWlpOdqWyRIjH2dTQYywxZplAfa5NpLMMoYxvryAxjZyyhULQgJYVKEUmLOknaT6fr94dv58fYqe5z8n4+Hv3jLPfr3B139/2+r/d19eoFfX193Lx5EytXruSs2AAAqqqqOH78OBQUFODs7IyCggLOshD5lJ2djX79+sHAwACHDh3irNgAvBip6evri8TERBgYGMDBwQHu7u7Iy8vjLBMh5P2o4ECIjCooKMCcOXPQrVs3qKurS9snGjVqxHU0aGpqIjQ0FIwxODk50Uks+SC7d++Gp6cnVqxYgUmTJnEdB8CLNovo6GhqsyCfrLq6GkFBQbCxscGFCxfw559/IjQ0FG3btuU6GgBAX18fFy5cQFFREfr27YunT59yHYnIifz8fPTr1w88Hg/BwcEys7RwmzZtcObMGRw/fhxhYWGwsLCgNgtCZBgVHAiRMTUnrxYWFjh06BB27dqFCxcuwMrKiutor9DX10dISAieP3+OAQMG0J1h8k5HjhzBlClTsGTJEnh7e3Md5xUKCgpwd3dHSkoKRowYgUmTJqFPnz64c+cO19GIjIuNjX1lBFpycjKnI9DextjYGCEhIXjy5AkGDhyI4uJiriMRGVdUVCT92x4SElJvc+18jEGDBiEpKQmzZ8/GggUL0K1bN5pfihAZRAUHQmTIy+0T48aNk9mT1xomJiY4d+4cMjIy4OrqiqKiIq4jERl06NAhjBkzBrNnz4avry/Xcd6qps3i6tWrKCkpQfv27anNgrzR06dPMWfOHHTt2hVqamq4cePGB0/gy5XWrVvj3LlzSE1NhZubG32vyVsVFBTAyckJ2dnZuHjxIszMzLiO9Fbq6urw9fVFQkICtLW1YWdnB3d3d4hEIq6jEUL+DxUcCJEBL7dPvHzyKgvtE+/Tpk0bnD9/Hvfu3aP2CvKa3bt3Y8yYMfjhhx+wZs0aruN8kM6dO0vbLP7++29YWlpSmwUB8GKFlZoRaAcPHpSOQJOXCUetra1x6dIlpKamwtHRkS7KyGtyc3Ph6OiI3NxcXLx4ES1btuQ60gexsLBASEgIdu3ahXPnzsHCwgJbt24FzY1PCPeo4EAIh97UPnHx4kW5OXmtYWVlhcjISIhEIvTo0QNZWVlcRyIyYMuWLZg8eTLmzZuHwMBA8Hg8riN9sJfbLIYPH05tFgTx8fFwcHDAd999h7Fjx0pHoMnT9xoALC0tERERgYKCAvTs2RPZ2dlcRyIyIiMjAz179kRFRQUiIiLQpk0briN9FB6PB3d3dyQnJ2P8+PGYMWMGevXqhcTERK6jEfJFo4IDIRyJjY2Fvb293LRPvE+LFi1w8eJFiMVi9OnTB+np6VxHIhzy9/fHjBkz4O/vj5UrV3Id55Pp6uoiMDAQV65cQXFxsbTNgnrgvxyFhYWYM2cOOnfuDIFAgLi4OAQGBsrMBHqfouZ4XVlZCUdHR9y7d4/rSIRjt27dQo8ePaCsrIywsDCYmJhwHemTaWtrIzAwEDExMaiqqkLHjh0xZ84cavskhCNUcCCkntW0T3Tt2hWqqqpy1T7xPqamprh06RJUVVVhZ2dHkzd9gaqqqjB16lQsW7YMGzduhI+PD9eRakWXLl1w5coVaZsFrWbR8NW0T7Rt2xZ///03Nm3ahPDwcAiFQq6j1QozMzNcunQJGhoasLOzQ3R0NNeRCEdCQ0PRvXt3NG/eHGFhYTI5QeSn6NChAyIjI7Fjxw7s27ePjtuEcIQKDoTUk7etPiFv7RPvY2hoiIiICHTp0gW9evXC/v37uY5E6klxcTGGDBmCffv24ejRo/jhhx+4jlSr3tRm0bdvXyQlJXEdjdSylJQUODs7Y9KkSXB2dkZKSgqmTZsmd+0T72NkZITw8HDY2dnB0dER+/bt4zoSqWd//vknXF1d4ezsjLNnz0JHR4frSLWqps0iJSUFI0eOxKRJk+Do6EjtcYTUIyo4EFIP4uLipL2/48aNQ1JSklz2/n4odXV1HD16FN9++y3GjRuHNWvW0MRNDVx6ejocHBwQFxeH8PBwDBo0iOtIdaamzSIsLAz5+flo164dtVk0ECUlJfD19YWtrS0KCgoQFRWFoKAg6Orqch2tzqirq0uXrf3mm2/w888/0/H6CyCRSLBgwQJMnjwZ3t7e2L9/P1RUVLiOVWcaN26MwMBAXLt2DaWlpdQeR0h9YoSQOlNQUMBmz57N+Hw+69WrF0tMTOQ6Ur379ddfGZ/PZ6NGjWLPnz/nOg6pA8HBwUxHR4e1b9+ePXjwgOs49UosFrOAgACmpaXFmjVrxnbv3s11JPKJ/v33X2ZiYsIaN27MAgICWFVVFdeR6t3vv//OFBUV2eDBg1lhYSHXcUgdefLkCevTpw9TVVVlQUFBXMepdxKJhO3evZvp6up+1HFbLBbXcTJCGiYa4UBIHWD/WTpt586duHjxImxsbLiOVu/mzZuHCxcuIDw8HJ07d6ZhjA0IYwyrVq2Cm5sbBgwYgMjISJler70uCAQCzJkzB8nJyejTpw8mTpz4QW0WM2bMoIn6ZERqair69++Pr7/+Gr1790ZKSgrmzJkDPp/PdbR65+HhgYsXLyImJgZdunTBrVu3uI5EallcXBy6du2KtLQ0hIeHY8KECVxHqnc17XG3bt2SHrednJyQnJz81tc8evQIvXv3RklJST0mJaRhoIIDIbUsLi4O9vb2cr90Wm3q2bMnrl27Bk1NTdjb29O8Dg3AkydP4ObmhqVLlyIwMBB//fUX1NTUuI7FGUNDQwQFBSE8PPy9bRahoaHYvHkz3Nzc8Pz5cw7SEgAoLS2Fr68vhEIhcnNzERERgaCgIOjp6XEdjVMODg6IjY2FgYEB7OzssGPHDq4jkVrAGENAQADs7e1haWmJGzduoEuXLlzH4lTNcTssLAy5ubno2LEjfH19UV5e/tpzPTw8EBkZiQkTJlDLESEfi9sBFoQ0HC+3T/Ts2fOLbJ94n/LycjZz5kzG4/GYu7s7e/bsGdeRyCcIDg5mhoaGrHnz5iwqKorrODLn5TYLY2PjV4brVlRUsFatWjE+n88EAgEbOHAgk0gkHKb9Mv3777+sefPmTFtb+4ttn3ifyspK5u3tzRQUFNjw4cOZSCTiOhL5RFlZWczFxYUpKioyf39/Oua8Qc1xW1NTk7Vq1YqdOnVK+tjp06cZAAaAKSgosGXLlnGYlBD5QwUHQj5TdXU12717N9PT02NGRkZs9+7drLq6mutYMu3EiRNMX1+ftWzZkkVHR3Mdh3ygsrIyNnv2bMbj8di4ceOox/s9srOz2YQJExiPx2N9+/ZlSUlJbMWKFYzP579y8urj48N11C9GWloac3V1ZQDYyJEjWU5ODteRZN6FCxeYsbExa9asGQsNDeU6DvlIx44dY3p6eqx169bs6tWrXMeReY8fP2YTJkxgAJibmxtLSUlhLVq0eOW4zePx2D///MN1VELkBhUcCPkMsbGxzM7OjgkEAjZ79my6Y/8RcnNzmZubG1NQUGDTpk2jCSVlXEREBLO0tGSamprsjz/+4DqOXAkLC2M2NjZMWVmZKSkpSU9aX/7Zvn071zEbtIqKCrZy5UqmoqLCLCwsWEhICNeR5IpIJGIjRoxgPB6PTZ06lT19+pTrSOQ9cnNz2dixYxkANnnyZPob+5HOnTvHzM3NmYqKyivFhpqCg5KSEouJieE6JiFygQoOhHyC/7ZPJCQkcB1JLlVXV7Nt27YxbW1t1rJlS3bu3DmuI5H/KCwsZN9//z3j8XjM1dWVPXz4kOtIcqmyspLZ2toyRUXFNxYcFBUVqT2ljoSGhrK2bdsyNTU1tmzZMlZRUcF1JLn177//smbNmjFDQ0NakUWGHThwgDVp0oQ1bdqUHTlyhOs4cuvOnTtMIBC88ZjN5/OZvr4+e/z4MdcxCZF5NGkkIR+BvbT6xIEDB7Bz506EhYVBKBRyHU0u8Xg8TJkyBXfu3EH79u3h4uKCb7/9Fjk5OVxHIwAOHDgAKysrHDlyBH/99RdOnToFU1NTrmPJpfDwcCQkJEAsFr/x8erqari5ueHRo0f1nKzhevz4Mdzd3eHk5ITWrVsjKSkJvr6+UFJS4jqa3Bo0aBASEhLQv39/TJw4EUOHDsX9+/e5jkX+z507d9CvXz+MGTNGOmn10KFDuY4lt7y8vN464bdEIsHTp08xZMgQVFRU1HMyQuQLFRwI+UA3btyAg4ODdPWJlJSUL371idpiZGSEw4cP4/DhwwgLC4O5uTlWrVpFf8Q5cuPGDfTs2RNjx46Fi4sL7ty5g3HjxnEdS25VVlbi+++/f+cyixKJBM+fP8eAAQNo2bXPJBaLERgYiLZt2yI6OhrBwcE4ceIEFctqiY6ODnbt2oVz584hOTkZ1tbW+N///kcrrnCooKAAs2fPRrt27SASiRAREYH169ejUaNGXEeTW8eOHUNwcPBbi8TAi2PNjRs3MGXKlHpMRoj8oYIDIe/x9OlTzJkzB126dIFAIEBcXBwCAwOhqanJdbQGZ+jQoUhKSsK8efPg5+cHa2trHDlyhJagqic5OTmYOnUqOnfujKqqKly5cgU7d+6Erq4u19Hk2tq1a3Hv3j1IJJJ3Pk8sFiMlJQXffPMNfec/UVhYGDp06ID//e9/8PLywq1bt9C/f3+uYzVITk5OSEhIwIoVK/DHH3/AwsICO3fufO/3nNSeyspKbNiwAebm5ti/fz82b96M69evw87Ojutocq20tBQzZ878oBtKVVVV+Pvvv/Hbb7/VQzJC5BOPcXxWU3OCdf/+fTx+/Bg5OTnIzc1FQUEBAKCwsBCMMSgpKUFdXR2KiorQ1dWFoaEhmjVrhmbNmsHCwgImJiZcfgy5ER4ejp9++onrGDLvwoULYIxhz549mD9/PhQUFLBq1SpMmDCBRjTUk8zMTHh7e2Pfvn3o1KkT/Pz8MGDAAK5jNUh5eXlYvXo1Nm3aBB0dHaxatQpjx46l73otEIvF+PrrrxEWFoaysjIoKCiAz+e/866ZgoICFi1aBHNzc+zcubMe08ofExMT7N69G9nZ2fD29sZff/2FgQMH4vfff0fz5s25jvfFyM/Px9KlS7Ft2za0atUKy5Ytw+jRo6GgQPe16kJVVRX27NkDPz8/ZGVlYfbs2Vi8eDG0tLS4jtYg3Lx5EytXrkRkZKS0zU1FRQWVlZWorq5+42sUFBRw8uRJ7Ny5EyKRqD7jyh0PDw8MGzaM6xhyITs7G8nJycjMzERWVhaysrJQUFCAiooKlJWVoby8HACgra0NHo8HLS0tGBoawsDAACYmJjAzM4OlpSWUlZU5/Rz1WnBgjOHOnTsIDw9HREQEEhMTkZKSIj3x0tHRgZGREYyMjNC4cWMA/38HVlRUoLS0FGKxGPn5+cjOzkZWVhbKysoAAFpaWrCxsUHHjh3Rs2dP9OzZE/r6+vX10eTGgQMHMHr0aEyfPp3rKDLp/v37CAkJQVxcHDw8PHDt2jXMmDEDfn5+9IecIzdu3MCyZctw4sQJ2NnZwc/PD05OTlzHahAKCgqwdu1arF+/Hurq6vDx8cH06dOhqqrKdbQGp7q6GsnJyYiJiUFMTAwiIyNx+/ZtiMViCAQC8Hi8V4oQPB4PI0eOxNmzZzFmzBgOk8uuuLg4PH36FB4eHli6dCmaNGmC9evXY+DAgVxH+2KlpqbCz88Pe/fuhZWVFX766ScMGTKECg+1RCKRYN++ffDz88ODBw8wceJELF68mNqF6lB+fj5iYmJw7do1REdH4+rVqygsLASPx4OysrL0go/H40FNTQ2qqqowNzenub3eYs+ePfjll18wZ84crqPInIKCAkRERCAsLAxxcXFITEyU3oBXVlaGkZERmjVrhiZNmkBJSQmqqqpQUVEB8P9v0BcVFSErKws5OTnIy8sDAAgEArRq1Qq2trZwcHBAr169YGtrW6/H5TovOJSVleHs2bM4evQogoODkZeXB01NTXTv3h3t2rWDUCiEtbU1zM3NpTvtY4hEIty5cwe3b99GYmIirl27hhs3bkAikcDGxgZff/01hg4dik6dOtXBp5M/NQUHGq77ZjX7h8/nw97eHhs2bICtrS3XsQhe3HHw9/fHwYMH0b59e/z4448YN24cBAIB19HkzoMHD7BlyxZs2bIFAoEAHh4e8PT0pDaheiYWi3Hz5s1XihBpaWnSO2h8Ph9NmzZFRkYGx0ll0/Lly7FixQowxuDt7Q1vb28qlsmIpKQkrFixAnv37kXz5s0xa9YsTJ06FWpqalxHk0slJSXSYfupqakYPnw4/P390aZNG66jfZHS09Nx9epV6XE7Pj5eOucUn8/H8uXL8b///Y/jlLLJyMgIPj4+VHD4P4mJiTh69CiOHz+O+Ph4AICNjQ3s7OxgY2MDa2trWFlZwcDA4KPfu6KiAvfu3cOtW7dw69Yt3Lx5ExERESgoKIC2tjZcXFwwbNgwuLq6QkNDo7Y/2qvqavmLyMhINmHCBKampsYUFBSYg4MDW716NYuJiWFVVVV1tVnGGGPPnj1jp06dYj/++CNr3rw5A8CaN2/Ofvrppy9++Zr9+/ezOvy1y72a/bNnzx5WXV3NdRzyBlevXmUjR45kfD6fNW/enK1bt449e/aM61hy4cqVK2zUqFGMz+czMzMztm7dOlZUVMR1LPKS4uJidunSJbZ27VomFAqZqqrqF/93622WL1/OmjZtylJTU7mOQt7i9u3bbPLkyUxZWZnp6+szPz8/9uTJE65jyY2srCy2aNEipqOjw9TU1NiMGTPo+y6DxGIxi4+PZ1u3bmWqqqqsd+/eTCKRcB1LJhkaGrKAgACuY3AqLy+PrV69mpmbmzMAzMjIiP3www/s2LFjTCQS1em2JRIJu3nzJgsICGB9+/ZlAoGAqaiosJEjR7LQ0NA6u/ap1StPsVjM/vzzT2Zra8sAsI4dO7KNGzey7Ozs2tzMR4uNjWXz589nenp6TCAQsGHDhrFr165xmokrVHB4N9o/8iM9PZ15e3szLS0t6cEyJCSECkX/UVhYyP744w/WoUMHBoC1b9+e7d69m4nFYq6jkfdYvnw5a9OmDZ24vkXN/iGyLzc3ly1btozp6uoyJSUl5ubmxg4cOFDnN6DkkUQiYSEhIWzkyJFMUVGR6evrs2XLlrG8vDyuo5EPQBfU7/Yl759bt26xCRMmMGVlZaatrc08PDxYZGQkp3/j8/Pz2c6dO5mDgwMDwMzNzdmGDRtYeXl5rW6nVpo3JBIJdu3ahbZt22Lq1Kno2LEjrl27htjYWMyYMQOGhoa1sZlP1rFjR6xevRqPHj3C7t27kZmZia5du8LNzQ3Xr1/nNBsh5NM0b94cK1euxMOHD7F27VqkpaWhX79+sLGxwdq1a7/oYehisRhnzpzBhAkTYGhoCC8vL3Ts2BHR0dG4ceMG3N3dqRVFjlD/O5F3+vr68PX1RUZGBrZu3YrCwkKMGjUKbdq0wfLly5Gamsp1RM7dvn0bS5YsgampKZydnSESiRAUFISMjAz4+vqiSZMmXEckhHyC27dvY/To0bC1tUV8fDw2bdqEx48f4/fff4e9vT2nf+N1dXUxadIkREREICEhAX379sW8efPQqlUrbNiwAZWVlbWync/+hHFxcbC3t8f06dNhb2+P27dvY9euXejSpUtt5KtVysrKGDduHK5evYqQkBCIRCJ07doV7u7u0ok1CCHyRUtLCzNmzEBcXBxiYmLQo0cP+Pv7o3nz5nBwcEBgYCAeP37Mdcw6J5FIEBoaimnTpsHIyAiurq5IS0tDYGAgsrKysH37dnz11VdcxySEfMHU1NTw7bff4vLly7hz5w6GDh2KjRs3wtzcHJ06dcLq1avx4MEDrmPWm7t372L58uUQCoWwsbHBrl274O7ujtTUVJw/fx5jxozhfHZ5QsinKSkpga+vLzp27Ig7d+5g165duHHjBiZPniyT89kIhUJs2rQJDx8+xDfffIMFCxbAxsYGZ8+e/ez3/uSCQ1lZGWbOnIkuXbpAQ0MDCQkJCAoKkpsJbJycnBAdHY29e/fi/PnzsLS0xL59+7iORQj5DJ07d8aWLVuQl5eHS5cuwcbGBsuWLYOxsTGsra3h4+OD0NDQdy5JKE/y8vJw8OBBTJ8+HcbGxujXrx8iIyPh4eGBlJQUREdHY9q0aWjUqBHXUQkh5BWWlpZYu3YtHj9+jNDQUGnBoWXLlujQoQMWLlyIS5cuoaqqiuuotaaiogLnz5/H/PnzYWNjAwsLC2zcuBG9evXCpUuXkJGRgV9++QWtWrXiOioh5DMEBwfDwsICv//+OzZs2ICbN2/C3d0dfD6f62jvpa+vj5UrVyIpKQlWVlbo378/xo8fj8LCwk9+z08qONy6dQtdunTBvn37EBQUhPPnz6Nt27afHIJLY8aMQVJSEsaMGYPx48fju+++Q0lJCdexCCGfgc/no3v37vjjjz+Qk5ODEydOoFevXjhw4AD69esHAwMDjBgxAgEBAYiJiZGbE9qcnBwcOXIEnp6e6NSpEwwMDDBhwgSkp6dj/vz5SE1Nxe3bt+Hr6ys3xV9CyJeNz+ejb9++2Lp1K7KzsxEcHIzu3bvj4MGD6NWrF5o0aYLhw4cjMDAQ169fl5vjNQBUVlYiOjoaa9euxeDBg6GrqwsnJyecOnUKLi4uOH/+PB4/fowNGzagR48e1D5FiJyrrKyEl5cXBg4ciN69eyMlJQVTp06Vy//bZmZmOHbsGE6cOIGLFy+iQ4cOuHLlyie910c38R49ehTjx49Hx44dcfr06Qax9q+mpiY2bNgAZ2dnTJ48GTExMTh9+jSMjY25jkYI+UwqKipwc3ODm5sbACAlJQXBwcG4ePEi/P39kZ+fD3V1dXTt2hWdO3eGUCiEUCiElZUVlJSUOMudnZ2NxMREJCQkICEhAdHR0UhLSwOfz4dQKESPHj3g5+cHR0dHmRyaRwghH0tRUREuLi5wcXEBAKSlpeHMmTM4d+4cli9fDpFIJD1e29nZoV27drCxsYG5uTnn89KIxWIkJydLl5+LiorC9evXUVZWBn19fXTv3h1r165F//79YWZmxmlWQkjtE4lEGDx4MBISEvDnn3/C3d2d60i1ws3NDTdv3sS3336Lnj17YsuWLZg8efJHvcdHHZ03b96MWbNmYfr06QgMDOT84F7bBg8ejLi4OLi6usLe3h7BwcGwtrbmOhYhpBZZWFjAwsICc+fOBWMMycnJiIqKQkREBEJDQxEYGIjKykoIBAKYm5ujVatWaNGiBVq0aIHmzZvD1NQU+vr60NXVhaqq6ifnEIlEyM/PR3Z2Nh48eIAHDx4gPT0d6enpSEpKQn5+PoAXa1bb2tpi3LhxsLe3h52dHTQ1NWtrdxBCiMxq3bo1PDw84OHhAcYYkpKSpMfrY8eOYfXq1aiqqoKysjKsrKxgaWkpPVbXHLebNm0KFRWVWslTVlaGx48fS4/VLx+zk5KSIBaLoaioiLZt26Jr166YPHky7O3tYW5uXivbJ4TIpgcPHmDAgAEoLy/HtWvXYGlpyXWkWqWnp4dTp05h2bJlmDJlCh4/fowlS5Z88Os/uGKwefNmzJw5E0uXLoWvr+8nhZUHpqamiIiIwJAhQ9CrVy9cvnyk5g0GAAAgAElEQVS5wX1pCCEv8Hg8WFpawtLSEt999x0AoKqqCikpKUhMTERiYiLS09MRExODgwcPIjs7+5XXq6urQ1dXF7q6ulBQUICGhgYUFRXB4/GgqqqK0tJSAMDz589RVVWF0tJS5OfnQyQSobq6Wvo+Kioq0pNkoVCI4cOHQygUwtbWlmYmJ4QQvDheW1lZwcrKClOmTAHwYk6EO3fuSI/XKSkpOH78ONLT019pj1VXV0eTJk2kPzVFWy0tLSgoKIDP54MxhurqakgkEhQVFQEAnj17hry8PGmBuOaYDrwYHVtT2BgwYAAWLFgAoVAIS0tLKCoq1uOeIYRw6fHjx+jduzc0NTUREhLSYEfI83g8+Pn5oUWLFpg2bRrEYjH8/Pw+6LUfVHD4559/4OHhgZUrV2LBggWfFVYeaGtrIzg4GM7OznB2dkZkZGSDaB0hhLyfQCCAtbU1rK2tMWbMmFceKy8vR0ZGhrRo8PJPdXU1SkpKUFlZCYlEgrKyMumSwJqamuDz+VBTU5MWKPT09NCkSRPo6+vDyMiIi49KCCFyTVlZGR06dECHDh1eeywvLw/p6enIycmRHqdrigc1BYVHjx5BIpFALBaDx+NBIBBAIBBIJ9o1NTVFp06dpMdtXV1dGBkZoUWLFtDV1a3Xz0oIkT3Pnj3DwIEDoaGhgbCwMOjo6HAdqc5NmjQJioqKcHd3h46ODubOnfve17y34HDjxg1MnDgRc+fO/SKKDTVUVVVx/Phx9OzZEyNGjEBkZCRVrAn5wqmoqMDc3JyGxxJCiIzT09ODnp4e1zEIIQ0UYwyjRo1CYWEhIiMjv4hiQ41vvvkGmZmZ8PLygq2tLfr06fPO579zyszS0lKMGzcO3bp1w+rVq2s1qDzQ0dHBsWPHkJycjMWLF3MdhxBCCCGEEEIIx9auXYsLFy7gn3/+QbNmzbiOU+98fHwwatQouLu7S+cde5t3FhyWLFmCvLw87N27Vy7WDa0LrVu3RmBgINasWYOrV69yHYcQQgghhBBCCEdSU1OxaNEi/Pzzz/jqq6+4jsOZTZs2gc/nv7et4q0Fh/T0dGzcuBH+/v5fZNXmZZMmTULv3r3x448/gjHGdRxCCCGEEEIIIRzw9vZGq1at4OXlxXUUTjVu3Bjr1q3D3r17cf369bc+760FhyVLlqBFixbSmdvr0pUrV2BpaQkFBQXweDwYGBjg559/rvPtfowVK1bgypUrCA4O5joKIYQQQgghhLzTlClT0KhRI/B4PMTHx3Mdp0G4du0ajh49ijVr1kAg+OAFHz9YaGgoRowYARMTEygrK0NDQwPW1tb48ccf8fDhw1rf3ucaNmwY7OzssGjRorc+540FB5FIhEOHDmHBggV1siP/66uvvkJSUhKcnZ0BACkpKTI3Z0LXrl3h5OSELVu2cB2FEEIIIYQQQt5p+/bt2LZtG9cxGpStW7eiffv2cHV1rfX39vHxQb9+/aCpqYkTJ07g2bNnyMrKwm+//YbLly/D1tYWFy5cqPXtfq6FCxciJCQE9+7de+Pjbyw47N27F0pKShg5cmSdhpM33333HYKDg5Gdnc11FJSUlMDf3x/379/nOgohhBBCCCGEyIW///4bwcHBqKqq+qjXlZSU4MCBA5g8eXKtZzp+/DhWrVqFadOmYefOnWjfvj1UVFSgqakJFxcXhIWFwdDQEKNGjYJIJPro9y8rK4O9vX2t5waA/v37o2nTpti1a9cbH39jweH06dNwc3ODhoZGnYSSV19//TUUFRVx7tw5rqNALBZj8eLFaNWqFTp37oz169cjJyeH61iEEEIIIYQQGcHj8biOIHNCQkLg6uoKPT09zJw5ExERER80T9/ly5dRXFyM0aNH13qmNWvWAMBbR/lraGjA09MTIpEI27dv/+j337FjB548efJZGd+Gz+dj5MiROH369Bsff63gUF1djejoaHTv3r1OAn2MTZs2QV1dHWpqajh+/DgGDBgATU1NGBsbY9++ffWeR0VFBZ07d0ZkZGS9b/td4uLi4OnpiWbNmqF3797YuXMnCgsLuY71TpcvX4aVlRW0tLSgoqICoVCIs2fPch2LEELIf0gkEixduhSmpqZQVVWFra0t9u/fz3UsQggh/8EYw6+//goLCwsoKytDS0sL8+fP5zqWTFJQUEBhYSG2bduGHj16oGnTpvDx8cHNmzff+pqIiAiYm5tDX1+/VrOUlpbiypUrMDU1hYmJyVufZ2dnB+BFwQQAZs+eDSUlJRgaGkqfM3PmTKirq4PH40mXq5w7dy68vLxw79498Hg8tG7dulbzA4CDgwMSEhJQVFT02mOvFRzu3buHZ8+eoWvXrrUe5GPNmDEDP/74I8rKytCoUSPs378f9+7dQ8uWLTF16lSIxeJ6z9S1a1fExcXV+3bfhTEGiUSC6upqREREYNq0adDT04OrqyuCgoJQXFzMdcTX5ObmYvTo0Xjw4AGysrKgoaGB8ePHcx2LEELIf/j4+GD16tVYt24dsrOzMWjQIIwbN+6dM1ITQgipf0uWLIG3tzemT5+O3Nxc5OTkwMfHh+tYMqlm5EfN9WROTg7WrVuH9u3bo3Xr1vD19cXdu3dfec2NGzfQpUuXWs+SkZGBqqqq9xYyagoLNS3169evx6hRo155zsaNG/HTTz+98m8BAQEYNGgQWrVqBcYY0tLSajH9C926dYNEIkFCQsJrj71WcKgZatG0adNaD/I57O3toampCT09PYwZMwYlJSXIyMio9xxNmzZFbm5uvW/3Q0kkEkgkElRVVeHcuXOYNGkSdHV1MWLECJw4cQISiYTriACAESNGYNmyZWjcuDF0dHQwePBgiEQi5OXlcR2NEELI/ykvL8emTZswdOhQDB8+HNra2li8eDEUFRXf2qtJCCGk/pWVlWHdunVwcnKCp6cntLW1oaqqCh0dHa6jyY3KykoAL27A+/v7w8LCAhYWFli1ahWys7ORm5tbJ9fINTeHNTU13/k8bW1tAMDz589rPcPnMjIyAo/He+N18mtLUBQUFACATH85lZSUAICTEQ5NmjRBTk4O+vXrV+/bftmHTHJSU1yorKzEv//+i8OHD0NdXR0AEB0dLR2WIwsUFRUBQGYKIoQQQl6sGlVaWgobGxvpv6mqqsLQ0BDJyckcJiOEEPKytLQ0lJaWom/fvlxHeauqqips2rQJJ0+e5DTHo0eP3vucmmut1NRULFq0CAsXLoSysjJatGiB4uLiWp3rsFGjRgDw3pb4muv09xUmuCAQCKClpfXGCS1fKzgoKLwY9EAXfm9WVVUFPp+Pli1bcpqjpgL3oWomQtHX10d6ejqaN29eF7E+2KlTp/Drr7/i9u3bKCoq4qR4RAgh5N1KSkoAvJjE6r8TWRkZGXERiRBCyBtkZmYCAPT09DhO8nY8Hg9NmjTh/DrqY1Z54PP5qKqqgpaWFoAXN+VrbuDWFjMzMygqKr53FH3NAgFt2rSp1e3XFolEAoHgtfLC6wWHJk2aAHjxi6jtndkQ5Ofno2nTpvjjjz84zVFYWIg///zznc9RUlJCZWUlWrdujfHjx2PcuHGIj4/H6NGjOT1RzMjIwNChQzFs2DDs3LkTTZs2xe+//44FCxZwlokQQsjrak5c161bh7lz53KchhBCyNuoqKgAACoqKjhO8nZ8Ph+jRo3CnDlzOM0xceLEN841UIPP54MxBoFAgEGDBuHbb79F//790aNHD2hoaNT6yh8qKiro0aMHLly4gPT0dLRo0eKNz4uIiAAAuLi41Or2a0NFRQWeP38urSW87LU5HGomo/iQoSZfokePHr0yE6isqWk30dPTw/fff4/Lly8jNTUVvr6+MDc35zjdC4mJiRCLxZgxYwZatmwJFRUVWrKHEEJkkImJCVRUVBAfH891FEIIIe9gY2MDBQUFhIeHcx1FLvH5fPD5fAgEAjg7O2PXrl0QiUQ4dOgQBg0aBEVFRRgZGdXZNXLN5J5+fn5vfLyoqAjr1q2Dvr4+Jk+eLP13gUAgEyPFa/bLm66TXys4mJmZwdDQENHR0XWfTA5FR0ejW7duXMd4Rc3QFS0tLUydOhURERHIzc1FYGCgTCxv+l+mpqYAgNDQUJSXlyM1NRVXr17lOBUhhJD/UlFRwaRJk7Bv3z5s2rQJRUVFkEgkyMzMRHZ2NtfxCCGE/B89PT0MHz4chw4dwo4dO1BUVISEhARs3bqV62gyiTEGHo8HPp8PBQUFdO/eHVu3bkVeXh5Onz4Nd3f31+Zp6NKlC6KiouokT79+/bBixQrs3r0bEydOxM2bN1FeXo6ioiKcO3cOjo6OePr0KQ4dOiRt7wCA1q1bo6CgAMeOHYNYLEZeXh4ePnz42vvr6OggKysLDx48wPPnz2u9SBEVFQVlZWW0a9futcdeKzgAL9b4vHTpUq2GeJerV6/CxsZGuqaopaUlfvnlF2zatAnr1q0DANja2uL+/fvYtm0bvLy8AAD9+/dHampqveV89uwZbt68KVOTLaqpqWHs2LEIDg5Gfn4+NmzYAAcHB5keMSAUCuHt7Y2NGzfCyMgIixYtQu/evQEA3bt3p9E1hBAiQwICAvDjjz9i1apV0NXVhZGREebOnYunT59yHY0QQshLdu7ciUmTJsHb2xvNmjXDzJkz0aNHDwDAoEGD3tlG8KWprq5Gx44d8dtvv+Hx48cICwvD5MmTpStBvImDgwMeP36M9PT0Osnk4+ODqKgoiMViDB48GFpaWmjatCm8vLzg6OiIxMRE6e+zxowZM+Do6IixY8fCwsICy5cvh6qqKoAX1/Q111U//PAD9PX1YWVlBVdXV+kElLXl8uXL6NSpE5SVlV97jMdqZhN8ye7duzFt2jRkZmbK9MQj9W3Lli3w9PREVlbWO7+M9aGsrAynTp3CwIEDpV+qD3HgwAGMHj0ab/i1E9D+IYTIjp9//hlBQUGvrQNOXqD9QwiRNUZGRvDx8eF8jgJZJSv75/z582jRosVHT15ZVVUFExMTzJgxA0uWLKmjdPKnrKwMzZo1w8KFCzFv3rzXHn/jCIeRI0dCRUUFe/bsqfOA8mTHjh0YMWIE58UG4MWyZCNGjPioYgMhhBBCCCGEfMn69u37SStlCAQCjBs3Drt27aIVHV9y+PBhFBcXY8KECW98/I0FBzU1NUyaNAlr1qyRLon1pTt16hRiY2Mxc+ZMrqMQQgghhBBCCKln06dPx6NHjxAUFMR1FJlQVVUFf39/jBw5EgYGBm98zhsLDgCwaNEilJaWYs2aNXUWUF5IJBL4+Phg6NChMjdhJCGEEEIIIYSQumdubo4pU6Zg6dKlKC0t5ToO57Zv34779+9j+fLlb33OWwsOenp6WLhwIVauXInExMQ6CSgv/P39kZaWhhUrVnAdhRBCCCGEEEIIR3x9fVFcXIwFCxZwHYVTDx8+xP/+9z94eHi8s0VF8K438fLywsmTJzF27FjExMR8kfMFREZGYvny5fjtt99gbm7OdRxCiAyprq6GSCTC8+fPUV5ejrKyMgBAcXExxGIxGjVqBIFAAB6PB21tbQgEAujq6kJdXZ3j5IQQQggh5FMYGBhgy5YtGDt2LJydnTF48GCuI9W7qqoqjB8/HsbGxvj555/f+dx3Fhz4fD7++usvdOjQAePHj8fBgwfB5/NrNawsu3fvHoYPHw5XV1d4eHhwHYcQUo/EYjHu3buH+/fv48GDB9KfzMxMiEQi6c+nUFFRga6uLnR1dWFoaAgzMzM0b95c+mNubo4mTZrU8icihJCG7+nTp9Lj9cOHD5Gdnf3KMVskEqG8vFxaGGaMobCwEADQuHFjAICSkhLU1dWhqqoqPVbr6upCT08PBgYG0mN1ixYtoKmpyeXHJYRwZPTo0QgJCYG7uzvCwsLQvn17riPVG8YYvv/+e9y4cQPXrl1776CEdxYcAMDU1BT//vsvnJ2d8cMPP+CPP/4Aj8ertcCyKicnBy4uLjAxMcHff//9RXxmQr5Uz549w7Vr1xAfH4/ExEQkJibizp07qKysBADo6OhITzC7desmPfnU19eHrq4uGjVqBFVVVaioqAAA1NXVoaSkhKKiIuksxoWFhRCLxcjPz3/lxDc7Oxv37t3D+fPn8ejRI4jFYgCAoaEhhEIh2rVrB6FQiE6dOsHKyoqORYQQAkAkEuHmzZtISEhAYmIibt68ibS0NDx79kz6HCMjIxgZGUFPTw+6urowMTGBrq4uVFRUpCPQgBeFhpcLD2KxGMXFxSgrK5Meqx8+fIjr168jJycHOTk50m3o6OigdevWaNeuHWxtbSEUCmFraystXhBCGq5Nmzbh4cOHGDBgACIiItCqVSuuI9WLRYsWYffu3Th27Bisra3f+/z3FhwAwMHBAfv378ewYcNQUVGB7du3Q1FR8bPDyqq0tDT0798ffD4fp0+fhoaGBteRCCG16MGDB7h8+TKioqIQGRmJ27dvo7q6Gk2bNoVQKISzszO8vLxgbW2Nli1bQktL65O287EnnBKJBJmZmbh79670JPrChQv4/fffUVFRgcaNG8Pe3h52dnbo3r07vvrqKygrK39SNkIIkRcSiQSJiYmIjIyUHrcfPnwI4MWcY7a2tujZsyemTJmCFi1aoHnz5jAzM5MWgWtbWVkZ0tPTpSMpkpOTkZiYiMOHD6OgoAAA0KpVKzg4OMDe3h4ODg6wsrKCgsJbp04jhMghJSUlHDlyBH379kXPnj1x6tSpBj3Sobq6Gl5eXli/fj127tyJgQMHftDrPqjgAABubm44efIkRowYgZycHOzfvx/a2tqfHFhWRUdHY8iQITAzM8PJkyehp6fHdSRCyGcqLy/HpUuXcObMGQQHByM5ORnKysro1KkTXFxc4OfnB3t7e+jr63Oak8/nw8zMDGZmZujXr5/036uqqnDz5k1ERUUhKioKW7ZsweLFi6Gurg5HR0cMGDAA/fv3/6Q1pQkhRBbdv38fZ86cwZkzZxAWFobnz59DS0sL9vb2+O6779CtWzcIhUIYGRnVezZVVVVYWVnBysrqtccyMzORkJCAa9euITIyEvPnz8fz58+hra2NPn36oH///ujfvz9MTEzqPTchpPY1atQIoaGhGDZsGHr16oUDBw7AxcWF61i1rrS0FJMmTcLx48exd+9ejB49+oNf+8EFBwBwdnZGWFgYBg0ahA4dOmDv3r2ws7P76MCyiDGGNWvWYNGiRXBxccE///xDE7sRIsdKSkpw4sQJHDhwAGfPnkVpaSmEQiEGDRqETZs2wd7eXm5GBwgEAnTq1AmdOnXCrFmzALyYGfjs2bM4c+YMfHx8MHPmTLRt2xYjRozAqFGjIBQKOU5NCCEfrrq6GlFRUTh8+DBOnz6Nu3fvolGjRnBycsLq1avRvXt3uRglYGxsDGNjY7i6ugJ4MTojISEBEREROHv2LObOnYvS0lLY2NhgwIABGDFiBLp27cpxakLI59DU1MTp06cxZcoUuLq6wtvbG35+ftK2LXmXmJiIMWPGICcnB2fOnEHv3r0/6vUffdTu2LEj4uPjYWVlhZ49e2Lp0qXSmdnl1b179+Di4oJFixbB398f//77LxUbCJFDlZWVOHz4MEaNGgV9fX1MmDABJSUlWLduHR49eoSEhASsXr0ajo6OclNseBszMzNMmzYNR44cgUgkwoULFzBgwADs3r0btra2sLKygq+vL1JTU7mOSgghb8QYw5UrV+Dp6QkzMzP06NED586dw5AhQ3DhwgWIRCIcOXIE33//PWxsbGS+2PAmfD4fHTp0wKxZs3Dy5EmIRCKcO3cOzs7OOHr0KLp164aWLVvC29sbcXFxXMclhHwiJSUlBAUFYcuWLQgMDESPHj2QkJDAdazPIhaLsXbtWnTr1g06OjqIj4//6GID8AkFB+BFv9zJkyexdu1aBAQEQCgU4tSpU5/yVpwqKyuDr68vbGxskJ2djcuXL2P+/Pk0KRshciYlJQXz58+HsbExRo8ejYKCAqxbtw7Z2dk4e/Yspk2bBmNjY65j1hlFRUU4Ojrit99+w8OHDxEREYF+/fph27ZtsLCwQJ8+fbBv3z5UVFRwHZUQQpCTk4MVK1agTZs2sLOzw+nTpzFp0iQkJibi9u3bWLVqFRwdHRvkfGEqKiro168f1q5di9TUVMTGxmLUqFE4ePCgdHLg3377Dfn5+VxHJYR8gqlTp+LatWtgjKFTp07w8vJCUVER17E+Wnh4ODp27IjFixfDx8cHFy9e/ORWsE8uFfN4PMyePRspKSmwt7fHoEGD4ODggBMnTnzqW9abiooKbN26Fa1bt8aaNWvg7e2N2NhYdOvWjetohJAPJJFIcODAAfTu3RuWlpY4ePAgZs2ahYcPHyI0NBTTpk37IpeW5PF4cHBwQGBgIDIyMnDy5EloaWnB3d0dzZo1g5eXFx48eMB1TELIF6a6uhrBwcEYNmwYTE1NsWbNGri5uSE+Ph7Jycnw8/ODjY0N1zHrXceOHbFy5Urcv38fV69eRa9evfDTTz/B2NgYY8eOxYULF8AY4zomIeQjWFtbIzo6Gjt27MCePXvQokUL+Pr6SlfCkWXR0dEYNGgQevfuDQMDA9y4cQNLly79rPaQzx6bZmRkhKCgIERFRUFTUxODBw+GnZ0dgoKCUF5e/rlvX6syMjKwdOlSmJmZwdPTE+PGjcP9+/fh6+sLJSUlruMRQj5AcXExAgMD0aZNG4wdOxY6Ojo4ffo07t+/jyVLlqBZs2ZcR5QZfD4frq6uOHr0KDIyMuDp6YnDhw+jdevWGD16NGJiYriOSAhp4CoqKhAUFAShUAhXV1dkZGRgw4YNePToEQICAtCuXTuuI8qMrl27YvPmzcjNzcWePXuQn58PJycntG/fHlu3bpW582pCyNvxeDy4u7vj7t27mDVrFgIDA9GqVSssWLBA5tpdxWIxDh48iD59+sDe3h6FhYUIDQ1FaGgo2rZt+9nvX2vNcF999RWCg4MRHR0NU1NTTJ06FU2bNsWsWbMQHh4uXYu+vj179gx///03Bg0ahJYtW2Lbtm347rvvcP/+ffz666+cz0pPCPkwIpEIixYtgomJCRYtWoSBAwfi7t27OHLkCPr37y+Xvb31ycjICAsXLkRaWhr27NmDe/fuoWvXrujVqxfOnTvHdTzyFowxubgjQsh/5efnw9fXFyYmJpg2bRrs7Oxw+/ZtXL9+HdOmTYOamhrXEWWWiooKRo4ciZCQEMTGxkIoFMLDwwOtWrXCqlWr8OzZM64jkneorq5GdXU11zGIjNDW1oavry/S09Ph6emJ/fv3w8LCAk5OTtixYwdn7VOMMVy9ehXz58+Hqakpxo4dCw0NDYSGhuLy5cvo27dvrW6sTuTk5LBffvmFWVtbMwBMX1+fTZkyhe3Zs4dlZGTU1WZZVVUVu379Olu3bh0bMGAAU1JSYkpKSmzAgAHs4MGDrLKyss62LQ/279/P6vDXLvdq9s/ixYtZSUkJ13EIY+zp06ds6dKlTFNTkzVp0oT5+/szkUjEdawG4cKFC6x///4MAOvevTu7ePEi15G+aGKxmN24cYNt3bqVTZ06lRkYGDBlZWX27NkzrqPJpOXLlzM9PT0WGhrKdRTykqKiIrZy5UqmpaXFtLS02OzZs1lmZibXseRednY2W7ZsGWvcuDFr1KgR8/b2ZoWFhVzHIoyx+/fvs3379jFPT0+mpKTEHBwcuI4kswwNDVlAQADXMThVVVXFTpw4wYYMGcJUVFQYn89nffr0YatWrWJRUVF1eq2anZ3N9u/fz2bMmMGMjY0ZANa6dWu2dOnSOr0+5zFW941hKSkpOHLkCE6dOoWYmBhUVlbCzMwMnTp1grW1NWxsbGBubg4jIyMYGBh80HtWVlYiJycHGRkZSEpKwq1bt3Dr1i1cv34dRUVFaNKkCXr16oWvv/4agwYNgra2dh1/Svlw4MABjB49mvoB36Jm/2hpaUFbWxsBAQEYMmQI17G+SKWlpQgICMCaNWsAAF5eXpgzZw40NDQ4TtbwREVFYenSpTh//jz69u2LX375hZZpq2OMMdy9excxMTGIiYnBlStXcPPmTVRUVIDP50MikUBFRQWGhoZIT0/nOq5MWr58OVavXo3i4mKMGTMGa9euRdOmTbmO9cUqLi7Gxo0bsWrVKvB4PMyaNQuenp7Q1NTkOlqDUrOfV65cCT6fj/nz52PWrFk0YqSe5Ofn49q1a4iJiUF0dDSuXr36yig0RUVF/PLLL5g3bx6HKWWXkZERfHx8MGfOHK6jyITi4mIEBwfj6NGjuHjxInJycqCuro5OnTrBxsYGQqEQlpaWMDU1hZGREVRUVD7offPy8pCTk4O7d+/i9u3buHXrFuLj45GamgqBQICOHTtiwIABGDZsGGxtbev4UwL1UnB4WVlZGa5cuYKIiAgkJCTg1q1bSEtLQ1VVFYAXS4ro6+ujUaNGUFNTg7KyMtTU1FBYWCgdWvr8+XM8efJE+p6NGjWClZUVhEIhOnTogF69esHKyopWm3iDmgtqR0dHrqPIpCdPnuD27dvIzs7GggUL8Ndff8HR0REbNmyApaUl1/G+CIwx7N+/HwsWLEBhYSF+/PFHeHp6QktLi+toDV54eDgWL16MyMhITJgwAStWrKALuFqSlZWF2NhYxMbG4urVq4iOjsazZ8/A4/GgpKT02goifD4f3377Lfbt24evvvqKo9Sy7eHDh+Dz+di8eTNmzpyJzMxMzJs3DwsXLqR5mepRdXU1/vrrLyxYsAClpaWYMWMGfHx86EZPHSsoKMD69euxbt06aGhoYNmyZZgyZQq1F9YisViMhIQERERE4Pr164iOjsb9+/fBGIOSkhKqqqqkrRN8Ph86OjoAXgyhb8grY32OyMhIrF69mgoOb5GSkoLLly/j+vXruHXrFm7fvv1KQUtXVxdaWlpo3DZVBm4AACAASURBVLgxgBfftfLycpSXl6OsrAzFxcXIzc2VnlMoKCigZcuWEAqFEAqFsLe3h4ODQ73fvKv3gsObVFRUID09Hbm5ucjMzERubi6Ki4tRWloq3YFaWlpQUFCAtrY2NDQ0YGxsDAMDA5iYmKBZs2ZUXPhAsbGx2LZtG9cxZN6WLVsAAJcvX4aHhweSkpLwww8/wN/fn+6w16G4uDjMnTsXERER+Oabb7B69WoYGhpyHeuLc+LECcydOxc5OTmYP38+vL29oaqqynUsuVRVVYUuXbogPj4ePB4PioqKqKysfO/rtm7dCmNjYxw/frweUsovAwMD/PTTTygrK8OqVauwatUqmJmZYcOGDXBycuI6XoN38eJFzJ07F0lJSfDw8MCSJUukJ8KkfuTm5mLp0qXYsWMHOnfujICAACpSfqa4uDhMnDgRd+7cgUQigaKiIqqrq986H11N4TgqKgr79++nOTbeg258fpysrCxkZmYiJycHmZmZeP78ufRG/NOnT6GiogJVVVWoqqpCXV0dBgYGaNasGYyMjGBmZiYbo5/qrFmDkAZCLBazgIAApqWlxYyNjdnu3bu5jtTglJSUMG9vb8bn81nXrl1ZdHQ015G+eBUVFSwgIIBpamqyli1bspCQEK4jya09e/YwAB/0w+fz2ezZs7mOLLfS0tKYq6sr4/F4bMKECSwnJ4frSA1SZmYmGzZsGAPABg4cyJKTk7mO9MWLj49nvXv3ln73nzx5wnUkuSWRSFj79u2ZgoLCBx23eTwe279/P9exCZFZVHAg5ANlZ2ezCRMmMB6Px/r27cuSkpK4jtQgnDx5kpmamrImTZqwoKAgVl1dzXUk8pLMzEz29ddfMx6Px7777jtWUFDAdSS5U11dzbp3784EAsE7T1oVFRVZnz59mFgs5jqy3Pv333+ZmZkZ09bWZgEBAayqqorrSA1CdXU127x5M9PS0mJt2rRhZ86c4ToS+Y9Dhw4xExMT6d9U8mmuX7/+QQUHBQUFtnTpUq7jEiLTqOBAyEcKDw9nQqGQKSoqstmzZ7Pnz59zHUkuiUQiNnbsWAaAjRs3ju7GyLiDBw8yQ0NDZmhoyI4cOcJ1HLlz69Ytxufz33rSKhAIWMuWLdnTp0+5jtpglJSUsGXLljFlZWXWvn17FhUVxXUkuZaWlsb69OnDBAIBmz17NisuLuY6EnmLl0cN9u7dm929e5frSHJp+vTpTFFR8Z3H7cGDBzOJRMJ1VEJkGs0sQ8hH6tmzJ+Li4vDrr7/izz//hKWlJYKCgriOJVfOnz8PW1tbXL58GadOncLff/8NPT09rmORdxgxYgTu3LkDV1dXDBs2DFOnTkVJSQnXseSGkZER7O3tIRAIXntMQUEBampqOHPmDE20V4vU1NTg6+uLxMRE6Ovrw8HBAe7u7sjLy+M6mlxhjGHr1q2wtbVFfn4+oqKiEBgYCHV1da6jkbdQU1PDypUrcenSJeTl5aF9+/YIDAzkOpbc8fT0hKqq6hvniVNUVIS5uTn27t1LE3US8h70P4SQTyAQCDBnzhwkJyfD0dEREydORL9+/ZCcnMx1NJkmFovh6+sLZ2dndOvWDfHx8XB1deU6FvlAjRs3xo4dO3DkyBEcO3YMQqEQUVFRXMeSadXV1di+fTssLCyQmpoqnQD5v44cOYI2bdpwkLDha9OmDc6ePYvjx48jLCwMFhYWCAwMlM4uT94uNzcXAwcOxMyZMzF//nzExsaiS5cuXMciH8je3h6xsbGYMWMGPD09MWrUKDx9+pTrWDJPIpFgw4YN6Nat2xsnrubz+VBTU8OJEyeo8EbIh+B6iAUhDUF4eDizsbFhSkpKNNT0Le7du8c6dOjAGjVqxHbu3Ml1HPKZHj9+zJycnJiioiJbs2YNzb3xBnFxcczOzu7/sXefcVGdeRvHr6HbQFCJigVRY0GI2IIiCHaxl1iwxmgS11XUmJhVo2zW2GJDjcaaSDRGDBYsoCIqUlQ0CogNbLEkKhhAUSnD/bzYB1ajwgAzcw8z1/fz2Rd7mPI7RoeZ/9znnIIl6GlpaWLr1q1CoVC8crKx7777TnaqwXj69KmYO3euMDMzEy1bthSnT5+WnaSz9u3bJ2xtbYWDgwMPR9EDYWFhws7OTtSuXVscO3ZMdo7OOnv2rGjTpk3BYbMZGRnCzc3tlXPwGBsbi+PHj8tOJSozOHAgUpP8q1lYWlqKWrVqicDAQNlJOuPgwYPC2tpauLi4iOTkZNk5pCZ5eXli0aJFwsTERHzwwQc8n8n/++uvv8TkyZOFsbGxcHd3F3FxcQU/e/kEksbGxmLChAkSSw1XXFyccHNzE0ZGRmLkyJEiJSVFdpLOyM3NFTNnzhQKhUKMHj1aZGRkyE4iNUlJSRH9+/cXxsbGYtGiRRwUv+Tx48di8uTJwsjISHTo0EFcvHix4GcXLlx45QSSmzZtklhKVPZw4ECkZvfv3y+4mkWvXr3E9evXZSdJk5eXJxYuXCiMjIzE8OHDRWZmpuwk0oATJ06I6tWri0aNGr3yJs3Q5OXliS1btghbW1tRvXp1sWXLlje+ob948aIwMTERHTp04BUpJFL1v5chSUlJEd26dRPm5uZi/fr1snNIQ9atWydMTU1F7969RVpamuwcqfJfB6pVqyZq1Kjx1teByZMnCwDC19dXQiVR2caBA5GGHD9+XDRr1kyUK1dOzJ07Vzx//lx2klZlZmaK/v37CzMzM7F69WrZOaRhv//+u2jTpo2wtLQUISEhsnO07vz586Jdu3avHD5RmJUrV4rU1FQt1VFh/r4iJT4+XnaSFL/99puwt7cXderUEWfOnJGdQxp27NgxYWtrKxo3biyuXLkiO0eK8+fPv3LYW3p6+ltvm56eLsaMGcNL7BKVAE8aSaQhHTp0wPnz57FgwQIsX74cjo6O2L9/v+wsrXjw4AG8vLxw8uRJHD16FBMnTpSdRBpWu3ZtREREoG/fvujduzfWr18vO0kr0tLS4Ovri1atWsHY2Bjnzp2Dv78/rKysCr3fpEmTYGNjo6VKKkzlypXh7++P2NhY5OTkoEWLFvD19UVGRobsNK3Zv38/PDw84ODggLNnz/LEkAbA09MT586dg5WVFdq2bYvjx4/LTtKal1+3TUxM8Ntvv8Hf3x+WlpZvvY+lpSV++OEHGBsba7GUSD9w4ECkQS9fzcLNzQ19+vRB7969cfPmTdlpGpOUlAR3d3ekpqYiMjIS7du3l51EWmJubo4tW7Zg3rx5+PTTT+Hr66u3VwIQQiAgIACNGjXCtm3bsHTpUhw/fhzOzs6y06iEXFxcEB0djU2bNuHnn39G48aNDeKSxxs2bED//v3xwQcfIDQ0lJcoNiC1atXCiRMn0L17d3Tr1g0//fST7CSNyn/dbty4MbZu3Vrwuu3k5CQ7jUi/yV5iQWRIjh8/LhwdHfX2MIvIyEhRuXJl4ebmxpOwGbgtW7YIMzMz4ePjI7Kzs2XnqFX+4RM84aD+Sk1NLTiBnKenp0hMTJSdpHZKpVJMnTpVKBQK8c0338jOIYmUSqX44osvhEKhEP/+979l52jElStXROfOnfm6TSQBVzgQadHLh1ksW7YMzZo1w4EDB2RnqUV4eDi6desGT09PhIWFoUqVKrKTSKJRo0bh4MGDCA4OxqBBg5CVlSU7qdReXoabk5ODU6dOISAggH/X9ZCNjQ38/f1x+vRpZGZmonnz5vD19cXTp09lp6mFUqnEmDFjsGbNGvz888+YOXOm7CSSyMjICIsWLcLatWvxn//8B5MmTYIQQnaWWmRmZsLPzw/Ozs54/PgxoqOj+bpNpG2yJx5EhurevXti5MiRAoDo1auXuHHjhuykEjt48KAoV66cGDp0qN59m02lc+bMGWFjYyM8PT3L7OX18s9i/s4774gqVaqIFStWCKVSKTuLtESpVIp169YJKysrYWdnJ7Zs2SI7qVSysrLEoEGDRPny5cWhQ4dk55COCQ4OFhYWFmL48OFl/io6wcHBok6dOsLa2lqsWLGCJ3wkkoQrHIgkqVmzJgICAnDs2DHcvHkTjo6O8PPzw4sXL2SnFcuuXbvQr18/+Pj4YOvWrTA1NZWdRDqkdevWOHLkCC5evAhvb+8y9w1xXFwc3N3d8eGHH6Jr1664evUqfH19YWTEX5+GwsjICB9//DGuXLmCjh07YsyYMejcuTOuXr0qO63YsrKyMGTIEISGhmLfvn3o2rWr7CTSMb1798auXbuwa9cuDB8+HDk5ObKTii0pKQndu3dH37590aFDh4LXbZ7wkUgOvmMikszT0/O1wywOHjwoO0slBw4cwLBhwzB+/Hhs2LCBv8zpjVq0aIHjx48jKSkJffr0wfPnz2UnFSn/8ImWLVsiKysLMTExXIZr4KpXr46AgAAcP34cDx48gIuLS5kaEmdlZaFPnz6IiIjA0aNH0bFjR9lJpKN69OiBAwcO4ODBgxgyZAhyc3NlJ6nk+fPn8PPzg5OTEx48eIDIyEgEBATwRKhEknHgQKQDTE1NC65m0a5dO/Ts2RO9e/fGrVu3ZKe9VXh4OAYNGoRhw4Zh5cqVUCgUspNIhzk6OuLIkSOIj49H3759dfacDuINZzE/ffo02rRpIzuNdISHh0eZGxLn5ORg8ODBOHPmDMLCwvj3mYrk5eWFkJAQHD58GGPGjNH5Kw7t27cPTZs2xYoVK7Bo0SKcPXsW7dq1k51FRODAgUin5B9mER4ejhs3bqBp06Y6+Q1aTEwM+vbti169emHTpk1cXk4qcXJyQlhYGGJjYzF06FCd+9aMh0+Qql6+5PHLQ+Lbt2/LTnuNUqnE6NGjERYWhuDgYLi4uMhOojKiffv22Lt3L4KCgjBu3DidPJHkjRs30KtXL/Tp0wfNmjXDxYsXefgEkY7huygiHeTl5YULFy4UfIPm5OSkM9+gXbp0Cd7e3ujcuTO2b9/OX+pULM2bN0dwcDAOHz6MiRMnys4BAKSnpxdcfeLlwyeqVq0qO4103MtD4uvXrxcMiXVlBY8QAh9//DH27NmD/fv3w93dXXYSlTGdOnXCjh07sHXrVnz++eeycwpkZ2dj0aJFcHR0RFJSEg4fPox9+/ahVq1astOI6O8kn7SSiIpw9+7dV65mcfPmTWktjx49Eg0aNBBt2rQRmZmZ0jqo7Nu/f78wNjYWCxculNbw8tUnbGxsePUJKpXs7GyxYsUKUbFiRdGwYUOduALE3LlzhYmJiThw4IDsFCrjfv75Z2FkZCRWrFghO0UcPXpUNG7cWJQvX17MnTtXZGVlyU4iokJwhQORjrOzs3vlMIv8q1lo+xu058+fo3fv3sjLy8O+fftQvnx5rT4/6ZeePXti6dKl+Ne//oVt27Zp/fnj4+Ph4eHBwydIbfLPxXP58mW4urqiW7du6N27N+7cuSOlZ/v27fj666+xcuVKeHt7S2kg/TFs2DDMnz8f06ZNw+7du6U03Lt3D6NGjUKnTp3QoEEDXL58GX5+fjAzM5PSQ0Sq4TsrojIi/zCL+fPnY+nSpWjWrBlCQkKKvJ9SqcSTJ09K9dx5eXnw8fFBUlISQkNDYWtrW6rHIwIAX19fTJo0CePGjUNMTIxWnjMzMxNffvklWrZsiefPnyM6OpqHT5Ba1apVCwEBAQgODkZiYiKaNGkCPz8/ZGdna63hxIkT+PDDDzFjxgxMmDBBa89L+m3GjBn49NNPMXz4cJw6dUprz5uTkwN/f380adIEMTExCAkJwb59+1CnTh2tNRBRKcheYkFExff3wyxu3br11tuuXr1a9OjRQ+Tm5pb4+b7++mthamoqIiIiSvwYRG+Sm5srevbsKWrWrCn++OMPjT5XcHCwqFWrFg+fIK159uyZmDt3rrCwsBDOzs7i5MmThd4+MTFRBAUFleo5k5KSROXKlcWQIUNEXl5eqR6L6O9ycnJE9+7dRfXq1cXdu3c1/nzHjx8Xjo6Ooly5cmLu3LnixYsXGn9OIlIvDhyIyrCjR4+KJk2aFBzH+PdfxA8ePBAVK1YUAMS0adNK9ByHDx8WxsbGYvXq1epIJnpNRkaGaNy4sWjXrp1GjsW9cuWK6Ny5szAyMhIjR44Ujx49UvtzEBUmKSlJ9OjRQygUCjFy5Ejx4MGD126Tl5cn3N3dhYWFhTh//nyJnufp06fCyclJtGzZUjx//ry02URvlJ6eLho1aiTatm2rsfMn3L9/X4wcOVIoFArRq1cvcePGDY08DxFpHg+pICrDOnbsiLi4uILDLJycnBAaGlrw888//7zgXA/Lli3Dhg0bivX4t2/fho+PD4YOHaozVxQg/VOpUiUEBgYiLi4OM2bMUNvjZmZmws/PD87Ozvjrr794+ARJ06BBAxw8eBB79+5FREQEGjVqBH9/fyiVyoLbbN++HZGRkcjOzoa3tzcePHhQ7Of5xz/+gXv37mHnzp2wsLBQ5y4QFbC0tMTevXuRmJiIqVOnqvWxc3Nz4e/vj8aNGyMqKgrBwcHYt28f6tWrp9bnISItkj3xICL1+PthFkFBQUKhUAgABf8zNjYWx48fV+nxsrKyRIsWLYSLi4t49uyZhuuJ/nsWdIVCIQIDA0v9WMHBwaJ27doFh0+U5pAiInXKzMwUc+fOFebm5sLFxUXExMSIjIwMUa1aNWFkZCQACFNTU9G6detiLR9ftmyZMDIyEiEhIRqsJ/qf3bt3C4VCITZv3qyWxzt58qRwdnYWpqamYvLkyeLp06dqeVwikosDByI9c/DgQdGgQQNhbW0tTExMXhs4WFlZieTk5CIfZ/r06aJSpUoq3ZZIXT799FNhbW0tfv/99xLd/8qVK6JLly4Fh088fPhQzYVE6pGYmCg8PT2FkZGR8PT0fO312sTERIwYMUKlxzpz5owwNTUV8+fP13A10aumT58uypcvLy5fvlzix0hNTRWTJ08WRkZGomPHjuLSpUtqLCQi2RRCCCFpcQURaciyZcvw+eefIy8v77WfmZqawt7eHmfPnoWlpeUb7x8REQEvLy9s2rQJY8aM0XQuUYEXL16gdevWsLa2xrFjx2BsbKzS/TIzM/Htt99iwYIFaNasGb777ju4urpquJaodIQQWLx4MWbNmvXK4RX5FAoFlixZgmnTpr31MTIzM9GyZUvUrl0bhw4d4qVdSatyc3Ph7u6OrKwsnDp1qliXqMzLy8PWrVvx2WefwczMDAsWLMCoUaM0WEtEMvC3EpGeefDgAebOnfvGYQPw38tL3bp1Cx988MEb3+CmpaVh5MiR6NevH4cNpHUWFhYICAjA6dOnsWTJEpXus2/fPjRp0gQrV67E4sWLcebMGQ4bqMzYt28fFArFG38mhMD06dOxf//+t95/ypQpePjwITZv3sxhA2mdiYkJtm7diuTkZHz11Vcq3++3335Du3btMG7cOPj4+ODKlSscNhDpKf5mItIzL58o8m1ycnIQFhb2xjcH//jHP5CXl1fsE0wSqYuLiwvmzZuHOXPmICEh4a23u3r1Krp27Yq+ffvC09MTV69eha+vr8qrIohk+/HHHxEdHY3c3Ny33kahUGDIkCFITEx87Wd79uzBxo0bsXHjRtSuXVuTqURvVb9+faxYsQJLlixBeHh4obf966+/4OvrizZt2sDCwgLnz5+Hv78/KlWqpKVaItI2HlJBpEciIyPh4eEBVf9ZKxQKBAQEYMSIEQCAkJAQeHt7Y+/evejTp48mU4kKlZeXBw8PD+Tk5CA6OvqVIQIPnyB98Ndff6F+/fpIS0sr8jXbxMQEtWrVwrlz52BjYwMASE1NhaOjI3r27IlNmzZpI5moUAMHDsRvv/2GixcvokKFCq/8TAiBn376CZ9//jmMjIywaNEijBw58q2re4hIf3CFA5Eeyc3NxeTJk9GmTRuYm5sD+O8bVVNT0zfeXgiBsWPH4tSpU3jy5Ak++eQT+Pj4cNhA0hkZGWHjxo2Ii4vD6tWrC7bz8AnSFxs3bkR6ejqEEDA1NS10ZU5ubi7u3buHQYMGFayGmDZtGoyMjFQ+9IhI09asWYOMjAzMnj37le1xcXFo3749PvroIwwdOhRXr17FqFGjOGwgMhBc4UCkp3Jzc3Hx4kXExsYiNjYW0dHRuHLlCpRKJczMzCCEQE5ODhQKBWxsbNCrVy/s378fly5dgq2trex8IgDA3LlzsWTJEgQHB2Px4sU4cuQIRowYgaVLl6JatWqy84hKJTMzE+fPn8e5c+dw9uxZxMTE4MaNGxBCwMzMDLm5ua+cj8fY2BgTJkxA//790blzZwQFBaF///4S94DoVZs3b8b48eNx8uRJODo6Ys6cOfjuu+/g4uKCNWvWoHXr1rITiUjLOHAgMiDPnz/H+fPnERsbizNnziA6Ohq3b98uWM67YcMGjBs3TnIl0f9kZWXBxcUF9+7dw7vvvovvvvsObdq0kZ1FpDEPHz4seI2OiYnBmTNnkJ6eXnBCyLy8PFStWhWenp7YuXOn5FqiVwkh0KVLF9y5cwcZGRlQKpVYvHgxRo8ezRUNRAaKAwciA5eWlgYPDw+kp6fjm2++KTifA5GuCA8PR6dOnRASEoLu3bvLziHSuuTkZJw5cwaxsbHYsWMH/vzzT65uIJ11/fp1ODk5wcPDA9u3b4e1tbXsJCKSiAMHIgO3fft2jBgxAqdOneJSR9JZ/fr1w7Vr1xAXF/fWc5IQ6bubN2+iadOmmDdvHgYOHAh7e3vZSURv9NVXX8Hf3x/Xrl1D9erVZecQkUQcOBAZsOfPn6NJkybo1KkTz3JOOu3GjRto2rQpli5diokTJ8rOIZLigw8+wIULF5CYmAgzMzPZOURv9ezZMzRp0gTdu3fHunXrZOcQkUS8SgWRAVu+fDkeP36Mb775RnYKUaEcHBwwadIkzJ07FxkZGbJziLQuKioKQUFB8Pf357CBdF758uXxzTffYOPGjTh37pzsHCKSiCsciAxUenp6wYc4Pz8/2TlERUpLS4ODgwOmTJmCOXPmyM4h0hohBFxdXWFtbY3Q0FDZOUQqEUKgXbt2qFSpEg4fPiw7h4gk4QoHIgO1dOlS5OXlwdfXV3YKkUoqV66MKVOmYNmyZXj8+LHsHCKt2bdvH2JjY/Gf//xHdgqRyhQKRcHljE+cOCE7h4gk4QoHIgOUmpoKBwcHzJgxAzNnzpSdQ6Syp0+fwsHBAR9//DHmzZsnO4dI44QQaNGiBRwcHBAUFCQ7h6jYOnbsiJycHJw8eVJ2ChFJwBUORAZo6dKlMDc3x+TJk2WnEBVLxYoV8dlnn2HlypVITU2VnUOkcb/++ivi4+N5GBGVWfPmzUNkZCSOHj0qO4WIJOAKByID8/TpU9SpUwfTp0/n6gYqk/L/Dk+bNg2zZ8+WnUOkMUIIODk5wcnJCdu3b5edQ1Ri3bt3x9OnTxEZGSk7hYi0jCsciAzMxo0bkZWVhU8++UR2ClGJVKxYEZ9++ilWrVqFFy9eyM4h0piDBw8iMTERX375pewUolKZNWsWoqKiEB0dLTuFiLSMKxyIDIhSqcS7776Lnj17YuXKlbJziErswYMHsLe3x6pVqzBu3DjZOUQa0bFjR5ibmyMkJER2ClGptW3bFjVr1uS5SIgMDFc4EBmQXbt24fbt27wyBZV577zzDoYNG4bly5eDc3PSR/Hx8Th+/Dg+++wz2SlEajF16lTs2bMHycnJslOISIu4woHIgHh6esLGxga7du2SnUJUagkJCXB2dsbRo0fRsWNH2TlEajVy5EjEx8fjwoULUCgUsnOISk2pVKJhw4bw9vbG6tWrZecQkZZwhQORgbh69SoiIiJ47gbSG05OTnB1dcXGjRtlpxCpVUpKCnbu3IkpU6Zw2EB6w9jYGJMmTUJAQACePn0qO4eItIQDByIDsWHDBtSqVQudO3eWnUKkNuPHj0dQUBAePXokO4VIbbZs2QILCwsMHjxYdgqRWo0aNQo5OTkIDAyUnUJEWsKBA5EByM7Oxk8//YTx48fD2NhYdg6R2gwZMgQWFhbYtm2b7BQitdm8eTOGDx+OChUqyE4hUqsqVaqgX79+2LBhg+wUItISDhyIDMC+ffuQmpqKsWPHyk4hUqsKFSpg2LBh2Lx5s+wUIrWIiIjApUuXePUV0lvjx4/HqVOnEBcXJzuFiLSAAwciA7B9+3Z4eXnBzs5OdgqR2g0fPhwJCQlITEyUnUJUaj/88ANatWoFFxcX2SlEGuHl5YUGDRpgy5YtslOISAs4cCDSc5mZmQgNDeWxwKS33NzcYGdnx2OCqczLysrC7t27MWLECNkpRBqjUCgwbNgw7Ny5E3l5ebJziEjDOHAg0nPBwcHIyspCv379ZKcQaYSRkRE++OAD7NixQ3YKUamEhobiyZMnGDRokOwUIo0aPHgw7t69i+joaNkpRKRhHDgQ6bmdO3eiY8eOqFatmuwUIo0ZPHgwrl69ymOCqUwLDAwsWLFDpM+aNWsGR0dHrkwjMgAcOBDpsRcvXuDQoUMYOHCg7BQijXJ1dUWtWrWwd+9e2SlEJfLixQvs37+fh7+Rwfjggw+wc+dOKJVK2SlEpEEcOBDpsRMnTuDZs2fo3r277BQijVIoFOjevTtCQ0NlpxCVSHh4OJ48eYIBAwbITiHSikGDBuHPP/9EbGys7BQi0iAOHIj0WGhoKJycnFCnTh3ZKUQa1717d5w5cwapqamyU4iKLSQkBM2bN0fNmjVlpxBphaOjI+rWrctBMZGe48CBSI+FhISgR48esjOItKJLly4wMjJCWFiY7BSiYgsNDeVqNDI43bp148CBSM9x4ECkp27duoWrV6/yDSwZDEtLS7Rr145vXqnMSUpKQnJyMgfEZHB69OiB2NhYPHz4UHYKEWmIiewAItKMiIgImJubo23btrJTiLTGy8sLAQEBsjPU4vnz58jMzJSdodOMjY1hbW0tO6PUDh06av8yQgAAIABJREFUBCsrK7i6uspOIdKqTp06wcTEBGFhYfDx8ZGdQ0QawIEDkZ6Kjo5Gq1atYGFhITuFSGvc3Nzg5+eHP/74AzVq1JCdUypLly7FV199JTtDpzVs2BDXrl2TnVFqJ06cgIeHB0xNTWWnEGlVpUqV0Lp1a0RERHDgQKSnOHAg0lNRUVHw9vaWnUGkVa6urjAxMUF0dLReXA62Vq1a2LJli+wMnbR161ZERkbKzlCLmJgYTJo0SXYGkRRubm44ePCg7Awi0hAOHIj0UFpaGi5duoR58+bJTiHSqooVK8LJyQlRUVF6MXAoV64cOnbsKDtDJ0VHR+vFwOHWrVu4d+8e2rVrJzuFSAo3Nzd8++23ePz4MWxsbGTnEJGa8aSRRHooNjYWeXl5PH8DGaR27dohJiZGdgaRSqKiomBqaoqWLVvKTiGSIn/YdurUKcklRKQJHDgQ6aHz58/Dzs4Otra2slOItK558+ZISEhAXl6e7BSiIp06dQotWrRA+fLlZacQSVG1alU0atQI0dHRslOISAM4cCDSQwkJCXB2dpadQSSFs7MzMjMzcePGDdkpREW6cOECVzeQwXNxcUFcXJzsDCLSAA4ciPRQfHw8Bw5ksBwdHWFkZISEhATZKUSFEkLg4sWLcHJykp1CJJWTkxPi4+NlZxCRBnDgQKRncnJycOXKFb6BJYNVoUIFODg48M0r6bxbt24hLS2NA2IyeM7Ozvj999+RlpYmO4WI1IwDByI9k5ycjOzsbDRt2lR2CpE0jo6OuHz5suwMokLFx8dDoVCgWbNmslOIpMr/koQr04j0DwcORHrm5s2bAAAHBwfJJUTyODg4FPxbINJVly5dQp06dWBpaSk7hUiq2rVrw8rKComJibJTiEjNOHAg0jO3bt2CjY0NrKysZKcQSWNvb8+BA+m8GzduoEGDBrIziKRTKBQcFBPpKQ4ciPTMrVu3YG9vLzuDSKp69erh0aNHePr0qewUorfi6zXR/9SrV48DByI9xIEDkZ65efMm6tWrJzuDSKr8fwO3bt2SXEL0dhw4EP0PBw5E+okDByI9c+/ePdSuXVt2BpFUderUAQDcuXNHcgnRm+Xl5eHOnTscOBD9P3t7ew6JifQQBw5EeubRo0eoVq2a7AwiqSwtLWFubo7U1FTZKURv9OeffyIrKwt169aVnUKkE+zt7ZGSkoLMzEzZKUSkRhw4EOmZ1NRUVKlSRXYGgoKC4ODgAIVCUfA/U1NT2NnZYfjw4YVesjAsLAz/+te/ir39+vXrUCgUmD59epF9Rd02ODgYixYtglKpLPKxVKGJxqLu07p1axgbG6N58+Yq3+dt+13c7bqgSpUqSElJkZ1B9EaPHj0CANja2kouIdIN+V+W8HWbSL9w4ECkR5RKJdLT01G1alXZKRg4cCBu3LiB+vXrw8rKCkIIpKWl4fvvv0dkZCTatGmDq1evvna/uXPnYuXKlZg5c2axt9vb28PU1BQNGzYssq+o2/bp0wcWFhbo1KkT0tLSirHnr9NUY1H3iY2NhZeXV7Hu87b9Lu52XVClShWucCCdlf93Uxder4l0Qf6/Bb5uE+kXDhyI9Ehqairy8vJ0YoXDm1SoUAG9e/eGv78/nj59ilWrVr3y84ULF+KXX35BYGAgKlWqVOztxsbGqFu3rkof0FW5ra+vL9577z14e3sjNze3BHus+UZV7qNQKIp1n7ftd3G3y1a1alW+cS0FVVfIUMmkpKTAyMgIlStXlp1S5lekFXUfda72KilV93vcuHGoVKkSFAoFLly48FrXm+jLyrT89y5c4UCkXzhwINIjGRkZAAArKyvJJYVr06YNAODixYsF25KTk/HVV1/h3//+NywsLEq8vWHDhipf116V2/r5+eHChQtYsWKFSo/5Mm01FnUfU1PTYt/nbftd3O0yVa5cGenp6bIzAABnz56FEEJ2RrGoukKGSiY1NRU2NjYwNjaWnVLmV6QVdR91rvYqieLs98aNG7Fhw4a3dr2JvqxMs7KygqmpKQfFRHqGAwciPZKVlQUAMDc3l1xSuPxvwV/uXLlyJYQQ6NOnzyu3Le72gwcPFlyh4OTJk2jatCmsrKxgYWEBJycnHDp06I23fRtra2t06NABK1asKPYHRlUalUol5syZgzp16qBcuXJwdnbGjh07itX4d3+/T3JyMho3bowKFSqgXLlycHd3R2RkZKH3edt+F3e7TGZmZgX/JmTz9PSEvb095s6di2vXrsnOKZaiVsgYuqysLDg5OWH+/PnFuqRfWloarK2tNVhWOmVtRZoq91HXaq/iKM1+F7Yvf6cPK9MUCgWsra3x+PFj2SlEpEYcOBDpkezsbAD//aClyyIiIgAA7733XsG2AwcOoFGjRihfvvwrty3u9pc9ePAAQ4YMwa1bt3D//n1UrFgRw4cPL3avi4sL7t27h7i4uGLdT5XGL7/8EosXL8by5cvxxx9/oHfv3vDx8cHZs2eL3fk21tbWCA0NRXp6Os6ePYucnBx06dIFSUlJhd7vbftd3O2ymJubF/ybkC03Nxe///475s+fj0aNGqFFixZYuXIlHjx4IDutSKqskDF0Fy9exOzZs1G/fn20bt0aq1atKvK/7YsXL15Z+aSrytKKtKLuo87VXqoo6X6/aTBSmhV5ZWllmoWFhc4MiolIPThwINIjuj5wyMzMRFBQEKZPnw5bW1v4+voWbL958ybq16//2u2Ls/3vBg0ahLlz58La2ho2Njbo06cPUlNTC84Or6r8b5USEhJUvo8qjS9evMCaNWvQv39/DBw4EJUrV8bs2bNhamqKH374oViNhalUqRLs7e1hYmICR0dHbNiwAS9evMD69esLvd/b9ru422XRpRUO+as+8r9JvHDhAqZNm4aaNWuibdu2WL9+PZ48eSIz8a1UWSFD//1vLITAuXPnMHXqVNSoUQNt27aFv7//G49Jz8rK0vnVaID2VqSVtdVeqlBlv4UQ+Pbbb9GoUSOYm5vDysoKn3/+eZH78iZcmUZEuogDByI9kv9LWtcGDunp6VAoFLCysoKvry+8vb1x5swZ2NnZAQAePnwIIcRrKwGKu70o+d9uFfdEWfnPU5xvo1VpvHr1Kp49e4ZmzZoVbCtXrhyqV6+OK1euFKuxOJycnGBlZYX4+PhCb/e2/S7udll06Y1rXl7eK/9fCAGlUom8vDzExsZiwoQJqFq1KgYNGoR9+/YhJydHUunrSrpCxlDl/7cVQiA2NhafffYZatSoAW9vbwQEBCAzMxPAfwfEuvZa/SbaWpFWFld7FUWV/f7qq68wY8YMfPLJJ3jw4AH+/PNPfPnll8V6HlVay9LKNF153SYi9TCRHUBE6pP/ocbISLdmiVZWVoWemOrFixcAXj/3RHG3/92BAwfw7bffIjExERkZGSX+EFeuXLlXnlcVqjTmf/CYPXs2Zs+e/crPatSoUdzMYjE1NS3yz+Nt+13c7bKYmJggLS0NgwcPfuttLC0tizxpX4UKFYr8YGhubl7oh4q/Dxxelj8Ay87Oxt69exEUFAQbGxs0atRIJ/4s81fIAChYIePs7Iz169fj22+/ldqWl5eHv/76S2pDYR+OXh5uHj58GKGhoZgwYQIGDBiAtLQ0nT5cJTMzE6GhoW9dkdarV6/Xbl+c7S/7+2ov4L+vi0uXLsUPP/yAVq1aqWWfSvp3+eXVW6petUWV/X7+/DmWL1+Ozp07Y9q0aQXbbWxsVHqO4rQWd7ssZmZmOnMoHBGpBwcORHok/0ORLn07qor8D6p/X3lQ3O0v+/3339G/f38MGDAAmzdvRs2aNbFq1Sp88cUXxe7Lf/OT/7yqUKWxWrVqAIDly5djypQpxe4qqdzcXDx+/LjI5blv2+/ibpclKyur0A90ubm5uH37dpGPo8oH2oyMjEL/W6u6XDl/+frjx48RExMDU1NTbNmyBaNHj1bp/tqg6goZbfjzzz9L9eFMm/L/fjx79gxbt24F8N/X7F9++QVDhw6VmfaK/BVpxsbGqF69Ory9vTF37lyNrkgrq6u9CqPKficnJ+PZs2fo1KmTyo9bFK5MIyJdw4EDkR7JHziUtW8HbG1toVAoXruEYXG3vywhIQE5OTn4xz/+AQcHBwAlP9t+/vO88847Kt9HlcbatWvDwsKi4Frr2nLs2DHk5eWhRYsWhd7ubftd3O2yZGdno1q1aggMDJSdotLfvfxVJ9WqVcOwYcPw7NkznDhxQqeGDflUWSGjDVWqVMGePXukNuTk5MDb21ul2+b/uTVt2hSWlpZQKBQ6NWwA5KxIK6urvQqjyn7fvXsXwP+Gz+pQ1lem5eTk6PTKHyIqPg4ciPRIWR04lC9fHg4ODgVvvkq6/WX5396HhYWhTZs2uHPnDk6fPv3W2w8dOhTHjh1DSEjIax/E85/HycmpyNsWp9HCwgIffvghNm3ahDZt2mDEiBGoUKEC/vjjDxgbG7/2RluV532T7OxspKeno0KFCoiPj8fkyZNRt25djBkzptD7/X2/S7pdluzsbJ04KV9hh1PkLx+2srJCnz59MGrUKHTs2BFGRkaYN2+eFitVp+oKGW0wNzdH586dpTYU9W1s/gfamjVrYtCgQRgzZgxcXFwwdepUxMbGaqlSfTSxIq2srvYqjCr7nX/lCnV+o1/WV6bpyus2EamPbh3oTUSloksDh+joaDRq1AjXr19Heno6atasWeix9D179kRiYiKeP39equ35nJycMGPGDHz33XeoUaMGZs2aBU9PTwBA+/btcefOnVdun52djYcPH2Lv3r2vPVZsbCzs7Ozg7Oxc5G2L0wgAK1aswNSpU7Fo0SJUqVIFNWrUwJQpU964jF/V533ZiBEjUL16dbz77rsoV64cunbtChcXF0RERMDS0rLQ+/59v0u6XRZduQrA3w+nMDH576zf0tISo0ePxtGjR5GamoqAgAB07txZ587B8neqrpAxZPmvxVZWVvjwww9x8uRJ3L17F/7+/nBxcSm4jS68VheXJlakldXVXoVRZb+bNWsGIyMjnDhxQuXHLUpZX5mmK6/bRKQ+uv2uhoiKJf9YzGfPnkkuAdq1a4erV68WXCru/v37hS5tnzRpEoQQCAoKKtX2ly1cuBCpqan466+/EBgYiIkTJ0IIgeTkZNSuXfuV2/76669wd3dH3bp1X9mempqKo0ePYurUqQXL4t92W1X36WVmZmZYuHAhbt++jZycHDx8+BC//vormjZt+tptVX3el40ZMwbh4eF48OABcnJykJKSgp9//rnIb/TetN8l2S7Ts2fPdOJbu5dXOFSoUAE+Pj44ePAgUlJSsH79enTs2LHIE1fKlL9CJjc3F7/99pvKK2QMjZGRERQKBSpWrIjhw4cXDJLWrVuH9u3bv/bvoqweq66JFWn5q722b9+ONWvWFJwT5e7du/jjjz9eu/3QoUPxzjvv4LfffitWe0n/Lr9plVtRz6/KflerVg0DBw7Er7/+ik2bNiEjIwPx8fFFXrK4sOfnyjQi0jUcOBDpkSpVqgD474e/sqZBgwb4+uuv8fXXX+Pp06cl3l4SSqUSe/bswZMnT147ntrPzw/NmzfH5MmTi7ytqvuk7kZN+Pt+l3S7TCkpKahatarsDAghMGzYMOzZswepqanYsmULevToUSaOUy7NChlDYmFhgYEDB2L37t1ISUnB5s2bixwkWVhY6MzAQfaKNKBsrfZS5yq3zZs348MPP8SMGTNgZ2eHiRMnwt3dHQDQu3fvN57Qsjgr8kq6XZasrKwycblYIioGQUR6pVy5cmLLli2yM0ps5syZomfPniItLa1U24sjLCxM+Pj4iD/++OOV7UuXLhXt27cXjx8/LvK2hdFkoya8ab9Lsl22+vXriwULFsjOKLH//Oc/omHDhrIzdJau/Pnk5eWJjIyMYt9v9erVwtbWVgNFmpeUlCRMTEzETz/9VKrtJaVUKoW7u7vYtGmTWh6vMCkpKcLCwkIsWbKk2M+v7v0u6vnf1FqS7TKZm5uLrVu3ys4gIjXiwIFIz9jZ2YmlS5fKziiVQ4cOiRkzZpR6e2ns2bNHzJ8/X+Tm5qrl8TTRqAlv2+/ibtcFVlZWYv369bIzSkxXPlDrqrL+57N9+3ZhYmIi8vLyZKeUyPz580XDhg3FkydPSrW9uHJzc0VQUJBo3ry5yMzMLNVjqeKf//yncHV1FdnZ2SV6fnXtd77Cnv/vrSXdLktGRoYAIEJCQmSnEJEaceBApGfee+89MXPmTNkZRFJlZ2cLhUIhgoKCZKeUWFn/QK1pZf3P5/DhwwKAzq0MKg5dWpGmCbq0yq2o59eHlWk3btwQAMSZM2dkpxCRGvEcDkR6xtbWFn/++afsDCKpHj58CCEEbG1tZacQvVH++UVSUlIkl5TcN998g8mTJ2PBggWl2l4cnTp1wrZt21C9evUSP4Yq9u7di6ysLBw/fhzW1talen517Hdhz/+21uJuly3/34IunHuHiNRHIcTfrtdFRGXa+PHjcfPmTYSFhclOIZImMjIS7u7uuHv3Luzs7GTnlMi8efMQEBCAa9euyU7RSWX9z+f3339H3bp1ER0djbZt28rOIZIuNDQUPXr0QFpaGqysrGTnEJGacIUDkZ6xt7fHzZs3ZWcQSXXz5k2YmZmhRo0aslOI3qhGjRowNjbGnTt3ZKcQ6YTbt2+jUqVKHDYQ6RkOHIj0TL169XDnzh0olUrZKUTS3Lx5E3Xr1oWREX/NkW4yNTWFnZ0dB8RE/+/WrVtwcHCQnUFEasZ3YkR6xt7eHjk5Obh3757sFCJpbt68iXr16snOICpUvXr1cOvWLdkZRDqBr9tE+okDByI907BhQwDA1atXJZcQyZOUlIQGDRrIziAqlL29PQcORP/v5s2bsLe3l51BRGrGgQORnqlWrRqqV6+O+Ph42SlEUgghkJCQAGdnZ9kpRIWqV68ebty4ITuDSCdwhQORfuLAgUgPOTs7IyEhQXYGkRS3bt1CRkYGBw6k85o2bYrr16/j2bNnslOIpHrw4AEePXoER0dH2SlEpGYcOBDpIWdnZ65wIIOVkJAAhULBN66k85ydnaFUKnHp0iXZKURS5b9ncXJyklxCROrGgQORHnJycsLly5eRm5srO4VI6xISElC3bl1YWlrKTiEqVIMGDVC+fHmuSCODl5CQgOrVq8PW1lZ2ChGpGQcORHqoZcuWePHiBeLi4mSnEGldbGwsWrZsKTuDqEjGxsZwdHTkwIEMXkJCAlc3EOkpDhyI9FDTpk1hY2OD6Oho2SlEWiWEQHR0NNq3by87hUglzs7OOH/+vOwMIqni4uJ43h0iPcWBA5EeUigUcHV1RVRUlOwUIq26evUqHj16BDc3N9kpRCpxdXVFbGwscnJyZKcQSfH06VMkJCSgbdu2slOISAM4cCDSU25uboiMjJSdQaRVUVFRKFeuHN577z3ZKUQqcXNzQ2ZmJg+BI4MVExOD3NxctGvXTnYKEWmAiewAItIMNzc3zJo1C7dv30bdunVl5xBpRWRkJN5//32YmZnJTlGLvLw8pKSkyM7QSfpyKcnGjRujatWqiI6ORqtWrWTnEGldVFQU6tevjxo1ashOISIN4MCBSE+5urqiYsWKOHz4MMaPHy87h0jjhBA4cuQIPv30U9kpanP9+nVUq1ZNdobOatiwoeyEUnv5ELjJkyfLziHSusjISB4GR6THOHAg0lPm5ubw9PRESEgIBw5kEOLj43Hv3j306NFDdopajBw5kkuMi1C+fHnZCWrRvn17rFixAkIIKBQK2TlEWpOVlYVTp05h+fLlslOISEM4cCDSY927d8e//vUvZGdn680Sc6K3CQ0NRbVq1eDi4iI7RS3q1q3Lw6EMRLdu3fDll1/iwoULevP3l0gVJ0+eRGZmJrp27So7hYg0hCeNJNJj3t7eePLkCS+PSQYhJCQE3bt3h5ERf7VR2fLee++hZs2aCAkJkZ1CpFUhISFwdHTkcJVIj/FdGZEeq1evHho3bozg4GDZKUQalZqaiujoaHh7e8tOISo2hUKBrl27IjQ0VHYKkVaFhoaie/fusjOISIM4cCDSc4MGDcLOnTuRl5cnO4VIY3bt2gVjY2MOHKjM6tGjB2JiYpCWliY7hUgrbt++jUuXLnHgQKTnOHAg0nODBw/G3bt3ERMTIzuFSGMCAwPRs2dPWFpayk4hKpGuXbvCyMiIK9LIYOzevRtWVlZwd3eXnUJEGsSBA5Gec3JyQtOmTbFz507ZKUQa8ejRIxw/fhxDhgyRnUJUYpUrV0bXrl0RGBgoO4VIK3bs2IF+/frB3NxcdgoRaRAHDkQGYPDgwdi5cyeUSqXsFCK1+/XXX2Fubo6ePXvKTiEqlSFDhuDw4cN4/Pix7BQijbpz5w5Onz7NQTGRAeDAgcgA+Pj44I8//sChQ4dkpxCp3Q8//IABAwagfPnyslOISqVv374wMTHBnj17ZKcQadQvv/yCypUro1OnTrJTiEjDFEIIITuCiDTPy8sLlStXxu7du2WnEKlNfHw83nvvPZw4cQIeHh6yc4hKbcCAAXjy5AmOHDkiO4VIY1q1aoXmzZtj48aNslOISMO4woHIQIwfPx779+/H/fv3ZacQqc369evx7rvv8qRjpDdGjx6No0eP4vr167JTiDQiPj4e586dw5gxY2SnEJEWcOBAZCAGDRoEa2tr/Pjjj7JTiNTi+fPn+PnnnzFu3DgoFArZOURq0bNnT9SsWRM//PCD7BQijVi3bh0aNWoENzc32SlEpAUcOBAZCDMzM4wYMQLr1q1Dbm6u7ByiUtu2bRuePXuGUaNGyU4hUhsTExOMGTMGmzZtQk5OjuwcIrV6/vw5tm/fjvHjx3NQTGQgOHAgMiCTJ0/G/fv3eYlMKvOEEFi+fDmGDx+Od955R3YOkVp99NFHePjwIQ4cOCA7hUitAgMDkZmZyUExkQHhSSOJDMyQIUNw/fp1nD17VnYKUYnt27cPffv2RUJCAhwdHWXnEKmdt7c3Xrx4gfDwcNkpRGrTsmVLvPvuu9i+fbvsFCLSEg4ciAzM2bNn0bp1a4SHh8PLy0t2DlGJdOjQARUrVuQ3wKS3wsLC0KVLF5w+fRpt2rSRnUNUakePHkXnzp1x6tQpvP/++7JziEhLOHAgMkAeHh6oUKECQkJCZKcQFdvp06fh6uqKo0ePomPHjrJziDSmRYsWaNKkCbZt2yY7hajUvL298fz5cxw7dkx2ChFpEQcORAbo8OHD6NatGyIiIng5QSpzunXrhqdPnyIqKkp2CpFG/fTTTxg7diySk5NRt25d2TlEJXbx4kU4OzsjODgYvXr1kp1DRFrEgQORgfL09ISJiQnCwsJkpxCpLCoqCu3bt+fqBjIIOTk5cHBwQP/+/bFy5UrZOUQlNnLkSJw7dw6JiYm8OgWRgeHAgchARUZGwt3dHceOHYOnp6fsHCKVeHl5ITc3FydPnpSdQqQVa9aswbRp05CUlITatWvLziEqtmvXrsHR0RE//fQThg4dKjuHiLSMAwciA9a5c2dkZWXxwxuVCfkn0eOhQGRIcnJy0KhRI3Tt2hXff/+97ByiYhsyZAgSExMRHx8PIyMj2TlEpGUcOBAZsDNnzsDV1RU7duzABx98IDuH6K2USiVatGiB2rVrY//+/bJziLRq06ZNmDBhAq5cuQIHBwfZOUQqu3jxIt577z3s3LkTAwYMkJ1DRBJw4EBk4EaPHo1jx47hypUrKF++vOwcojdau3YtfH19kZCQgEaNGsnOIdKq3NxcNGnSBO3atcOWLVtk5xCprE+fPrh79y7OnTvHczcQGSiuayIycIsXL0Z6ejqWL18uO4XojdLS0jBnzhxMmjSJwwYySCYmJpg/fz62bt2K2NhY2TlEKgkLC8O+ffuwaNEiDhuIDBhXOBARvvnmGyxcuBCXL19GrVq1ZOcQvWLq1KnYtm0brl27hsqVK8vOIZLG09MT2dnZiIqK4gc40mlKpRIuLi5wcHDAnj17ZOcQkURc4UBE+Oyzz1C9enX885//lJ1C9Ipz585h9erVmD9/PocNZPBWrFiBM2fO4JdffpGdQlSotWvX4urVq1i8eLHsFCKSjCsciAgAcPz4cXTs2BGBgYEYNGiQ7Bwi5Obm4v3330elSpVw7NgxfqNLBGDcuHE4fPgwLl26hIoVK8rOIXpNSkoKGjdujLFjx3LgQEQcOBDR/3z00Uc4ePAgLl26BGtra9k5ZOAWLlwIPz8/nD9/Hk2aNJGdQ6QTHj58iCZNmmDkyJFYsWKF7Byi14waNQrHjh1DYmIiLC0tZecQkWQ8pIKICixZsgTAfw+xIJLp2rVr+PrrrzF37lwOG4heYmtri6VLl2LVqlWIjo6WnUP0ivDwcGzduhWrVq3isIGIAHCFAxH9zZ49e9C/f3/s2rUL/fv3l51DBignJwft2rWDEAIxMTEwNTWVnUSkc7p164b79+/j3LlzMDMzk51DhGfPnsHZ2RktWrRAYGCg7Bwi0hFc4UBEr+jXrx/GjRuHjz76CHfu3JGdQwZozpw5uHz5MrZu3cphA9FbrF27Fjdu3MCCBQtkpxABAGbNmoXHjx9j5cqVslOISIdwhQMRvSYzMxMtW7ZEnTp1EBoaCiMjziZJO06ePAkvLy+sXbsW48ePl51DpNNWrlyJzz77DJGRkXj//fdl55ABO3LkCLp164Yff/wRo0aNkp1DRDqEAwcieqPY2Fi4ublh3rx5+OKLL2TnkAFISUlBixYt0KpVK+zatUt2DpHOE0Kgd+/euHz5Ms6fP89j5kmKlJQUODs7o127dvj1119l5xCRjuHXlkT0Rq1bt8aCBQswa9YshIeHy84hPadUKjFs2DAYGxtjw4YNsnOIygSFQoHNmzcjMzMTU6ZMkZ1DBmrcuHEwNjbG+vXrZacQkQ7iwIHQLsoFAAASQUlEQVSI3mratGkYMGAABg8ejFu3bsnOIT02c+ZMREZGYufOnahSpYrsHKIyw9bWFhs2bMCPP/6I7du3y84hA/Pdd99h//792LZtG2xsbGTnEJEO4iEVRFSop0+fwtXVFWZmZoiKikK5cuVkJ5Ge2bt3L/r374+NGzdi7NixsnOIyqQpU6Zg48aNiImJgZOTk+wcMgAxMTHw9PTErFmzMGfOHNk5RKSjOHAgoiJdvXoVbdq0Qd++fbFlyxYoFArZSaQnLly4AA8PD/j4+OD777+XnUNUZuXm5qJz5864d+8eYmNjUblyZdlJpMcePHiAli1bwsXFBXv37uXJpYnorThwICKVHDp0CL169cKsWbPg5+cnO4f0wP379+Hq6goHBwccOnQI5ubmspOIyjR+CCRtyB9u3b59G2fPnuVhcERUKGM/fnIgIhU0aNAAdnZ2mD59Ouzt7dG8eXPZSVSGPXnyBF26dIGxsTEOHz6MihUryk4iKvMqVqyI999/H1999RVevHiBTp06yU4iPTRx4kSEhIQgLCwM9erVk51DRDrORHYAEZUdH330EZKSkvDxxx+jVq1afDNLJZKTk4PBgwfjzz//RExMDKytrWUnEekNNzc3rFu3DmPHjkXt2rUxYcIE2UmkR7799lusX78eO3fuhLOzs+wcIioDOHAgomJZsGAB7ty5g379+uHw4cNo27at7CQqQ5RKJUaMGIGoqCiEh4fD3t5edhKR3vnwww9x48YN+Pr6on79+ujatavsJNIDv/76K7788kssWbIEAwYMkJ1DRGUEz+FARMWmVCoxdOhQHDlyBGFhYWjVqpXsJCoDhBD45JNPsHXrVhw8eBCenp6yk4j0lhACI0eOxP79+xEREcFvo6lUoqOj0blzZ3z00UdYtWqV7BwiKkM4cCCiEsnOzka/fv0QGxuL48ePw9HRUXYS6bjp06dj5cqV2L17N3r27Ck7h0jvZWVloUePHrh06RIiIiLw7rvvyk6iMujChQvw8vJChw4dEBQUBGNjY9lJRFSGcOBARCX27NkzdOvWDUlJSTh8+DC/QaM3EkLA19cXa9euxS+//IKBAwfKTiIyGPmv07du3UJERARP8kfFkpSUBA8PDzg6OmL//v2wsLCQnUREZQwHDkRUKpmZmejXrx/Onj2LkJAQuLq6yk4iHaJUKvHxxx9j69at2LZtGwYNGiQ7icjgpKeno1OnTkhLS0NERARq1qwpO4nKgN9//x0eHh6oUaMGjhw5wqsJEVGJ8ALNRFQqFSpUwP79+9GhQwd07twZ4eHhspNIR+Tk5MDHxwfbtm1DYGAghw1EklhZWeHgwYMwMzODl5cX7ty5IzuJdFxycjI8PDxQpUoVhIaGcthARCXGgQMRlZq5uTkCAwPRvXt39O7dG3v37pWdRJI9efIEffr0QUhICEJDQ9G3b1/ZSUQGzdbWFseOHYOFhQXat2+P5ORk2Umkoy5fvgxPT09UrVoVhw4dgpWVlewkIirDOHAgIrUwMzPDjh07MGLECAwcOBD+/v6yk0iSe/fuwd3dHRcuXEB4eDivRkGkI9555x0cP34cNWrUgLu7OxISEmQnkY757bff4OHhAQcHB4SHh6Nq1aqyk4iojOPAgYjUxtjYGOvWrcPSpUsxbdo0fPLJJ8jNzZWdRVqUkJCAdu3aIScnBzExMbxkKpGOsba2xqFDh9CgQQN06tQJp0+flp1EOiI8PBwdO3ZEq1atEBoaCktLS9lJRKQHOHAgIrXz9fXF9u3bERAQgH79+iEtLU12EmnB7t274ebmhgYNGiAqKgr29vayk4joDaysrBAaGoo2bdqgY8eO2LVrl+wkkuzHH39Ejx490KNHD+zduxfly5eXnUREeoIDByLSiMGDByM8PBznz59H69atuXRXjymVSvzrX//CwIEDMXz4cISEhKBy5cqys4ioEBUqVMDevXsxduxYDBo0CH5+frKTSAIhBPz8/DB27Fh8+umn2LZtG8zMzGRnEZEe4WUxiUijHj16hGHDhiEqKgpr167FmDFjZCeRGqWmpsLHxwcRERFYtWoVxo0bJzuJiIppyZIlmDFjBj7++GP4+/vzA6eBePbsGcaPH4/AwECsXbuWr99EpBEcOBCRxuXm5uLzzz+Hv78/Pv30UyxZsoTLNfXAiRMnMHLkSBgbGyMoKAgtWrSQnUREJbRr1y6MHj0aTk5O2LlzJ+zs7GQnkQZdv34dAwcOxJ07d7B9+3Z07dpVdhIR6SkeUkFEGmdiYoLly5cjMDAQO3bsQKtWrXD+/HnZWVRCOTk5mDlzJjp16oRWrVrh3LlzHDYQlXEDBgzA2bNnkZ6eDhcXFxw9elR2EmlISEgIWrduDYVCgdjYWA4biEijOHAgIq0ZNGgQ4uLiUL16dbi6uuLbb79FXl6e7CwqhmvXrsHNzQ0rV67E2rVrsWvXLtjY2MjOIiI1aNSoEWJiYtC+fXt0794dixcv5mu0HsnNzcXs2bPRq1cv9OnTB9HR0XBwcJCdRUR6jgMHItKqWrVqISwsDF9//TVmz56N9u3bIzExUXYWFSE3NxeLFi1C8+bNkZeXh3PnzmH8+PGys4hIzSwtLREUFIQFCxbgq6++QufOnXH37l3ZWVRK169fR/v27bF8+XKsWbMGP/74I8qVKyc7i4gMAAcORKR1RkZGmDFjBs6dOwchBFxcXPDll18iKytLdhq9QVxcHNq2bQs/Pz988cUXiI6ORqNGjWRnEZGGKBQKTJ8+HefOnUNKSgqaNWuGn3/+WXYWlVBAQABcXFyQmZmJU6dO4ZNPPpGdREQGhAMHIpKmWbNmiIyMxOLFi7F69Wq4uLggLCxMdhb9v7S0NEydOhUtW7ZEhQoVEBcXBz8/P57BnshANGvWDKdOncLQoUMxfPhw+Pj44OHDh7KzSEX37t1D3759MWbMGHz88cc4e/YsnJycZGcRkYHhwIGIpDI2NsaUKVNw8eJFNGjQAF26dEG/fv2QnJwsO81gKZVKfP/992jYsCG2bt2K77//HseOHcO7774rO42ItKx8+fL4/vvvceDAAURFRaFp06YICAiQnUWFyMvLw5o1a9C0aVNcunQJR48exZIlS2Bubi47jYgMEAcORKQT7O3tERwcjEOHDiE5ORmOjo744osv8Ndff8lOMyhhYWFo0aIFJk+ejJEjRyIpKQnjxo2DQqGQnUZEEnl7e+PixYvw8fHBhx9+iG7dunEwrIMuXrwIDw8P+Pr6YsKECYiPj4eXl5fsLCIyYBw4EJFO6dq1Ky5cuIBly5Zh8+bNcHBwwNdff42MjAzZaXotMjISXl5e6NKlC2rXro2EhAQsW7YMlStXlp1GRDqiUqVKWLlyJSIjI3H//n04OjpixowZfH3WAampqZg4cSJcXFyQnZ2N2NhYLFy4kCeGJCLpOHAgIp1jYmKCiRMn4saNG5g6dSqWLVsGBwcHLFy4EE+fPpWdp1dOnz6Nbt26wd3dHUIIREREYP/+/TwpJBG9Vdu2bREXF4cNGzbghx9+gIODA/z9/aFUKmWnGZzc3FysX78eTZo0QWBgIJYsWYKYmBg0b95cdhoREQAOHIhIh1laWmLOnDm4c+cOPv/8cyxcuBB2dnbw9fXlZdpKQQiBsLAw9O7dG66ursjIyEBwcDCO/197d/bT1KKGcfhHawExgAYkzlI1EUNpFZEo1TgRwHmIoKhxRG80euVw4R/gpXon4hCNRsBojEYBj7qjgopRxIIRE2zjgDGlCCpisLTnYu/Tc07O3sne+2gWhfdJVnrTrLztxUr7dn1ff/mFWbNmGR1PRMKAyWRiw4YNNDU1UVRUxN69e7Hb7Zw+fZpAIGB0vD4vEAhQXl5OamoqO3fupLCwkObmZnbv3o3ZbDY6nohIiAoHEen1YmNj2bdvH83NzezZs4fS0lImTJjAli1bcLlcRscLG11dXZSUlJCamkpOTg49PT3cvHmT+/fvs2TJEqPjiUgYGjJkCAcPHuTp06fYbDY2b95MRkYGV69eNTpanxQIBCgrK8Nms7F27VpmzJhBU1MThw8fJi4uzuh4IiL/Q4WDiISNhIQEDhw4wOvXrykuLqa2tha73U5GRgbFxcUat/gDz58/Z//+/YwePZodO3aQkZHBs2fPuHbtGvPmzTM6noj0AZMmTaK0tJS6ujrGjBnD0qVLycjIoLS0FL/fb3S8sNfd3c2pU6dwOBwUFhYyZcoUGhsbOXXqFFar1eh4IiJ/KCIYDAaNDiEi8ncEg0Fu3bpFSUkJly5dIioqisLCQtatW4fT6cRk6r+dqtfr5cKFC5w8eZJHjx4xceJEtm7dysaNG0lKSjI6noj0cY8fP+bgwYNcunSJ0aNHs3v3brZu3UpsbKzR0cJKe3s7R48e5ciRI3i9XtasWcO+fftITU01OpqIyJ+iwkFE+gSfz8eZM2c4ceIELpeLkSNHkp+fT0FBAdOnT+8Xf+vY1tbGxYsXKSsr49atW0RHR7Ny5UqKioqYNWtWv3gPRKR3efXqFYcOHeLEiRNYLBbWr19PUVERDofD6Gi9Wm1tLSUlJZw/fx6TycT27dvZtWsXo0aNMjqaiMhfosJBRPqcxsZGysrKKC0tpampiVGjRpGXl0deXh7Z2dnEx8cbHfGHqa+vp6KigoqKCqqrqxkwYAALFixg9erVLF68mJiYGKMjiojQ1tbG8ePHKSkp4eXLl2RmZlJUVMTq1au1e+A3bW1tnDt3jmPHjvHs2TNsNhvbtm1j06ZNeo9EJGypcBCRPq2+vp7Lly9z/fp1Hj16REREBE6nkzlz5uB0Opk+fXpY3eL74sULampquHv3LlVVVbS0tJCUlERubi4LFy5k0aJFYfV6RKT/efz4McXFxZw9e5aenh6ys7PJz89nxYoV/e761dHRweXLlykvL6eqqgqTycSSJUvYvn072dnZRscTEfm/qXAQkX7D5/Nx48YNKisruXPnDq9evcJsNmO328nKymLy5MnY7XZSU1MZNGiQ0XHxeDy4XC5cLhcPHz6kpqaG1tZWYmJiyMzMZP78+eTl5ZGent6v91WISHhqb28PjYHdvHkTi8XCokWLWLx4Mbm5uQwbNszoiD/F27dvqaio4MqVK1RWVgKQk5NDQUEBy5Yt63eli4j0bSocRKTfev/+PTU1Ndy7d48HDx7Q0NDAly9fMJlMWK1WbDYb48aNw2q1ho4xY8b8sA+Dfr+fDx8+4Ha7Q4fH46GpqYmGhgY+ffoEgNVqJT09HafTSVZWFunp6Vgslh+SQUSkN2htbeXixYtcuHCBO3fu0N3dzZQpU8jLyyM3N5dp06YxcOBAo2P+LZ2dnTx48IDKykoqKipwuVzExMQwd+5cVq1axfLlyxk8eLDRMUVEfgoVDiIivwkEArjdburr62loaKCxsRGPx4Pb7cbr9YaeFxUVRUJCQuhITEwkIiKCmJgYoqKiAIiMjKS7uxv49ZbZQCDA169f8fl8+Hw+vF4v7e3toXNGRkYyduxYrFYr48ePx+FwkJaWhs1m0+yuiPQrnZ2d3L59O7Sfprm5mcjISKZOnUpWVhYzZ84kMzOTESNGGB31d71584aHDx9SXV1NdXU1dXV1+P1+UlJSQvuEZs+eTXR0tNFRRUR+OhUOIiJ/wpcvX/B4PLx58yZUGvh8PlpbW/H5fASDQbq6uvj27RsAXV1doV/jBg8eHCok/rOkSExMJCkpieTkZEaMGKGxCBGR3+HxeLh3717ojrTGxkYCgQAJCQk4HA5sNhtpaWmkpKRgtVoZPnz4T7+e9vT08O7dO9xuNy9evAiNv7lcLj5+/IjZbMbhcOB0OnE6ncycOZORI0f+1EwiIr2RCgcRERERCRsdHR08efIk9AW/vr6e58+f09nZCfx6F9rYsWNJTk5m+PDhoaJ36NChJCYmhsbi4uPjMZlMWCwWgsEgfr+fnp6e0Djbp0+f8Hq9oWLZ5/PR0tKC2+3m9evXfP/+HYDY2FhsNht2ux273U5aWhqTJ0/WLgYREVQ4iIiIiEiYCwQCtLS0hMbg/rUT58OHD/81ytbR0fGXzjtkyBASExNDpcWwYcOwWq0kJyeHHnvraIeISG+gwkFERERE+gW/38/nz5+Bf+/X6e7uJiIiAovFgtlsDu3NiYuLw2w2GxlXRCTsqXAQERERERERkR9OG8pERERERERE5IdT4SAiIiIiIiIiP9wA4B9GhxARERERERGRvuWfchFf1xLL0O0AAAAASUVORK5CYII=)"
      ],
      "metadata": {
        "id": "STYtSJqJN3Q0"
      }
    },
    {
      "cell_type": "markdown",
      "metadata": {
        "id": "aS2Ux17ix7ia"
      },
      "source": [
        "## Another log for testing"
      ]
    },
    {
      "cell_type": "markdown",
      "metadata": {
        "id": "oVyzfYPax7ia"
      },
      "source": [
        "Input:"
      ]
    },
    {
      "cell_type": "code",
      "execution_count": 272,
      "metadata": {
        "colab": {
          "base_uri": "https://localhost:8080/"
        },
        "id": "VfIzMgQNx7ia",
        "outputId": "68d16ccc-2cc5-442b-dc46-bf1142b8174e"
      },
      "outputs": [
        {
          "output_type": "execute_result",
          "data": {
            "text/plain": [
              "[('a', 'b', 'e', 'f'),\n",
              " ('a', 'b', 'e', 'c', 'd', 'b', 'f'),\n",
              " ('a', 'b', 'c', 'e', 'd', 'b', 'f'),\n",
              " ('a', 'b', 'c', 'd', 'e', 'b', 'f'),\n",
              " ('a', 'e', 'b', 'c', 'd', 'b', 'f')]"
            ]
          },
          "metadata": {},
          "execution_count": 272
        }
      ],
      "source": [
        "log = [('a', 'b', 'e', 'f'),\n",
        " ('a', 'b', 'e', 'c', 'd', 'b', 'f'),\n",
        " ('a', 'b', 'c', 'e', 'd', 'b', 'f'),\n",
        " ('a', 'b', 'c', 'd', 'e', 'b', 'f'),\n",
        " ('a', 'e', 'b', 'c', 'd', 'b', 'f')]\n",
        "log"
      ]
    },
    {
      "cell_type": "markdown",
      "metadata": {
        "id": "-od0j_7vx7ib"
      },
      "source": [
        "Expected output:"
      ]
    },
    {
      "cell_type": "code",
      "execution_count": 273,
      "metadata": {
        "colab": {
          "base_uri": "https://localhost:8080/"
        },
        "id": "80jG8Ck6x7ib",
        "outputId": "a90957cc-df69-4be3-abe5-a5b6e79e00d6"
      },
      "outputs": [
        {
          "output_type": "execute_result",
          "data": {
            "text/plain": [
              "{(('a',), ('e',)),\n",
              " (('a', 'd'), ('b',)),\n",
              " (('b',), ('c', 'f')),\n",
              " (('c',), ('d',)),\n",
              " (('e',), ('f',))}"
            ]
          },
          "metadata": {},
          "execution_count": 273
        }
      ],
      "source": [
        "dataset = {(('a',), ('e',)), (('a', 'd'), ('b',)), (('b',), ('c', 'f')), (('c',), ('d',)), (('e',), ('f',))}\n",
        "dataset"
      ]
    },
    {
      "cell_type": "code",
      "source": [
        "#Programm output\n",
        "result(log)"
      ],
      "metadata": {
        "colab": {
          "base_uri": "https://localhost:8080/"
        },
        "id": "Su6WrwckN7PB",
        "outputId": "9dee2846-a967-4198-f8ea-a2660a8fd5d8"
      },
      "execution_count": 274,
      "outputs": [
        {
          "output_type": "execute_result",
          "data": {
            "text/plain": [
              "{(('a',), ('e',)),\n",
              " (('a', 'd'), ('b',)),\n",
              " (('b',), ('c', 'f')),\n",
              " (('c',), ('d',)),\n",
              " (('e',), ('f',))}"
            ]
          },
          "metadata": {},
          "execution_count": 274
        }
      ]
    },
    {
      "cell_type": "code",
      "source": [
        "result(log) == dataset"
      ],
      "metadata": {
        "colab": {
          "base_uri": "https://localhost:8080/"
        },
        "id": "Ne2FXoCpN7G2",
        "outputId": "f8ade46d-9448-46a3-f1fb-5d97aafd4e3f"
      },
      "execution_count": 275,
      "outputs": [
        {
          "output_type": "execute_result",
          "data": {
            "text/plain": [
              "True"
            ]
          },
          "metadata": {},
          "execution_count": 275
        }
      ]
    },
    {
      "cell_type": "code",
      "source": [
        "\n",
        "'''def fix(comb, log, st, en):\n",
        "    start = st(log)\n",
        "    end = en(log)\n",
        "    beg, fin = [], []\n",
        "    comb2 = list(comb)\n",
        "    for i in range(len(comb2)):\n",
        "        comb2[i] = list(comb2[i])\n",
        "        for j in range(len(comb2[i])):\n",
        "            comb2[i][j] = list(comb2[i][j]) \n",
        "    beg.extend(start), fin.extend(end)\n",
        "    for item in comb2:\n",
        "        beg.extend(item[1])\n",
        "        fin.extend(item[0])\n",
        "    \n",
        "    while True:\n",
        "        comb_cp = comb2.copy()\n",
        "        k = 0\n",
        "        for i in range(len(comb2)):\n",
        "            for el in comb2[i-k][0]:\n",
        "                if beg.count(el) == 1:\n",
        "                    if len(comb2[i-k][0]) == 1:\n",
        "                        comb2.remove(comb2[i-k])\n",
        "                        beg.remove(el)\n",
        "                        k += 1\n",
        "                    else:\n",
        "                        comb2[i-k][0].remove(el)\n",
        "                        beg.remove(el)\n",
        "\n",
        "        k = 0\n",
        "        for i in range(len(comb2)):\n",
        "            for el in comb2[i-k][1]:\n",
        "                if fin.count(el) == 1:\n",
        "                    if len(comb2[i-k][1]) == 1:\n",
        "                        comb2.remove(comb2[i-k])\n",
        "                        fin.remove(el)\n",
        "                        k += 1\n",
        "                    else:\n",
        "                        comb2[i-k][1].remove(el)\n",
        "                        fin.remove(el)\n",
        "        if comb2 == comb_cp:\n",
        "            break\n",
        "    return comb2\n",
        "    \n",
        " \n",
        "'''   \n",
        "    \n",
        "    '''for item in comb:\n",
        "        for beg in item[0]:\n",
        "            if beg not in start:\n",
        "                for it in comb:'''\n"
      ],
      "metadata": {
        "id": "11Y4yPCsIdTR"
      },
      "execution_count": null,
      "outputs": []
    }
  ],
  "metadata": {
    "kernelspec": {
      "display_name": "Python 3",
      "language": "python",
      "name": "python3"
    },
    "language_info": {
      "codemirror_mode": {
        "name": "ipython",
        "version": 3
      },
      "file_extension": ".py",
      "mimetype": "text/x-python",
      "name": "python",
      "nbconvert_exporter": "python",
      "pygments_lexer": "ipython3",
      "version": "3.6.5"
    },
    "colab": {
      "name": "Assignment 1 _ Alpha algorithm.ipynb",
      "provenance": []
    }
  },
  "nbformat": 4,
  "nbformat_minor": 0
}
