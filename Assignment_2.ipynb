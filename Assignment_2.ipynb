{
  "cells": [
    {
      "cell_type": "markdown",
      "metadata": {
        "id": "0Zi3DlOkjXYe"
      },
      "source": [
        "# Assignment 2 & 3"
      ],
      "id": "0Zi3DlOkjXYe"
    },
    {
      "cell_type": "markdown",
      "metadata": {
        "id": "QN2fu_sxjXYj"
      },
      "source": [
        "В этих домашних заданиях вам предстоит решить две задачи:<br>\n",
        "1. Исследовать, как графовый контекст влияет на качество предсказания модели классификации <b>[15 pts]</b>\n",
        "2. Определить, какие переходы оказывает наибольшее влияние на качество модели <b>[15 pts]</b>\n",
        "\n",
        "Решение заданий - jupyter notebook\n"
      ],
      "id": "QN2fu_sxjXYj"
    },
    {
      "cell_type": "markdown",
      "metadata": {
        "id": "E4CmOi9gjXYk"
      },
      "source": [
        "### Assignment 2 - Графовый контекст"
      ],
      "id": "E4CmOi9gjXYk"
    },
    {
      "cell_type": "markdown",
      "metadata": {
        "id": "0HteIIDGjXYl"
      },
      "source": [
        "В лекции вам рассказали о некоторых подходах к веторизации цепочек процессов. <br>\n",
        "\"Цепочка процесса\" - это направленный граф, описывающий конкретную реализацию процесса (конкретный case id из всей выборки). Вершины и ребра графа определяются с помощью майнеров (например, мы реализовывали Альфа-алгоритм). Совокупность вершин и ребер графа, сформированных майнером, называется <b>контекст</b>. <br>\n",
        "\n",
        "Контекст будет отличаться в зависимости от майнера, который вы применили. Например, альфа-алгоритм может удалить часть вершин ввиду особенностей работы алгоритма. Контекст влияет на то, какие \"соседи\" будут у каждой из вершин графа, какие метрики будут характеризовать ребра и вершины. И, разумеется, повлияет на то, какие будут эмбеддинги у каждой \"цепочки процесса\". <br>\n"
      ],
      "id": "0HteIIDGjXYl"
    },
    {
      "cell_type": "markdown",
      "metadata": {
        "id": "JaKfGtoxjXYl"
      },
      "source": [
        "\n",
        "В этом задании необходимо реализовать алгоритм, который получает на вход: <br>\n",
        "1. `pandas.DataFrame()` со столбцами `case_id, stage, stage_datetime` \n",
        "2. `pandas.DataFrame()` со столбцами `case_id, target` (задача бинарной классификации)\n",
        "3. `string` с указанием `algo_name` \n",
        "\n",
        "И возвращает значение метрики `roc_auc` и `pandas.DataFrame()` со столбцами `case_id, target, predicted, algo_name`"
      ],
      "id": "JaKfGtoxjXYl"
    },
    {
      "cell_type": "markdown",
      "metadata": {
        "id": "sAGFy17mjXYm"
      },
      "source": [
        "#### Рассмотрим пример для векторизации с помощью word2vec"
      ],
      "id": "sAGFy17mjXYm"
    },
    {
      "cell_type": "markdown",
      "metadata": {
        "id": "BEDsufbujXYm"
      },
      "source": [
        "##### Считаем данные"
      ],
      "id": "BEDsufbujXYm"
    },
    {
      "cell_type": "code",
      "execution_count": null,
      "metadata": {
        "id": "MCpah2hLjXYn"
      },
      "outputs": [],
      "source": [
        "import pandas as pd\n",
        "import numpy as np\n",
        "import pprint"
      ],
      "id": "MCpah2hLjXYn"
    },
    {
      "cell_type": "code",
      "source": [
        "from google.colab import files"
      ],
      "metadata": {
        "id": "sjqgqMlYkAGi"
      },
      "id": "sjqgqMlYkAGi",
      "execution_count": null,
      "outputs": []
    },
    {
      "cell_type": "code",
      "source": [
        "from google.colab import drive\n",
        "drive.mount('/content/drive')"
      ],
      "metadata": {
        "colab": {
          "base_uri": "https://localhost:8080/"
        },
        "id": "xov2HxjgkNIz",
        "outputId": "fe378f17-18eb-4daa-8a3e-c4cf40205320"
      },
      "id": "xov2HxjgkNIz",
      "execution_count": null,
      "outputs": [
        {
          "output_type": "stream",
          "name": "stdout",
          "text": [
            "Mounted at /content/drive\n"
          ]
        }
      ]
    },
    {
      "cell_type": "code",
      "source": [
        "!pip install sberpm"
      ],
      "metadata": {
        "colab": {
          "base_uri": "https://localhost:8080/",
          "height": 1000
        },
        "id": "afwZ088Xn7ba",
        "outputId": "4779d398-50ca-4a56-c01a-ad8f229dda73"
      },
      "id": "afwZ088Xn7ba",
      "execution_count": null,
      "outputs": [
        {
          "output_type": "stream",
          "name": "stdout",
          "text": [
            "Collecting sberpm\n",
            "  Downloading sberpm-1.3.0.tar.gz (3.6 MB)\n",
            "\u001b[K     |████████████████████████████████| 3.6 MB 8.4 MB/s \n",
            "\u001b[?25hRequirement already satisfied: numpy>=1.18.1 in /usr/local/lib/python3.7/dist-packages (from sberpm) (1.21.6)\n",
            "Requirement already satisfied: pandas>=1.1.0 in /usr/local/lib/python3.7/dist-packages (from sberpm) (1.3.5)\n",
            "Requirement already satisfied: scipy>=1.4.1 in /usr/local/lib/python3.7/dist-packages (from sberpm) (1.4.1)\n",
            "Requirement already satisfied: pydotplus>=2.0.2 in /usr/local/lib/python3.7/dist-packages (from sberpm) (2.0.2)\n",
            "Collecting graphviz!=0.18,>=0.13.2\n",
            "  Downloading graphviz-0.20-py3-none-any.whl (46 kB)\n",
            "\u001b[K     |████████████████████████████████| 46 kB 4.2 MB/s \n",
            "\u001b[?25hRequirement already satisfied: plotly>=4.9.0 in /usr/local/lib/python3.7/dist-packages (from sberpm) (5.5.0)\n",
            "Collecting IPython~=7.25.0\n",
            "  Downloading ipython-7.25.0-py3-none-any.whl (786 kB)\n",
            "\u001b[K     |████████████████████████████████| 786 kB 36.6 MB/s \n",
            "\u001b[?25hCollecting matplotlib~=3.4.2\n",
            "  Downloading matplotlib-3.4.3-cp37-cp37m-manylinux1_x86_64.whl (10.3 MB)\n",
            "\u001b[K     |████████████████████████████████| 10.3 MB 23.6 MB/s \n",
            "\u001b[?25hRequirement already satisfied: nbformat>=4.2.0 in /usr/local/lib/python3.7/dist-packages (from sberpm) (5.3.0)\n",
            "Requirement already satisfied: scikit-learn>=0.23.2 in /usr/local/lib/python3.7/dist-packages (from sberpm) (1.0.2)\n",
            "Requirement already satisfied: torch>=1.6.0 in /usr/local/lib/python3.7/dist-packages (from sberpm) (1.11.0+cu113)\n",
            "Collecting setuptools~=47.1.0\n",
            "  Downloading setuptools-47.1.1-py3-none-any.whl (583 kB)\n",
            "\u001b[K     |████████████████████████████████| 583 kB 44.7 MB/s \n",
            "\u001b[?25hCollecting pymorphy2\n",
            "  Downloading pymorphy2-0.9.1-py3-none-any.whl (55 kB)\n",
            "\u001b[K     |████████████████████████████████| 55 kB 3.7 MB/s \n",
            "\u001b[?25hRequirement already satisfied: nltk in /usr/local/lib/python3.7/dist-packages (from sberpm) (3.2.5)\n",
            "Requirement already satisfied: traitlets>=4.2 in /usr/local/lib/python3.7/dist-packages (from IPython~=7.25.0->sberpm) (5.1.1)\n",
            "Requirement already satisfied: matplotlib-inline in /usr/local/lib/python3.7/dist-packages (from IPython~=7.25.0->sberpm) (0.1.3)\n",
            "Requirement already satisfied: jedi>=0.16 in /usr/local/lib/python3.7/dist-packages (from IPython~=7.25.0->sberpm) (0.18.1)\n",
            "Requirement already satisfied: pygments in /usr/local/lib/python3.7/dist-packages (from IPython~=7.25.0->sberpm) (2.6.1)\n",
            "Requirement already satisfied: backcall in /usr/local/lib/python3.7/dist-packages (from IPython~=7.25.0->sberpm) (0.2.0)\n",
            "Requirement already satisfied: decorator in /usr/local/lib/python3.7/dist-packages (from IPython~=7.25.0->sberpm) (4.4.2)\n",
            "Requirement already satisfied: pickleshare in /usr/local/lib/python3.7/dist-packages (from IPython~=7.25.0->sberpm) (0.7.5)\n",
            "Collecting prompt-toolkit!=3.0.0,!=3.0.1,<3.1.0,>=2.0.0\n",
            "  Downloading prompt_toolkit-3.0.29-py3-none-any.whl (381 kB)\n",
            "\u001b[K     |████████████████████████████████| 381 kB 42.5 MB/s \n",
            "\u001b[?25hRequirement already satisfied: pexpect>4.3 in /usr/local/lib/python3.7/dist-packages (from IPython~=7.25.0->sberpm) (4.8.0)\n",
            "Requirement already satisfied: parso<0.9.0,>=0.8.0 in /usr/local/lib/python3.7/dist-packages (from jedi>=0.16->IPython~=7.25.0->sberpm) (0.8.3)\n",
            "Requirement already satisfied: python-dateutil>=2.7 in /usr/local/lib/python3.7/dist-packages (from matplotlib~=3.4.2->sberpm) (2.8.2)\n",
            "Requirement already satisfied: kiwisolver>=1.0.1 in /usr/local/lib/python3.7/dist-packages (from matplotlib~=3.4.2->sberpm) (1.4.2)\n",
            "Requirement already satisfied: pillow>=6.2.0 in /usr/local/lib/python3.7/dist-packages (from matplotlib~=3.4.2->sberpm) (7.1.2)\n",
            "Requirement already satisfied: pyparsing>=2.2.1 in /usr/local/lib/python3.7/dist-packages (from matplotlib~=3.4.2->sberpm) (3.0.8)\n",
            "Requirement already satisfied: cycler>=0.10 in /usr/local/lib/python3.7/dist-packages (from matplotlib~=3.4.2->sberpm) (0.11.0)\n",
            "Requirement already satisfied: typing-extensions in /usr/local/lib/python3.7/dist-packages (from kiwisolver>=1.0.1->matplotlib~=3.4.2->sberpm) (4.2.0)\n",
            "Requirement already satisfied: fastjsonschema in /usr/local/lib/python3.7/dist-packages (from nbformat>=4.2.0->sberpm) (2.15.3)\n",
            "Requirement already satisfied: jupyter-core in /usr/local/lib/python3.7/dist-packages (from nbformat>=4.2.0->sberpm) (4.10.0)\n",
            "Requirement already satisfied: jsonschema>=2.6 in /usr/local/lib/python3.7/dist-packages (from nbformat>=4.2.0->sberpm) (4.3.3)\n",
            "Requirement already satisfied: importlib-resources>=1.4.0 in /usr/local/lib/python3.7/dist-packages (from jsonschema>=2.6->nbformat>=4.2.0->sberpm) (5.7.1)\n",
            "Requirement already satisfied: importlib-metadata in /usr/local/lib/python3.7/dist-packages (from jsonschema>=2.6->nbformat>=4.2.0->sberpm) (4.11.3)\n",
            "Requirement already satisfied: attrs>=17.4.0 in /usr/local/lib/python3.7/dist-packages (from jsonschema>=2.6->nbformat>=4.2.0->sberpm) (21.4.0)\n",
            "Requirement already satisfied: pyrsistent!=0.17.0,!=0.17.1,!=0.17.2,>=0.14.0 in /usr/local/lib/python3.7/dist-packages (from jsonschema>=2.6->nbformat>=4.2.0->sberpm) (0.18.1)\n",
            "Requirement already satisfied: zipp>=3.1.0 in /usr/local/lib/python3.7/dist-packages (from importlib-resources>=1.4.0->jsonschema>=2.6->nbformat>=4.2.0->sberpm) (3.8.0)\n",
            "Requirement already satisfied: pytz>=2017.3 in /usr/local/lib/python3.7/dist-packages (from pandas>=1.1.0->sberpm) (2022.1)\n",
            "Requirement already satisfied: ptyprocess>=0.5 in /usr/local/lib/python3.7/dist-packages (from pexpect>4.3->IPython~=7.25.0->sberpm) (0.7.0)\n",
            "Requirement already satisfied: tenacity>=6.2.0 in /usr/local/lib/python3.7/dist-packages (from plotly>=4.9.0->sberpm) (8.0.1)\n",
            "Requirement already satisfied: six in /usr/local/lib/python3.7/dist-packages (from plotly>=4.9.0->sberpm) (1.15.0)\n",
            "Requirement already satisfied: wcwidth in /usr/local/lib/python3.7/dist-packages (from prompt-toolkit!=3.0.0,!=3.0.1,<3.1.0,>=2.0.0->IPython~=7.25.0->sberpm) (0.2.5)\n",
            "Requirement already satisfied: threadpoolctl>=2.0.0 in /usr/local/lib/python3.7/dist-packages (from scikit-learn>=0.23.2->sberpm) (3.1.0)\n",
            "Requirement already satisfied: joblib>=0.11 in /usr/local/lib/python3.7/dist-packages (from scikit-learn>=0.23.2->sberpm) (1.1.0)\n",
            "Collecting dawg-python>=0.7.1\n",
            "  Downloading DAWG_Python-0.7.2-py2.py3-none-any.whl (11 kB)\n",
            "Collecting pymorphy2-dicts-ru<3.0,>=2.4\n",
            "  Downloading pymorphy2_dicts_ru-2.4.417127.4579844-py2.py3-none-any.whl (8.2 MB)\n",
            "\u001b[K     |████████████████████████████████| 8.2 MB 26.3 MB/s \n",
            "\u001b[?25hRequirement already satisfied: docopt>=0.6 in /usr/local/lib/python3.7/dist-packages (from pymorphy2->sberpm) (0.6.2)\n",
            "Building wheels for collected packages: sberpm\n",
            "  Building wheel for sberpm (setup.py) ... \u001b[?25l\u001b[?25hdone\n",
            "  Created wheel for sberpm: filename=sberpm-1.3.0-py3-none-any.whl size=134397 sha256=4bd69b1815c812e9ba5671ca97bd7c95f7ccf5a207dc46fb6d97439ee0613a96\n",
            "  Stored in directory: /root/.cache/pip/wheels/e7/c6/06/038ee19b16fac1277e41166adf4b682c2b29cc82bfff9a5e94\n",
            "Successfully built sberpm\n",
            "Installing collected packages: setuptools, pymorphy2-dicts-ru, prompt-toolkit, dawg-python, pymorphy2, matplotlib, IPython, graphviz, sberpm\n",
            "  Attempting uninstall: setuptools\n",
            "    Found existing installation: setuptools 57.4.0\n",
            "    Uninstalling setuptools-57.4.0:\n",
            "      Successfully uninstalled setuptools-57.4.0\n",
            "  Attempting uninstall: prompt-toolkit\n",
            "    Found existing installation: prompt-toolkit 1.0.18\n",
            "    Uninstalling prompt-toolkit-1.0.18:\n",
            "      Successfully uninstalled prompt-toolkit-1.0.18\n",
            "  Attempting uninstall: matplotlib\n",
            "    Found existing installation: matplotlib 3.2.2\n",
            "    Uninstalling matplotlib-3.2.2:\n",
            "      Successfully uninstalled matplotlib-3.2.2\n",
            "  Attempting uninstall: IPython\n",
            "    Found existing installation: ipython 5.5.0\n",
            "    Uninstalling ipython-5.5.0:\n",
            "      Successfully uninstalled ipython-5.5.0\n",
            "  Attempting uninstall: graphviz\n",
            "    Found existing installation: graphviz 0.10.1\n",
            "    Uninstalling graphviz-0.10.1:\n",
            "      Successfully uninstalled graphviz-0.10.1\n",
            "\u001b[31mERROR: pip's dependency resolver does not currently take into account all the packages that are installed. This behaviour is the source of the following dependency conflicts.\n",
            "tensorflow 2.8.0 requires tf-estimator-nightly==2.8.0.dev2021122109, which is not installed.\n",
            "jupyter-console 5.2.0 requires prompt-toolkit<2.0.0,>=1.0.0, but you have prompt-toolkit 3.0.29 which is incompatible.\n",
            "google-colab 1.0.0 requires ipython~=5.5.0, but you have ipython 7.25.0 which is incompatible.\n",
            "datascience 0.10.6 requires folium==0.2.1, but you have folium 0.8.3 which is incompatible.\n",
            "albumentations 0.1.12 requires imgaug<0.2.7,>=0.2.5, but you have imgaug 0.2.9 which is incompatible.\u001b[0m\n",
            "Successfully installed IPython-7.25.0 dawg-python-0.7.2 graphviz-0.20 matplotlib-3.4.3 prompt-toolkit-3.0.29 pymorphy2-0.9.1 pymorphy2-dicts-ru-2.4.417127.4579844 sberpm-1.3.0 setuptools-47.1.1\n"
          ]
        },
        {
          "output_type": "display_data",
          "data": {
            "application/vnd.colab-display-data+json": {
              "pip_warning": {
                "packages": [
                  "IPython",
                  "matplotlib",
                  "mpl_toolkits",
                  "pkg_resources",
                  "prompt_toolkit"
                ]
              }
            }
          },
          "metadata": {}
        }
      ]
    },
    {
      "cell_type": "code",
      "execution_count": null,
      "metadata": {
        "id": "2CPym_DEjXYp"
      },
      "outputs": [],
      "source": [
        "df = pd.read_csv(\"assignment_2_sample.csv\")\n",
        "df['stage_datetime'] = pd.to_datetime(df.stage_datetime, format='%Y-%m-%d %H:%M:%S')"
      ],
      "id": "2CPym_DEjXYp"
    },
    {
      "cell_type": "code",
      "execution_count": null,
      "metadata": {
        "colab": {
          "base_uri": "https://localhost:8080/",
          "height": 424
        },
        "id": "uKO5HgcmjXYq",
        "outputId": "6275b8e3-8756-403b-99b7-379fc5459f7d"
      },
      "outputs": [
        {
          "output_type": "execute_result",
          "data": {
            "text/plain": [
              "                                 case_id      stage      stage_datetime\n",
              "0       59f8f1b02a074048ae66485008a516ea   Stage_29 2020-07-28 05:04:15\n",
              "1       59f8f1b02a074048ae66485008a516ea  Stage_148 2020-08-02 01:52:53\n",
              "2       59f8f1b02a074048ae66485008a516ea    Stage_1 2020-08-02 03:51:29\n",
              "3       59f8f1b02a074048ae66485008a516ea   Stage_40 2020-08-02 05:40:56\n",
              "4       59f8f1b02a074048ae66485008a516ea   Stage_60 2020-08-02 05:53:43\n",
              "...                                  ...        ...                 ...\n",
              "894673  773d5dbcd29a452792e65994cb2e931e   Stage_10 2021-07-23 14:32:05\n",
              "894674  773d5dbcd29a452792e65994cb2e931e    Stage_3 2021-07-23 14:37:40\n",
              "894675  773d5dbcd29a452792e65994cb2e931e    Stage_0 2021-07-23 14:54:37\n",
              "894676  773d5dbcd29a452792e65994cb2e931e   Stage_34 2021-07-24 08:26:17\n",
              "894677  773d5dbcd29a452792e65994cb2e931e    Stage_0 2021-08-01 07:32:58\n",
              "\n",
              "[894678 rows x 3 columns]"
            ],
            "text/html": [
              "\n",
              "  <div id=\"df-83030184-7d7c-452f-97e4-29d315ef706d\">\n",
              "    <div class=\"colab-df-container\">\n",
              "      <div>\n",
              "<style scoped>\n",
              "    .dataframe tbody tr th:only-of-type {\n",
              "        vertical-align: middle;\n",
              "    }\n",
              "\n",
              "    .dataframe tbody tr th {\n",
              "        vertical-align: top;\n",
              "    }\n",
              "\n",
              "    .dataframe thead th {\n",
              "        text-align: right;\n",
              "    }\n",
              "</style>\n",
              "<table border=\"1\" class=\"dataframe\">\n",
              "  <thead>\n",
              "    <tr style=\"text-align: right;\">\n",
              "      <th></th>\n",
              "      <th>case_id</th>\n",
              "      <th>stage</th>\n",
              "      <th>stage_datetime</th>\n",
              "    </tr>\n",
              "  </thead>\n",
              "  <tbody>\n",
              "    <tr>\n",
              "      <th>0</th>\n",
              "      <td>59f8f1b02a074048ae66485008a516ea</td>\n",
              "      <td>Stage_29</td>\n",
              "      <td>2020-07-28 05:04:15</td>\n",
              "    </tr>\n",
              "    <tr>\n",
              "      <th>1</th>\n",
              "      <td>59f8f1b02a074048ae66485008a516ea</td>\n",
              "      <td>Stage_148</td>\n",
              "      <td>2020-08-02 01:52:53</td>\n",
              "    </tr>\n",
              "    <tr>\n",
              "      <th>2</th>\n",
              "      <td>59f8f1b02a074048ae66485008a516ea</td>\n",
              "      <td>Stage_1</td>\n",
              "      <td>2020-08-02 03:51:29</td>\n",
              "    </tr>\n",
              "    <tr>\n",
              "      <th>3</th>\n",
              "      <td>59f8f1b02a074048ae66485008a516ea</td>\n",
              "      <td>Stage_40</td>\n",
              "      <td>2020-08-02 05:40:56</td>\n",
              "    </tr>\n",
              "    <tr>\n",
              "      <th>4</th>\n",
              "      <td>59f8f1b02a074048ae66485008a516ea</td>\n",
              "      <td>Stage_60</td>\n",
              "      <td>2020-08-02 05:53:43</td>\n",
              "    </tr>\n",
              "    <tr>\n",
              "      <th>...</th>\n",
              "      <td>...</td>\n",
              "      <td>...</td>\n",
              "      <td>...</td>\n",
              "    </tr>\n",
              "    <tr>\n",
              "      <th>894673</th>\n",
              "      <td>773d5dbcd29a452792e65994cb2e931e</td>\n",
              "      <td>Stage_10</td>\n",
              "      <td>2021-07-23 14:32:05</td>\n",
              "    </tr>\n",
              "    <tr>\n",
              "      <th>894674</th>\n",
              "      <td>773d5dbcd29a452792e65994cb2e931e</td>\n",
              "      <td>Stage_3</td>\n",
              "      <td>2021-07-23 14:37:40</td>\n",
              "    </tr>\n",
              "    <tr>\n",
              "      <th>894675</th>\n",
              "      <td>773d5dbcd29a452792e65994cb2e931e</td>\n",
              "      <td>Stage_0</td>\n",
              "      <td>2021-07-23 14:54:37</td>\n",
              "    </tr>\n",
              "    <tr>\n",
              "      <th>894676</th>\n",
              "      <td>773d5dbcd29a452792e65994cb2e931e</td>\n",
              "      <td>Stage_34</td>\n",
              "      <td>2021-07-24 08:26:17</td>\n",
              "    </tr>\n",
              "    <tr>\n",
              "      <th>894677</th>\n",
              "      <td>773d5dbcd29a452792e65994cb2e931e</td>\n",
              "      <td>Stage_0</td>\n",
              "      <td>2021-08-01 07:32:58</td>\n",
              "    </tr>\n",
              "  </tbody>\n",
              "</table>\n",
              "<p>894678 rows × 3 columns</p>\n",
              "</div>\n",
              "      <button class=\"colab-df-convert\" onclick=\"convertToInteractive('df-83030184-7d7c-452f-97e4-29d315ef706d')\"\n",
              "              title=\"Convert this dataframe to an interactive table.\"\n",
              "              style=\"display:none;\">\n",
              "        \n",
              "  <svg xmlns=\"http://www.w3.org/2000/svg\" height=\"24px\"viewBox=\"0 0 24 24\"\n",
              "       width=\"24px\">\n",
              "    <path d=\"M0 0h24v24H0V0z\" fill=\"none\"/>\n",
              "    <path d=\"M18.56 5.44l.94 2.06.94-2.06 2.06-.94-2.06-.94-.94-2.06-.94 2.06-2.06.94zm-11 1L8.5 8.5l.94-2.06 2.06-.94-2.06-.94L8.5 2.5l-.94 2.06-2.06.94zm10 10l.94 2.06.94-2.06 2.06-.94-2.06-.94-.94-2.06-.94 2.06-2.06.94z\"/><path d=\"M17.41 7.96l-1.37-1.37c-.4-.4-.92-.59-1.43-.59-.52 0-1.04.2-1.43.59L10.3 9.45l-7.72 7.72c-.78.78-.78 2.05 0 2.83L4 21.41c.39.39.9.59 1.41.59.51 0 1.02-.2 1.41-.59l7.78-7.78 2.81-2.81c.8-.78.8-2.07 0-2.86zM5.41 20L4 18.59l7.72-7.72 1.47 1.35L5.41 20z\"/>\n",
              "  </svg>\n",
              "      </button>\n",
              "      \n",
              "  <style>\n",
              "    .colab-df-container {\n",
              "      display:flex;\n",
              "      flex-wrap:wrap;\n",
              "      gap: 12px;\n",
              "    }\n",
              "\n",
              "    .colab-df-convert {\n",
              "      background-color: #E8F0FE;\n",
              "      border: none;\n",
              "      border-radius: 50%;\n",
              "      cursor: pointer;\n",
              "      display: none;\n",
              "      fill: #1967D2;\n",
              "      height: 32px;\n",
              "      padding: 0 0 0 0;\n",
              "      width: 32px;\n",
              "    }\n",
              "\n",
              "    .colab-df-convert:hover {\n",
              "      background-color: #E2EBFA;\n",
              "      box-shadow: 0px 1px 2px rgba(60, 64, 67, 0.3), 0px 1px 3px 1px rgba(60, 64, 67, 0.15);\n",
              "      fill: #174EA6;\n",
              "    }\n",
              "\n",
              "    [theme=dark] .colab-df-convert {\n",
              "      background-color: #3B4455;\n",
              "      fill: #D2E3FC;\n",
              "    }\n",
              "\n",
              "    [theme=dark] .colab-df-convert:hover {\n",
              "      background-color: #434B5C;\n",
              "      box-shadow: 0px 1px 3px 1px rgba(0, 0, 0, 0.15);\n",
              "      filter: drop-shadow(0px 1px 2px rgba(0, 0, 0, 0.3));\n",
              "      fill: #FFFFFF;\n",
              "    }\n",
              "  </style>\n",
              "\n",
              "      <script>\n",
              "        const buttonEl =\n",
              "          document.querySelector('#df-83030184-7d7c-452f-97e4-29d315ef706d button.colab-df-convert');\n",
              "        buttonEl.style.display =\n",
              "          google.colab.kernel.accessAllowed ? 'block' : 'none';\n",
              "\n",
              "        async function convertToInteractive(key) {\n",
              "          const element = document.querySelector('#df-83030184-7d7c-452f-97e4-29d315ef706d');\n",
              "          const dataTable =\n",
              "            await google.colab.kernel.invokeFunction('convertToInteractive',\n",
              "                                                     [key], {});\n",
              "          if (!dataTable) return;\n",
              "\n",
              "          const docLinkHtml = 'Like what you see? Visit the ' +\n",
              "            '<a target=\"_blank\" href=https://colab.research.google.com/notebooks/data_table.ipynb>data table notebook</a>'\n",
              "            + ' to learn more about interactive tables.';\n",
              "          element.innerHTML = '';\n",
              "          dataTable['output_type'] = 'display_data';\n",
              "          await google.colab.output.renderOutput(dataTable, element);\n",
              "          const docLink = document.createElement('div');\n",
              "          docLink.innerHTML = docLinkHtml;\n",
              "          element.appendChild(docLink);\n",
              "        }\n",
              "      </script>\n",
              "    </div>\n",
              "  </div>\n",
              "  "
            ]
          },
          "metadata": {},
          "execution_count": 11
        }
      ],
      "source": [
        "df"
      ],
      "id": "uKO5HgcmjXYq"
    },
    {
      "cell_type": "code",
      "execution_count": null,
      "metadata": {
        "id": "5jm4jgMZjXYr"
      },
      "outputs": [],
      "source": [
        "targets = pd.read_csv(\"assignment_2_targets.csv\")"
      ],
      "id": "5jm4jgMZjXYr"
    },
    {
      "cell_type": "code",
      "execution_count": null,
      "metadata": {
        "colab": {
          "base_uri": "https://localhost:8080/",
          "height": 424
        },
        "id": "eBZaEsrCjXYr",
        "outputId": "3edf67e9-5ff3-4ccd-9132-925370b12e03"
      },
      "outputs": [
        {
          "output_type": "execute_result",
          "data": {
            "text/plain": [
              "                              case_id  target\n",
              "0    604a550439d644718ea6e1693fbf03dc     0.0\n",
              "1    6dee55b3d7284d18bed3094ee3103812     1.0\n",
              "2    5f3b2dbc151f4067bf9d898a375e0593     0.0\n",
              "3    5c4fbe21d35943818d110e7aaec739c7     0.0\n",
              "4    6b92c6ad123648a4aa8058a348fe3c56     1.0\n",
              "..                                ...     ...\n",
              "995  62fa7ce4df934039987bc51d6673ad2e     0.0\n",
              "996  69e225f9821a46e1a6dda900132f1330     1.0\n",
              "997  76da2b2f65cf4162bcdb264c0322288e     1.0\n",
              "998  672861216fdf47a582ffa519db221810     1.0\n",
              "999  67d608d085d6489197cfc4b6e61a7842     1.0\n",
              "\n",
              "[1000 rows x 2 columns]"
            ],
            "text/html": [
              "\n",
              "  <div id=\"df-7e1a5925-4219-4263-83b1-0f09af9fd8e9\">\n",
              "    <div class=\"colab-df-container\">\n",
              "      <div>\n",
              "<style scoped>\n",
              "    .dataframe tbody tr th:only-of-type {\n",
              "        vertical-align: middle;\n",
              "    }\n",
              "\n",
              "    .dataframe tbody tr th {\n",
              "        vertical-align: top;\n",
              "    }\n",
              "\n",
              "    .dataframe thead th {\n",
              "        text-align: right;\n",
              "    }\n",
              "</style>\n",
              "<table border=\"1\" class=\"dataframe\">\n",
              "  <thead>\n",
              "    <tr style=\"text-align: right;\">\n",
              "      <th></th>\n",
              "      <th>case_id</th>\n",
              "      <th>target</th>\n",
              "    </tr>\n",
              "  </thead>\n",
              "  <tbody>\n",
              "    <tr>\n",
              "      <th>0</th>\n",
              "      <td>604a550439d644718ea6e1693fbf03dc</td>\n",
              "      <td>0.0</td>\n",
              "    </tr>\n",
              "    <tr>\n",
              "      <th>1</th>\n",
              "      <td>6dee55b3d7284d18bed3094ee3103812</td>\n",
              "      <td>1.0</td>\n",
              "    </tr>\n",
              "    <tr>\n",
              "      <th>2</th>\n",
              "      <td>5f3b2dbc151f4067bf9d898a375e0593</td>\n",
              "      <td>0.0</td>\n",
              "    </tr>\n",
              "    <tr>\n",
              "      <th>3</th>\n",
              "      <td>5c4fbe21d35943818d110e7aaec739c7</td>\n",
              "      <td>0.0</td>\n",
              "    </tr>\n",
              "    <tr>\n",
              "      <th>4</th>\n",
              "      <td>6b92c6ad123648a4aa8058a348fe3c56</td>\n",
              "      <td>1.0</td>\n",
              "    </tr>\n",
              "    <tr>\n",
              "      <th>...</th>\n",
              "      <td>...</td>\n",
              "      <td>...</td>\n",
              "    </tr>\n",
              "    <tr>\n",
              "      <th>995</th>\n",
              "      <td>62fa7ce4df934039987bc51d6673ad2e</td>\n",
              "      <td>0.0</td>\n",
              "    </tr>\n",
              "    <tr>\n",
              "      <th>996</th>\n",
              "      <td>69e225f9821a46e1a6dda900132f1330</td>\n",
              "      <td>1.0</td>\n",
              "    </tr>\n",
              "    <tr>\n",
              "      <th>997</th>\n",
              "      <td>76da2b2f65cf4162bcdb264c0322288e</td>\n",
              "      <td>1.0</td>\n",
              "    </tr>\n",
              "    <tr>\n",
              "      <th>998</th>\n",
              "      <td>672861216fdf47a582ffa519db221810</td>\n",
              "      <td>1.0</td>\n",
              "    </tr>\n",
              "    <tr>\n",
              "      <th>999</th>\n",
              "      <td>67d608d085d6489197cfc4b6e61a7842</td>\n",
              "      <td>1.0</td>\n",
              "    </tr>\n",
              "  </tbody>\n",
              "</table>\n",
              "<p>1000 rows × 2 columns</p>\n",
              "</div>\n",
              "      <button class=\"colab-df-convert\" onclick=\"convertToInteractive('df-7e1a5925-4219-4263-83b1-0f09af9fd8e9')\"\n",
              "              title=\"Convert this dataframe to an interactive table.\"\n",
              "              style=\"display:none;\">\n",
              "        \n",
              "  <svg xmlns=\"http://www.w3.org/2000/svg\" height=\"24px\"viewBox=\"0 0 24 24\"\n",
              "       width=\"24px\">\n",
              "    <path d=\"M0 0h24v24H0V0z\" fill=\"none\"/>\n",
              "    <path d=\"M18.56 5.44l.94 2.06.94-2.06 2.06-.94-2.06-.94-.94-2.06-.94 2.06-2.06.94zm-11 1L8.5 8.5l.94-2.06 2.06-.94-2.06-.94L8.5 2.5l-.94 2.06-2.06.94zm10 10l.94 2.06.94-2.06 2.06-.94-2.06-.94-.94-2.06-.94 2.06-2.06.94z\"/><path d=\"M17.41 7.96l-1.37-1.37c-.4-.4-.92-.59-1.43-.59-.52 0-1.04.2-1.43.59L10.3 9.45l-7.72 7.72c-.78.78-.78 2.05 0 2.83L4 21.41c.39.39.9.59 1.41.59.51 0 1.02-.2 1.41-.59l7.78-7.78 2.81-2.81c.8-.78.8-2.07 0-2.86zM5.41 20L4 18.59l7.72-7.72 1.47 1.35L5.41 20z\"/>\n",
              "  </svg>\n",
              "      </button>\n",
              "      \n",
              "  <style>\n",
              "    .colab-df-container {\n",
              "      display:flex;\n",
              "      flex-wrap:wrap;\n",
              "      gap: 12px;\n",
              "    }\n",
              "\n",
              "    .colab-df-convert {\n",
              "      background-color: #E8F0FE;\n",
              "      border: none;\n",
              "      border-radius: 50%;\n",
              "      cursor: pointer;\n",
              "      display: none;\n",
              "      fill: #1967D2;\n",
              "      height: 32px;\n",
              "      padding: 0 0 0 0;\n",
              "      width: 32px;\n",
              "    }\n",
              "\n",
              "    .colab-df-convert:hover {\n",
              "      background-color: #E2EBFA;\n",
              "      box-shadow: 0px 1px 2px rgba(60, 64, 67, 0.3), 0px 1px 3px 1px rgba(60, 64, 67, 0.15);\n",
              "      fill: #174EA6;\n",
              "    }\n",
              "\n",
              "    [theme=dark] .colab-df-convert {\n",
              "      background-color: #3B4455;\n",
              "      fill: #D2E3FC;\n",
              "    }\n",
              "\n",
              "    [theme=dark] .colab-df-convert:hover {\n",
              "      background-color: #434B5C;\n",
              "      box-shadow: 0px 1px 3px 1px rgba(0, 0, 0, 0.15);\n",
              "      filter: drop-shadow(0px 1px 2px rgba(0, 0, 0, 0.3));\n",
              "      fill: #FFFFFF;\n",
              "    }\n",
              "  </style>\n",
              "\n",
              "      <script>\n",
              "        const buttonEl =\n",
              "          document.querySelector('#df-7e1a5925-4219-4263-83b1-0f09af9fd8e9 button.colab-df-convert');\n",
              "        buttonEl.style.display =\n",
              "          google.colab.kernel.accessAllowed ? 'block' : 'none';\n",
              "\n",
              "        async function convertToInteractive(key) {\n",
              "          const element = document.querySelector('#df-7e1a5925-4219-4263-83b1-0f09af9fd8e9');\n",
              "          const dataTable =\n",
              "            await google.colab.kernel.invokeFunction('convertToInteractive',\n",
              "                                                     [key], {});\n",
              "          if (!dataTable) return;\n",
              "\n",
              "          const docLinkHtml = 'Like what you see? Visit the ' +\n",
              "            '<a target=\"_blank\" href=https://colab.research.google.com/notebooks/data_table.ipynb>data table notebook</a>'\n",
              "            + ' to learn more about interactive tables.';\n",
              "          element.innerHTML = '';\n",
              "          dataTable['output_type'] = 'display_data';\n",
              "          await google.colab.output.renderOutput(dataTable, element);\n",
              "          const docLink = document.createElement('div');\n",
              "          docLink.innerHTML = docLinkHtml;\n",
              "          element.appendChild(docLink);\n",
              "        }\n",
              "      </script>\n",
              "    </div>\n",
              "  </div>\n",
              "  "
            ]
          },
          "metadata": {},
          "execution_count": 13
        }
      ],
      "source": [
        "targets"
      ],
      "id": "eBZaEsrCjXYr"
    },
    {
      "cell_type": "code",
      "execution_count": null,
      "metadata": {
        "colab": {
          "base_uri": "https://localhost:8080/"
        },
        "id": "1NgMwgr9jXYr",
        "outputId": "ccacf7b2-1687-4777-c511-8d5b4db4eb89"
      },
      "outputs": [
        {
          "output_type": "stream",
          "name": "stdout",
          "text": [
            "                              case_id      stage      stage_datetime\n",
            "0    59f8f1b02a074048ae66485008a516ea   Stage_29 2020-07-28 05:04:15\n",
            "1    59f8f1b02a074048ae66485008a516ea  Stage_148 2020-08-02 01:52:53\n",
            "2    59f8f1b02a074048ae66485008a516ea    Stage_1 2020-08-02 03:51:29\n",
            "3    59f8f1b02a074048ae66485008a516ea   Stage_40 2020-08-02 05:40:56\n",
            "4    59f8f1b02a074048ae66485008a516ea   Stage_60 2020-08-02 05:53:43\n",
            "..                                ...        ...                 ...\n",
            "914  59f8f1b02a074048ae66485008a516ea   Stage_65 2021-07-29 10:08:32\n",
            "915  59f8f1b02a074048ae66485008a516ea   Stage_23 2021-07-29 23:29:55\n",
            "916  59f8f1b02a074048ae66485008a516ea    Stage_0 2021-07-31 03:25:42\n",
            "917  59f8f1b02a074048ae66485008a516ea    Stage_7 2021-07-31 05:26:32\n",
            "918  59f8f1b02a074048ae66485008a516ea    Stage_0 2021-08-04 02:53:54\n",
            "\n",
            "[919 rows x 3 columns] \n",
            "\n",
            "\n",
            "                              case_id  target\n",
            "803  59f8f1b02a074048ae66485008a516ea     1.0 \n",
            "\n",
            "\n"
          ]
        }
      ],
      "source": [
        "# пример одной цепочки процесса и соотв. ей класса\n",
        "\n",
        "sample = df[df.case_id == df.case_id[0]]\n",
        "sample_target = targets[targets.case_id == df.case_id[0]]\n",
        "\n",
        "print(sample, '\\n\\n')\n",
        "print(sample_target, '\\n\\n')"
      ],
      "id": "1NgMwgr9jXYr"
    },
    {
      "cell_type": "markdown",
      "metadata": {
        "id": "4N5I-KrRjXYs"
      },
      "source": [
        "#####  Пример: построение эмбеддингов с помощью word2vec и контекста Direct Follower Graph"
      ],
      "id": "4N5I-KrRjXYs"
    },
    {
      "cell_type": "markdown",
      "metadata": {
        "id": "333bTd5xjXYs"
      },
      "source": [
        "! Note: Direct follower graph состоит из всех этапов и прямых переходов процесса"
      ],
      "id": "333bTd5xjXYs"
    },
    {
      "cell_type": "code",
      "execution_count": null,
      "metadata": {
        "id": "Fkd-0PPEjXYs"
      },
      "outputs": [],
      "source": [
        "import xgboost as xgb\n",
        "from sklearn.model_selection import train_test_split\n",
        "from sklearn.metrics import roc_auc_score"
      ],
      "id": "Fkd-0PPEjXYs"
    },
    {
      "cell_type": "code",
      "execution_count": null,
      "metadata": {
        "id": "ZP_37lB6jXYt"
      },
      "outputs": [],
      "source": [
        "# Отсортируем этапы процесса по времени для каждого id:\n",
        "df = df.sort_values(['case_id', 'stage_datetime'])"
      ],
      "id": "ZP_37lB6jXYt"
    },
    {
      "cell_type": "code",
      "execution_count": null,
      "metadata": {
        "id": "psRtvW8NjXYt"
      },
      "outputs": [],
      "source": [
        "# Воспользуемся библиотекой sberPM для построения векторного представления\n",
        "\n",
        "from sberpm.ml.vectorizer import ProcessWord2Vec, ProcessCountVectorizer\n",
        "from sberpm import DataHolder\n",
        "\n",
        "class SimpleDFG:\n",
        "    def __init__(self, train_df, target_df, algo_name):\n",
        "        self.train_df = train_df\n",
        "        self.targets = target_df\n",
        "        self.algo_name = algo_name\n",
        "        \n",
        "    def make_splits(self):\n",
        "        self.X_train, self.X_test, self.y_train, self.y_test = train_test_split(\n",
        "            self.embeddings, self.targets.target, test_size=0.3, random_state=0)\n",
        "        \n",
        "    def get_embeddings(self):\n",
        "        data_holder = DataHolder(data=self.train_df, \n",
        "                                             id_column='case_id', \n",
        "                                             activity_column='stage', \n",
        "                                             start_timestamp_column='stage_datetime', \n",
        "                                             time_format='%Y-%m-%d %H:%M:%S')\n",
        "        vectorizer = ProcessWord2Vec(8)\n",
        "        vectorizer.fit(data_holder = data_holder)\n",
        "        self.embeddings = vectorizer.transform(data_holder)\n",
        "        \n",
        "    def train_estimator(self):        \n",
        "        self.cls = xgb.XGBClassifier(n_estimators=300, max_depth=5)\n",
        "        self.cls.fit(self.X_train, self.y_train)\n",
        "        \n",
        "    def run_pipeline(self):\n",
        "        self.get_embeddings()\n",
        "        print('Embeddings ready \\n')\n",
        "        self.make_splits()\n",
        "        print('Training started... \\n')\n",
        "        self.train_estimator()\n",
        "        print(f'ROC-AUC @ validation for {self.algo_name} algorithm is {roc_auc_score(self.y_test, self.cls.predict(self.X_test))}')"
      ],
      "id": "psRtvW8NjXYt"
    },
    {
      "cell_type": "code",
      "execution_count": null,
      "metadata": {
        "id": "KmLYVMisjXYt"
      },
      "outputs": [],
      "source": [
        "simple_dfg_predictor = SimpleDFG(df, targets, 'w2v')"
      ],
      "id": "KmLYVMisjXYt"
    },
    {
      "cell_type": "code",
      "execution_count": null,
      "metadata": {
        "colab": {
          "base_uri": "https://localhost:8080/"
        },
        "id": "TF3Fg9s2jXYu",
        "outputId": "da6232e5-ef92-4f25-eab7-85d8ccd1319d"
      },
      "outputs": [
        {
          "output_type": "stream",
          "name": "stdout",
          "text": [
            "Embeddings ready \n",
            "\n",
            "Training started... \n",
            "\n",
            "ROC-AUC @ validation for w2v algorithm is 0.5043633922577758\n"
          ]
        }
      ],
      "source": [
        "# Может занять много времени!\n",
        "simple_dfg_predictor.run_pipeline()"
      ],
      "id": "TF3Fg9s2jXYu"
    },
    {
      "cell_type": "markdown",
      "metadata": {
        "id": "HWhZ0BuGjXYu"
      },
      "source": [
        "Как видим, итоговое значение по метрике на валидации получилось ~0.51<br>\n",
        "w2v, как известно, не учитывает последовательность шагов (не важно направление ребер в графе) - что будет с метрикой, если такое направление учесть?"
      ],
      "id": "HWhZ0BuGjXYu"
    },
    {
      "cell_type": "markdown",
      "metadata": {
        "id": "2R1xVOLFjXYu"
      },
      "source": [
        "#####  Задание: построение эмбеддингов с помощью HOPE и контекста Heuristics Miner"
      ],
      "id": "2R1xVOLFjXYu"
    },
    {
      "cell_type": "markdown",
      "metadata": {
        "id": "dgCaDQLEjXYv"
      },
      "source": [
        "\n",
        "В этом задании необходимо реализовать алгоритм, который получает на вход: <br>\n",
        "1. `pandas.DataFrame()` со столбцами `case_id, stage, stage_datetime` \n",
        "2. `pandas.DataFrame()` со столбцами `case_id, target` (задача бинарной классификации)\n",
        "3. `string` с указанием `algo_name` \n",
        "\n",
        "И возвращает значение метрики `roc_auc` и `pandas.DataFrame()` со столбцами `case_id, target, predicted, algo_name`\n",
        "\n",
        "ВАЖНО: последовательности этапов ABC | ACB должны интерпретироваться как разные последовательности и итоговый эмбеддинг *может* отличаться.<br>\n",
        "\n",
        "Для реализации можно использовать HOPE и word2mat, о которых говорили в лекции. Или использовать LSTM :)"
      ],
      "id": "dgCaDQLEjXYv"
    },
    {
      "cell_type": "code",
      "execution_count": null,
      "metadata": {
        "id": "EPGiwx80jXYv"
      },
      "outputs": [],
      "source": [
        "# большинство майнеров уже реализовано в sberpm\n",
        "from sberpm.miners import SimpleMiner, AlphaMiner, AlphaPlusMiner, HeuMiner\n",
        "from sberpm.ml.vectorizer import HopeVectorizer, katz_index, adamic_adar"
      ],
      "id": "EPGiwx80jXYv"
    },
    {
      "cell_type": "code",
      "execution_count": null,
      "metadata": {
        "id": "qLvQ3aItjXYv"
      },
      "outputs": [],
      "source": [
        "from sberpm.ml.vectorizer._graph_embedding_utils.proximity_measures import rooted_pr\n",
        "class ContextEmbedder:\n",
        "    def __init__(self, train_df, target_df, algo_name):\n",
        "        self.train_df = train_df\n",
        "        self.targets = target_df\n",
        "        self.algo_name = algo_name\n",
        "        \n",
        "    def make_splits(self):\n",
        "        self.X_train, self.X_test, self.y_train, self.y_test = train_test_split(\n",
        "            self.embeddings, self.targets.target, test_size=0.3, random_state=0)\n",
        "        \n",
        "    def get_embeddings(self):\n",
        "        data_holder = DataHolder(data=self.train_df, \n",
        "                                             id_column='case_id', \n",
        "                                             activity_column='stage', \n",
        "                                             start_timestamp_column='stage_datetime', \n",
        "                                             time_format='%Y-%m-%d %H:%M:%S')\n",
        "\n",
        "        vectorizer = HopeVectorizer()\n",
        "        trace_vectors = vectorizer.transform(data_holder, HeuMiner, 8, katz_index, 3)[0]\n",
        "        self.embeddings =  np.concatenate([el[0] for el in trace_vectors])\n",
        "\n",
        "    def train_estimator(self):        \n",
        "        self.cls = xgb.XGBClassifier(n_estimators=300, max_depth=5)\n",
        "        self.cls.fit(self.X_train, self.y_train)\n",
        "        \n",
        "    def run_pipeline(self):\n",
        "        self.get_embeddings()\n",
        "        print('Embeddings ready \\n')\n",
        "        self.make_splits()\n",
        "        print('Training started... \\n')\n",
        "        self.train_estimator()\n",
        "        print(f'ROC-AUC @ validation for {self.algo_name} algorithm is {roc_auc_score(self.y_test, self.cls.predict(self.X_test))}')"
      ],
      "id": "qLvQ3aItjXYv"
    },
    {
      "cell_type": "code",
      "execution_count": null,
      "metadata": {
        "id": "z92pJ2bjjXYw"
      },
      "outputs": [],
      "source": [
        "context_embedder_predictor = ContextEmbedder(df, targets, 'w2m')"
      ],
      "id": "z92pJ2bjjXYw"
    },
    {
      "cell_type": "code",
      "source": [
        "context_embedder_predictor.run_pipeline()"
      ],
      "metadata": {
        "colab": {
          "base_uri": "https://localhost:8080/"
        },
        "id": "5q_0b91b2b4a",
        "outputId": "350bcd6f-df92-4e8b-fa5e-d6351f8ac4b3"
      },
      "id": "5q_0b91b2b4a",
      "execution_count": null,
      "outputs": [
        {
          "output_type": "stream",
          "name": "stdout",
          "text": [
            "Embeddings ready \n",
            "\n",
            "Training started... \n",
            "\n",
            "ROC-AUC @ validation for w2m algorithm is 0.5325576191541731\n"
          ]
        }
      ]
    },
    {
      "cell_type": "code",
      "source": [
        "df"
      ],
      "metadata": {
        "colab": {
          "base_uri": "https://localhost:8080/",
          "height": 424
        },
        "id": "jSeAbRoKW2M1",
        "outputId": "3d095c4b-919c-4a1a-80f1-f9b944ffc3f2"
      },
      "id": "jSeAbRoKW2M1",
      "execution_count": null,
      "outputs": [
        {
          "output_type": "execute_result",
          "data": {
            "text/plain": [
              "                                 case_id      stage      stage_datetime\n",
              "0       59f8f1b02a074048ae66485008a516ea   Stage_29 2020-07-28 05:04:15\n",
              "1       59f8f1b02a074048ae66485008a516ea  Stage_148 2020-08-02 01:52:53\n",
              "2       59f8f1b02a074048ae66485008a516ea    Stage_1 2020-08-02 03:51:29\n",
              "3       59f8f1b02a074048ae66485008a516ea   Stage_40 2020-08-02 05:40:56\n",
              "4       59f8f1b02a074048ae66485008a516ea   Stage_60 2020-08-02 05:53:43\n",
              "...                                  ...        ...                 ...\n",
              "894673  773d5dbcd29a452792e65994cb2e931e   Stage_10 2021-07-23 14:32:05\n",
              "894674  773d5dbcd29a452792e65994cb2e931e    Stage_3 2021-07-23 14:37:40\n",
              "894675  773d5dbcd29a452792e65994cb2e931e    Stage_0 2021-07-23 14:54:37\n",
              "894676  773d5dbcd29a452792e65994cb2e931e   Stage_34 2021-07-24 08:26:17\n",
              "894677  773d5dbcd29a452792e65994cb2e931e    Stage_0 2021-08-01 07:32:58\n",
              "\n",
              "[894678 rows x 3 columns]"
            ],
            "text/html": [
              "\n",
              "  <div id=\"df-f0542f81-1bca-4d17-93df-da6e4750718e\">\n",
              "    <div class=\"colab-df-container\">\n",
              "      <div>\n",
              "<style scoped>\n",
              "    .dataframe tbody tr th:only-of-type {\n",
              "        vertical-align: middle;\n",
              "    }\n",
              "\n",
              "    .dataframe tbody tr th {\n",
              "        vertical-align: top;\n",
              "    }\n",
              "\n",
              "    .dataframe thead th {\n",
              "        text-align: right;\n",
              "    }\n",
              "</style>\n",
              "<table border=\"1\" class=\"dataframe\">\n",
              "  <thead>\n",
              "    <tr style=\"text-align: right;\">\n",
              "      <th></th>\n",
              "      <th>case_id</th>\n",
              "      <th>stage</th>\n",
              "      <th>stage_datetime</th>\n",
              "    </tr>\n",
              "  </thead>\n",
              "  <tbody>\n",
              "    <tr>\n",
              "      <th>0</th>\n",
              "      <td>59f8f1b02a074048ae66485008a516ea</td>\n",
              "      <td>Stage_29</td>\n",
              "      <td>2020-07-28 05:04:15</td>\n",
              "    </tr>\n",
              "    <tr>\n",
              "      <th>1</th>\n",
              "      <td>59f8f1b02a074048ae66485008a516ea</td>\n",
              "      <td>Stage_148</td>\n",
              "      <td>2020-08-02 01:52:53</td>\n",
              "    </tr>\n",
              "    <tr>\n",
              "      <th>2</th>\n",
              "      <td>59f8f1b02a074048ae66485008a516ea</td>\n",
              "      <td>Stage_1</td>\n",
              "      <td>2020-08-02 03:51:29</td>\n",
              "    </tr>\n",
              "    <tr>\n",
              "      <th>3</th>\n",
              "      <td>59f8f1b02a074048ae66485008a516ea</td>\n",
              "      <td>Stage_40</td>\n",
              "      <td>2020-08-02 05:40:56</td>\n",
              "    </tr>\n",
              "    <tr>\n",
              "      <th>4</th>\n",
              "      <td>59f8f1b02a074048ae66485008a516ea</td>\n",
              "      <td>Stage_60</td>\n",
              "      <td>2020-08-02 05:53:43</td>\n",
              "    </tr>\n",
              "    <tr>\n",
              "      <th>...</th>\n",
              "      <td>...</td>\n",
              "      <td>...</td>\n",
              "      <td>...</td>\n",
              "    </tr>\n",
              "    <tr>\n",
              "      <th>894673</th>\n",
              "      <td>773d5dbcd29a452792e65994cb2e931e</td>\n",
              "      <td>Stage_10</td>\n",
              "      <td>2021-07-23 14:32:05</td>\n",
              "    </tr>\n",
              "    <tr>\n",
              "      <th>894674</th>\n",
              "      <td>773d5dbcd29a452792e65994cb2e931e</td>\n",
              "      <td>Stage_3</td>\n",
              "      <td>2021-07-23 14:37:40</td>\n",
              "    </tr>\n",
              "    <tr>\n",
              "      <th>894675</th>\n",
              "      <td>773d5dbcd29a452792e65994cb2e931e</td>\n",
              "      <td>Stage_0</td>\n",
              "      <td>2021-07-23 14:54:37</td>\n",
              "    </tr>\n",
              "    <tr>\n",
              "      <th>894676</th>\n",
              "      <td>773d5dbcd29a452792e65994cb2e931e</td>\n",
              "      <td>Stage_34</td>\n",
              "      <td>2021-07-24 08:26:17</td>\n",
              "    </tr>\n",
              "    <tr>\n",
              "      <th>894677</th>\n",
              "      <td>773d5dbcd29a452792e65994cb2e931e</td>\n",
              "      <td>Stage_0</td>\n",
              "      <td>2021-08-01 07:32:58</td>\n",
              "    </tr>\n",
              "  </tbody>\n",
              "</table>\n",
              "<p>894678 rows × 3 columns</p>\n",
              "</div>\n",
              "      <button class=\"colab-df-convert\" onclick=\"convertToInteractive('df-f0542f81-1bca-4d17-93df-da6e4750718e')\"\n",
              "              title=\"Convert this dataframe to an interactive table.\"\n",
              "              style=\"display:none;\">\n",
              "        \n",
              "  <svg xmlns=\"http://www.w3.org/2000/svg\" height=\"24px\"viewBox=\"0 0 24 24\"\n",
              "       width=\"24px\">\n",
              "    <path d=\"M0 0h24v24H0V0z\" fill=\"none\"/>\n",
              "    <path d=\"M18.56 5.44l.94 2.06.94-2.06 2.06-.94-2.06-.94-.94-2.06-.94 2.06-2.06.94zm-11 1L8.5 8.5l.94-2.06 2.06-.94-2.06-.94L8.5 2.5l-.94 2.06-2.06.94zm10 10l.94 2.06.94-2.06 2.06-.94-2.06-.94-.94-2.06-.94 2.06-2.06.94z\"/><path d=\"M17.41 7.96l-1.37-1.37c-.4-.4-.92-.59-1.43-.59-.52 0-1.04.2-1.43.59L10.3 9.45l-7.72 7.72c-.78.78-.78 2.05 0 2.83L4 21.41c.39.39.9.59 1.41.59.51 0 1.02-.2 1.41-.59l7.78-7.78 2.81-2.81c.8-.78.8-2.07 0-2.86zM5.41 20L4 18.59l7.72-7.72 1.47 1.35L5.41 20z\"/>\n",
              "  </svg>\n",
              "      </button>\n",
              "      \n",
              "  <style>\n",
              "    .colab-df-container {\n",
              "      display:flex;\n",
              "      flex-wrap:wrap;\n",
              "      gap: 12px;\n",
              "    }\n",
              "\n",
              "    .colab-df-convert {\n",
              "      background-color: #E8F0FE;\n",
              "      border: none;\n",
              "      border-radius: 50%;\n",
              "      cursor: pointer;\n",
              "      display: none;\n",
              "      fill: #1967D2;\n",
              "      height: 32px;\n",
              "      padding: 0 0 0 0;\n",
              "      width: 32px;\n",
              "    }\n",
              "\n",
              "    .colab-df-convert:hover {\n",
              "      background-color: #E2EBFA;\n",
              "      box-shadow: 0px 1px 2px rgba(60, 64, 67, 0.3), 0px 1px 3px 1px rgba(60, 64, 67, 0.15);\n",
              "      fill: #174EA6;\n",
              "    }\n",
              "\n",
              "    [theme=dark] .colab-df-convert {\n",
              "      background-color: #3B4455;\n",
              "      fill: #D2E3FC;\n",
              "    }\n",
              "\n",
              "    [theme=dark] .colab-df-convert:hover {\n",
              "      background-color: #434B5C;\n",
              "      box-shadow: 0px 1px 3px 1px rgba(0, 0, 0, 0.15);\n",
              "      filter: drop-shadow(0px 1px 2px rgba(0, 0, 0, 0.3));\n",
              "      fill: #FFFFFF;\n",
              "    }\n",
              "  </style>\n",
              "\n",
              "      <script>\n",
              "        const buttonEl =\n",
              "          document.querySelector('#df-f0542f81-1bca-4d17-93df-da6e4750718e button.colab-df-convert');\n",
              "        buttonEl.style.display =\n",
              "          google.colab.kernel.accessAllowed ? 'block' : 'none';\n",
              "\n",
              "        async function convertToInteractive(key) {\n",
              "          const element = document.querySelector('#df-f0542f81-1bca-4d17-93df-da6e4750718e');\n",
              "          const dataTable =\n",
              "            await google.colab.kernel.invokeFunction('convertToInteractive',\n",
              "                                                     [key], {});\n",
              "          if (!dataTable) return;\n",
              "\n",
              "          const docLinkHtml = 'Like what you see? Visit the ' +\n",
              "            '<a target=\"_blank\" href=https://colab.research.google.com/notebooks/data_table.ipynb>data table notebook</a>'\n",
              "            + ' to learn more about interactive tables.';\n",
              "          element.innerHTML = '';\n",
              "          dataTable['output_type'] = 'display_data';\n",
              "          await google.colab.output.renderOutput(dataTable, element);\n",
              "          const docLink = document.createElement('div');\n",
              "          docLink.innerHTML = docLinkHtml;\n",
              "          element.appendChild(docLink);\n",
              "        }\n",
              "      </script>\n",
              "    </div>\n",
              "  </div>\n",
              "  "
            ]
          },
          "metadata": {},
          "execution_count": 277
        }
      ]
    },
    {
      "cell_type": "code",
      "source": [],
      "metadata": {
        "id": "dwt_oxmkfiaO"
      },
      "id": "dwt_oxmkfiaO",
      "execution_count": null,
      "outputs": []
    }
  ],
  "metadata": {
    "kernelspec": {
      "display_name": "py39",
      "language": "python",
      "name": "python3"
    },
    "language_info": {
      "codemirror_mode": {
        "name": "ipython",
        "version": 3
      },
      "file_extension": ".py",
      "mimetype": "text/x-python",
      "name": "python",
      "nbconvert_exporter": "python",
      "pygments_lexer": "ipython3",
      "version": "3.9.7"
    },
    "colab": {
      "provenance": []
    }
  },
  "nbformat": 4,
  "nbformat_minor": 5
}